{
 "cells": [
  {
   "cell_type": "markdown",
   "id": "0809509b",
   "metadata": {},
   "source": [
    "# Lista de ejercicios y guía de trabajo:\n",
    "\n",
    "## Exercici 1\n",
    "\n",
    "Descarrega el dataset adjunt, de registres de publicacions a Facebook sobre Tailàndia, i classifica els diferents registres utilitzant l'algorisme de K-means.\n",
    "\n",
    "Tingues en compte que prèviament et caldrà preparar el dataset.\n",
    "\n",
    "## Exercici 2\n",
    "\n",
    "Classifica els diferents registres utilitzant l'algorisme de clustering jeràrquic.\n",
    "\n",
    "## Exercici 3\n",
    "\n",
    "Calcula el rendiment del clustering mitjançant un paràmetre com pot ser silhouette.\n"
   ]
  },
  {
   "cell_type": "markdown",
   "id": "1ede1e21",
   "metadata": {},
   "source": [
    "# Ejercicio 1\n",
    "\n",
    "## Parte 1 - Carga y preprocesado del dataset"
   ]
  },
  {
   "cell_type": "code",
   "execution_count": 1,
   "id": "fe59d6d5",
   "metadata": {},
   "outputs": [
    {
     "data": {
      "text/html": [
       "<div>\n",
       "<style scoped>\n",
       "    .dataframe tbody tr th:only-of-type {\n",
       "        vertical-align: middle;\n",
       "    }\n",
       "\n",
       "    .dataframe tbody tr th {\n",
       "        vertical-align: top;\n",
       "    }\n",
       "\n",
       "    .dataframe thead th {\n",
       "        text-align: right;\n",
       "    }\n",
       "</style>\n",
       "<table border=\"1\" class=\"dataframe\">\n",
       "  <thead>\n",
       "    <tr style=\"text-align: right;\">\n",
       "      <th></th>\n",
       "      <th>status_id</th>\n",
       "      <th>status_type</th>\n",
       "      <th>status_published</th>\n",
       "      <th>num_reactions</th>\n",
       "      <th>num_comments</th>\n",
       "      <th>num_shares</th>\n",
       "      <th>num_likes</th>\n",
       "      <th>num_loves</th>\n",
       "      <th>num_wows</th>\n",
       "      <th>num_hahas</th>\n",
       "      <th>num_sads</th>\n",
       "      <th>num_angrys</th>\n",
       "      <th>Column1</th>\n",
       "      <th>Column2</th>\n",
       "      <th>Column3</th>\n",
       "      <th>Column4</th>\n",
       "    </tr>\n",
       "  </thead>\n",
       "  <tbody>\n",
       "    <tr>\n",
       "      <th>0</th>\n",
       "      <td>246675545449582_1649696485147474</td>\n",
       "      <td>video</td>\n",
       "      <td>4/22/2018 6:00</td>\n",
       "      <td>529</td>\n",
       "      <td>512</td>\n",
       "      <td>262</td>\n",
       "      <td>432</td>\n",
       "      <td>92</td>\n",
       "      <td>3</td>\n",
       "      <td>1</td>\n",
       "      <td>1</td>\n",
       "      <td>0</td>\n",
       "      <td>NaN</td>\n",
       "      <td>NaN</td>\n",
       "      <td>NaN</td>\n",
       "      <td>NaN</td>\n",
       "    </tr>\n",
       "    <tr>\n",
       "      <th>1</th>\n",
       "      <td>246675545449582_1649426988507757</td>\n",
       "      <td>photo</td>\n",
       "      <td>4/21/2018 22:45</td>\n",
       "      <td>150</td>\n",
       "      <td>0</td>\n",
       "      <td>0</td>\n",
       "      <td>150</td>\n",
       "      <td>0</td>\n",
       "      <td>0</td>\n",
       "      <td>0</td>\n",
       "      <td>0</td>\n",
       "      <td>0</td>\n",
       "      <td>NaN</td>\n",
       "      <td>NaN</td>\n",
       "      <td>NaN</td>\n",
       "      <td>NaN</td>\n",
       "    </tr>\n",
       "    <tr>\n",
       "      <th>2</th>\n",
       "      <td>246675545449582_1648730588577397</td>\n",
       "      <td>video</td>\n",
       "      <td>4/21/2018 6:17</td>\n",
       "      <td>227</td>\n",
       "      <td>236</td>\n",
       "      <td>57</td>\n",
       "      <td>204</td>\n",
       "      <td>21</td>\n",
       "      <td>1</td>\n",
       "      <td>1</td>\n",
       "      <td>0</td>\n",
       "      <td>0</td>\n",
       "      <td>NaN</td>\n",
       "      <td>NaN</td>\n",
       "      <td>NaN</td>\n",
       "      <td>NaN</td>\n",
       "    </tr>\n",
       "    <tr>\n",
       "      <th>3</th>\n",
       "      <td>246675545449582_1648576705259452</td>\n",
       "      <td>photo</td>\n",
       "      <td>4/21/2018 2:29</td>\n",
       "      <td>111</td>\n",
       "      <td>0</td>\n",
       "      <td>0</td>\n",
       "      <td>111</td>\n",
       "      <td>0</td>\n",
       "      <td>0</td>\n",
       "      <td>0</td>\n",
       "      <td>0</td>\n",
       "      <td>0</td>\n",
       "      <td>NaN</td>\n",
       "      <td>NaN</td>\n",
       "      <td>NaN</td>\n",
       "      <td>NaN</td>\n",
       "    </tr>\n",
       "    <tr>\n",
       "      <th>4</th>\n",
       "      <td>246675545449582_1645700502213739</td>\n",
       "      <td>photo</td>\n",
       "      <td>4/18/2018 3:22</td>\n",
       "      <td>213</td>\n",
       "      <td>0</td>\n",
       "      <td>0</td>\n",
       "      <td>204</td>\n",
       "      <td>9</td>\n",
       "      <td>0</td>\n",
       "      <td>0</td>\n",
       "      <td>0</td>\n",
       "      <td>0</td>\n",
       "      <td>NaN</td>\n",
       "      <td>NaN</td>\n",
       "      <td>NaN</td>\n",
       "      <td>NaN</td>\n",
       "    </tr>\n",
       "  </tbody>\n",
       "</table>\n",
       "</div>"
      ],
      "text/plain": [
       "                          status_id status_type status_published  \\\n",
       "0  246675545449582_1649696485147474       video   4/22/2018 6:00   \n",
       "1  246675545449582_1649426988507757       photo  4/21/2018 22:45   \n",
       "2  246675545449582_1648730588577397       video   4/21/2018 6:17   \n",
       "3  246675545449582_1648576705259452       photo   4/21/2018 2:29   \n",
       "4  246675545449582_1645700502213739       photo   4/18/2018 3:22   \n",
       "\n",
       "   num_reactions  num_comments  num_shares  num_likes  num_loves  num_wows  \\\n",
       "0            529           512         262        432         92         3   \n",
       "1            150             0           0        150          0         0   \n",
       "2            227           236          57        204         21         1   \n",
       "3            111             0           0        111          0         0   \n",
       "4            213             0           0        204          9         0   \n",
       "\n",
       "   num_hahas  num_sads  num_angrys  Column1  Column2  Column3  Column4  \n",
       "0          1         1           0      NaN      NaN      NaN      NaN  \n",
       "1          0         0           0      NaN      NaN      NaN      NaN  \n",
       "2          1         0           0      NaN      NaN      NaN      NaN  \n",
       "3          0         0           0      NaN      NaN      NaN      NaN  \n",
       "4          0         0           0      NaN      NaN      NaN      NaN  "
      ]
     },
     "execution_count": 1,
     "metadata": {},
     "output_type": "execute_result"
    }
   ],
   "source": [
    "import pandas as pd\n",
    "import numpy as np\n",
    "\n",
    "thai = pd.read_csv(\"Facebook_thai.csv\", sep=\",\") #el separador es una coma\n",
    "\n",
    "thai.head()"
   ]
  },
  {
   "cell_type": "code",
   "execution_count": 2,
   "id": "7400bc02",
   "metadata": {},
   "outputs": [
    {
     "name": "stdout",
     "output_type": "stream",
     "text": [
      "<class 'pandas.core.frame.DataFrame'>\n",
      "RangeIndex: 7050 entries, 0 to 7049\n",
      "Data columns (total 16 columns):\n",
      " #   Column            Non-Null Count  Dtype  \n",
      "---  ------            --------------  -----  \n",
      " 0   status_id         7050 non-null   object \n",
      " 1   status_type       7050 non-null   object \n",
      " 2   status_published  7050 non-null   object \n",
      " 3   num_reactions     7050 non-null   int64  \n",
      " 4   num_comments      7050 non-null   int64  \n",
      " 5   num_shares        7050 non-null   int64  \n",
      " 6   num_likes         7050 non-null   int64  \n",
      " 7   num_loves         7050 non-null   int64  \n",
      " 8   num_wows          7050 non-null   int64  \n",
      " 9   num_hahas         7050 non-null   int64  \n",
      " 10  num_sads          7050 non-null   int64  \n",
      " 11  num_angrys        7050 non-null   int64  \n",
      " 12  Column1           0 non-null      float64\n",
      " 13  Column2           0 non-null      float64\n",
      " 14  Column3           0 non-null      float64\n",
      " 15  Column4           0 non-null      float64\n",
      "dtypes: float64(4), int64(9), object(3)\n",
      "memory usage: 881.4+ KB\n"
     ]
    }
   ],
   "source": [
    "thai.info()"
   ]
  },
  {
   "cell_type": "markdown",
   "id": "f059985e",
   "metadata": {},
   "source": [
    "Observo varias cosas: \n",
    "- En primer lugar, aparecen 4 columnas al final que no contienen ninguna información. \n",
    "- En segundo lugar, en status published, se recogen al mismo tiempo la hora y la fecha (y se registra como un objeto). \n",
    "\n",
    "Antes de proceder con la estandarización de los datos, vamos a solucionar esos problemas"
   ]
  },
  {
   "cell_type": "code",
   "execution_count": 3,
   "id": "e316de69",
   "metadata": {},
   "outputs": [
    {
     "data": {
      "text/html": [
       "<div>\n",
       "<style scoped>\n",
       "    .dataframe tbody tr th:only-of-type {\n",
       "        vertical-align: middle;\n",
       "    }\n",
       "\n",
       "    .dataframe tbody tr th {\n",
       "        vertical-align: top;\n",
       "    }\n",
       "\n",
       "    .dataframe thead th {\n",
       "        text-align: right;\n",
       "    }\n",
       "</style>\n",
       "<table border=\"1\" class=\"dataframe\">\n",
       "  <thead>\n",
       "    <tr style=\"text-align: right;\">\n",
       "      <th></th>\n",
       "      <th>status_id</th>\n",
       "      <th>status_type</th>\n",
       "      <th>status_published</th>\n",
       "      <th>num_reactions</th>\n",
       "      <th>num_comments</th>\n",
       "      <th>num_shares</th>\n",
       "      <th>num_likes</th>\n",
       "      <th>num_loves</th>\n",
       "      <th>num_wows</th>\n",
       "      <th>num_hahas</th>\n",
       "      <th>num_sads</th>\n",
       "      <th>num_angrys</th>\n",
       "    </tr>\n",
       "  </thead>\n",
       "  <tbody>\n",
       "    <tr>\n",
       "      <th>0</th>\n",
       "      <td>246675545449582_1649696485147474</td>\n",
       "      <td>video</td>\n",
       "      <td>4/22/2018 6:00</td>\n",
       "      <td>529</td>\n",
       "      <td>512</td>\n",
       "      <td>262</td>\n",
       "      <td>432</td>\n",
       "      <td>92</td>\n",
       "      <td>3</td>\n",
       "      <td>1</td>\n",
       "      <td>1</td>\n",
       "      <td>0</td>\n",
       "    </tr>\n",
       "    <tr>\n",
       "      <th>1</th>\n",
       "      <td>246675545449582_1649426988507757</td>\n",
       "      <td>photo</td>\n",
       "      <td>4/21/2018 22:45</td>\n",
       "      <td>150</td>\n",
       "      <td>0</td>\n",
       "      <td>0</td>\n",
       "      <td>150</td>\n",
       "      <td>0</td>\n",
       "      <td>0</td>\n",
       "      <td>0</td>\n",
       "      <td>0</td>\n",
       "      <td>0</td>\n",
       "    </tr>\n",
       "    <tr>\n",
       "      <th>2</th>\n",
       "      <td>246675545449582_1648730588577397</td>\n",
       "      <td>video</td>\n",
       "      <td>4/21/2018 6:17</td>\n",
       "      <td>227</td>\n",
       "      <td>236</td>\n",
       "      <td>57</td>\n",
       "      <td>204</td>\n",
       "      <td>21</td>\n",
       "      <td>1</td>\n",
       "      <td>1</td>\n",
       "      <td>0</td>\n",
       "      <td>0</td>\n",
       "    </tr>\n",
       "    <tr>\n",
       "      <th>3</th>\n",
       "      <td>246675545449582_1648576705259452</td>\n",
       "      <td>photo</td>\n",
       "      <td>4/21/2018 2:29</td>\n",
       "      <td>111</td>\n",
       "      <td>0</td>\n",
       "      <td>0</td>\n",
       "      <td>111</td>\n",
       "      <td>0</td>\n",
       "      <td>0</td>\n",
       "      <td>0</td>\n",
       "      <td>0</td>\n",
       "      <td>0</td>\n",
       "    </tr>\n",
       "    <tr>\n",
       "      <th>4</th>\n",
       "      <td>246675545449582_1645700502213739</td>\n",
       "      <td>photo</td>\n",
       "      <td>4/18/2018 3:22</td>\n",
       "      <td>213</td>\n",
       "      <td>0</td>\n",
       "      <td>0</td>\n",
       "      <td>204</td>\n",
       "      <td>9</td>\n",
       "      <td>0</td>\n",
       "      <td>0</td>\n",
       "      <td>0</td>\n",
       "      <td>0</td>\n",
       "    </tr>\n",
       "  </tbody>\n",
       "</table>\n",
       "</div>"
      ],
      "text/plain": [
       "                          status_id status_type status_published  \\\n",
       "0  246675545449582_1649696485147474       video   4/22/2018 6:00   \n",
       "1  246675545449582_1649426988507757       photo  4/21/2018 22:45   \n",
       "2  246675545449582_1648730588577397       video   4/21/2018 6:17   \n",
       "3  246675545449582_1648576705259452       photo   4/21/2018 2:29   \n",
       "4  246675545449582_1645700502213739       photo   4/18/2018 3:22   \n",
       "\n",
       "   num_reactions  num_comments  num_shares  num_likes  num_loves  num_wows  \\\n",
       "0            529           512         262        432         92         3   \n",
       "1            150             0           0        150          0         0   \n",
       "2            227           236          57        204         21         1   \n",
       "3            111             0           0        111          0         0   \n",
       "4            213             0           0        204          9         0   \n",
       "\n",
       "   num_hahas  num_sads  num_angrys  \n",
       "0          1         1           0  \n",
       "1          0         0           0  \n",
       "2          1         0           0  \n",
       "3          0         0           0  \n",
       "4          0         0           0  "
      ]
     },
     "execution_count": 3,
     "metadata": {},
     "output_type": "execute_result"
    }
   ],
   "source": [
    "thai = thai.drop(columns=['Column1', 'Column2', 'Column3','Column4']) #elimino las columnas innecesarias\n",
    "\n",
    "thai.head()"
   ]
  },
  {
   "cell_type": "markdown",
   "id": "336c801c",
   "metadata": {},
   "source": [
    "Columnas eliminadas Ahora voy a dividir la información contenida en la columna \"status published\". \n",
    "\n",
    "Para ello, en un primer lugar pasaré de un tipo objeto a un tipo fecha (daytime64)"
   ]
  },
  {
   "cell_type": "code",
   "execution_count": 4,
   "id": "90377b18",
   "metadata": {},
   "outputs": [],
   "source": [
    "from datetime import datetime \n",
    "\n",
    "thai['status_published'] = pd.to_datetime(thai['status_published'])"
   ]
  },
  {
   "cell_type": "code",
   "execution_count": 5,
   "id": "8beca585",
   "metadata": {},
   "outputs": [
    {
     "name": "stdout",
     "output_type": "stream",
     "text": [
      "<class 'pandas.core.frame.DataFrame'>\n",
      "RangeIndex: 7050 entries, 0 to 7049\n",
      "Data columns (total 12 columns):\n",
      " #   Column            Non-Null Count  Dtype         \n",
      "---  ------            --------------  -----         \n",
      " 0   status_id         7050 non-null   object        \n",
      " 1   status_type       7050 non-null   object        \n",
      " 2   status_published  7050 non-null   datetime64[ns]\n",
      " 3   num_reactions     7050 non-null   int64         \n",
      " 4   num_comments      7050 non-null   int64         \n",
      " 5   num_shares        7050 non-null   int64         \n",
      " 6   num_likes         7050 non-null   int64         \n",
      " 7   num_loves         7050 non-null   int64         \n",
      " 8   num_wows          7050 non-null   int64         \n",
      " 9   num_hahas         7050 non-null   int64         \n",
      " 10  num_sads          7050 non-null   int64         \n",
      " 11  num_angrys        7050 non-null   int64         \n",
      "dtypes: datetime64[ns](1), int64(9), object(2)\n",
      "memory usage: 661.1+ KB\n"
     ]
    }
   ],
   "source": [
    "thai.info()"
   ]
  },
  {
   "cell_type": "markdown",
   "id": "a3a4df3a",
   "metadata": {},
   "source": [
    "De cara a analizar los datos, considero que es más útil tener por **separado la hora y el día** en la que se realizaron las publicaciones. Por ejemplo, podría ser que algunas horas del día fueran más favorables para las publicaciones, independientemente del día en que se publicaron.\n",
    "\n",
    "Por tanto, crearé dos nuevas columnas:"
   ]
  },
  {
   "cell_type": "code",
   "execution_count": 6,
   "id": "273bc217",
   "metadata": {},
   "outputs": [
    {
     "name": "stdout",
     "output_type": "stream",
     "text": [
      "<class 'pandas.core.frame.DataFrame'>\n",
      "RangeIndex: 7050 entries, 0 to 7049\n",
      "Data columns (total 14 columns):\n",
      " #   Column            Non-Null Count  Dtype         \n",
      "---  ------            --------------  -----         \n",
      " 0   status_id         7050 non-null   object        \n",
      " 1   status_type       7050 non-null   object        \n",
      " 2   status_published  7050 non-null   datetime64[ns]\n",
      " 3   num_reactions     7050 non-null   int64         \n",
      " 4   num_comments      7050 non-null   int64         \n",
      " 5   num_shares        7050 non-null   int64         \n",
      " 6   num_likes         7050 non-null   int64         \n",
      " 7   num_loves         7050 non-null   int64         \n",
      " 8   num_wows          7050 non-null   int64         \n",
      " 9   num_hahas         7050 non-null   int64         \n",
      " 10  num_sads          7050 non-null   int64         \n",
      " 11  num_angrys        7050 non-null   int64         \n",
      " 12  fecha             7050 non-null   object        \n",
      " 13  hora              7050 non-null   object        \n",
      "dtypes: datetime64[ns](1), int64(9), object(4)\n",
      "memory usage: 771.2+ KB\n"
     ]
    },
    {
     "data": {
      "text/html": [
       "<div>\n",
       "<style scoped>\n",
       "    .dataframe tbody tr th:only-of-type {\n",
       "        vertical-align: middle;\n",
       "    }\n",
       "\n",
       "    .dataframe tbody tr th {\n",
       "        vertical-align: top;\n",
       "    }\n",
       "\n",
       "    .dataframe thead th {\n",
       "        text-align: right;\n",
       "    }\n",
       "</style>\n",
       "<table border=\"1\" class=\"dataframe\">\n",
       "  <thead>\n",
       "    <tr style=\"text-align: right;\">\n",
       "      <th></th>\n",
       "      <th>status_id</th>\n",
       "      <th>status_type</th>\n",
       "      <th>status_published</th>\n",
       "      <th>num_reactions</th>\n",
       "      <th>num_comments</th>\n",
       "      <th>num_shares</th>\n",
       "      <th>num_likes</th>\n",
       "      <th>num_loves</th>\n",
       "      <th>num_wows</th>\n",
       "      <th>num_hahas</th>\n",
       "      <th>num_sads</th>\n",
       "      <th>num_angrys</th>\n",
       "      <th>fecha</th>\n",
       "      <th>hora</th>\n",
       "    </tr>\n",
       "  </thead>\n",
       "  <tbody>\n",
       "    <tr>\n",
       "      <th>0</th>\n",
       "      <td>246675545449582_1649696485147474</td>\n",
       "      <td>video</td>\n",
       "      <td>2018-04-22 06:00:00</td>\n",
       "      <td>529</td>\n",
       "      <td>512</td>\n",
       "      <td>262</td>\n",
       "      <td>432</td>\n",
       "      <td>92</td>\n",
       "      <td>3</td>\n",
       "      <td>1</td>\n",
       "      <td>1</td>\n",
       "      <td>0</td>\n",
       "      <td>22/04/2018</td>\n",
       "      <td>06:00</td>\n",
       "    </tr>\n",
       "    <tr>\n",
       "      <th>1</th>\n",
       "      <td>246675545449582_1649426988507757</td>\n",
       "      <td>photo</td>\n",
       "      <td>2018-04-21 22:45:00</td>\n",
       "      <td>150</td>\n",
       "      <td>0</td>\n",
       "      <td>0</td>\n",
       "      <td>150</td>\n",
       "      <td>0</td>\n",
       "      <td>0</td>\n",
       "      <td>0</td>\n",
       "      <td>0</td>\n",
       "      <td>0</td>\n",
       "      <td>21/04/2018</td>\n",
       "      <td>22:45</td>\n",
       "    </tr>\n",
       "    <tr>\n",
       "      <th>2</th>\n",
       "      <td>246675545449582_1648730588577397</td>\n",
       "      <td>video</td>\n",
       "      <td>2018-04-21 06:17:00</td>\n",
       "      <td>227</td>\n",
       "      <td>236</td>\n",
       "      <td>57</td>\n",
       "      <td>204</td>\n",
       "      <td>21</td>\n",
       "      <td>1</td>\n",
       "      <td>1</td>\n",
       "      <td>0</td>\n",
       "      <td>0</td>\n",
       "      <td>21/04/2018</td>\n",
       "      <td>06:17</td>\n",
       "    </tr>\n",
       "    <tr>\n",
       "      <th>3</th>\n",
       "      <td>246675545449582_1648576705259452</td>\n",
       "      <td>photo</td>\n",
       "      <td>2018-04-21 02:29:00</td>\n",
       "      <td>111</td>\n",
       "      <td>0</td>\n",
       "      <td>0</td>\n",
       "      <td>111</td>\n",
       "      <td>0</td>\n",
       "      <td>0</td>\n",
       "      <td>0</td>\n",
       "      <td>0</td>\n",
       "      <td>0</td>\n",
       "      <td>21/04/2018</td>\n",
       "      <td>02:29</td>\n",
       "    </tr>\n",
       "    <tr>\n",
       "      <th>4</th>\n",
       "      <td>246675545449582_1645700502213739</td>\n",
       "      <td>photo</td>\n",
       "      <td>2018-04-18 03:22:00</td>\n",
       "      <td>213</td>\n",
       "      <td>0</td>\n",
       "      <td>0</td>\n",
       "      <td>204</td>\n",
       "      <td>9</td>\n",
       "      <td>0</td>\n",
       "      <td>0</td>\n",
       "      <td>0</td>\n",
       "      <td>0</td>\n",
       "      <td>18/04/2018</td>\n",
       "      <td>03:22</td>\n",
       "    </tr>\n",
       "  </tbody>\n",
       "</table>\n",
       "</div>"
      ],
      "text/plain": [
       "                          status_id status_type    status_published  \\\n",
       "0  246675545449582_1649696485147474       video 2018-04-22 06:00:00   \n",
       "1  246675545449582_1649426988507757       photo 2018-04-21 22:45:00   \n",
       "2  246675545449582_1648730588577397       video 2018-04-21 06:17:00   \n",
       "3  246675545449582_1648576705259452       photo 2018-04-21 02:29:00   \n",
       "4  246675545449582_1645700502213739       photo 2018-04-18 03:22:00   \n",
       "\n",
       "   num_reactions  num_comments  num_shares  num_likes  num_loves  num_wows  \\\n",
       "0            529           512         262        432         92         3   \n",
       "1            150             0           0        150          0         0   \n",
       "2            227           236          57        204         21         1   \n",
       "3            111             0           0        111          0         0   \n",
       "4            213             0           0        204          9         0   \n",
       "\n",
       "   num_hahas  num_sads  num_angrys       fecha   hora  \n",
       "0          1         1           0  22/04/2018  06:00  \n",
       "1          0         0           0  21/04/2018  22:45  \n",
       "2          1         0           0  21/04/2018  06:17  \n",
       "3          0         0           0  21/04/2018  02:29  \n",
       "4          0         0           0  18/04/2018  03:22  "
      ]
     },
     "execution_count": 6,
     "metadata": {},
     "output_type": "execute_result"
    }
   ],
   "source": [
    "thai['fecha'] = pd.to_datetime(thai['status_published']).dt.strftime('%d/%m/%Y') #uso .dt. Esta columna tendrá la fecha\n",
    "thai['hora'] = pd.to_datetime(thai['status_published']).dt.strftime('%H:%M') #Y esta columna tendrá la hora\n",
    "\n",
    "thai.info()\n",
    "thai.head()"
   ]
  },
  {
   "cell_type": "code",
   "execution_count": 7,
   "id": "9ed80c42",
   "metadata": {},
   "outputs": [
    {
     "name": "stdout",
     "output_type": "stream",
     "text": [
      "<class 'pandas.core.frame.DataFrame'>\n",
      "RangeIndex: 7050 entries, 0 to 7049\n",
      "Data columns (total 14 columns):\n",
      " #   Column            Non-Null Count  Dtype         \n",
      "---  ------            --------------  -----         \n",
      " 0   status_id         7050 non-null   object        \n",
      " 1   status_type       7050 non-null   object        \n",
      " 2   status_published  7050 non-null   datetime64[ns]\n",
      " 3   num_reactions     7050 non-null   int64         \n",
      " 4   num_comments      7050 non-null   int64         \n",
      " 5   num_shares        7050 non-null   int64         \n",
      " 6   num_likes         7050 non-null   int64         \n",
      " 7   num_loves         7050 non-null   int64         \n",
      " 8   num_wows          7050 non-null   int64         \n",
      " 9   num_hahas         7050 non-null   int64         \n",
      " 10  num_sads          7050 non-null   int64         \n",
      " 11  num_angrys        7050 non-null   int64         \n",
      " 12  fecha             7050 non-null   datetime64[ns]\n",
      " 13  hora              7050 non-null   object        \n",
      "dtypes: datetime64[ns](2), int64(9), object(3)\n",
      "memory usage: 771.2+ KB\n"
     ]
    }
   ],
   "source": [
    "thai['fecha'] = pd.to_datetime(thai['fecha'], infer_datetime_format=True) #transformo la fecha a formato datetime64\n",
    "thai.info()"
   ]
  },
  {
   "cell_type": "code",
   "execution_count": 8,
   "id": "ab041219",
   "metadata": {},
   "outputs": [
    {
     "data": {
      "text/html": [
       "<div>\n",
       "<style scoped>\n",
       "    .dataframe tbody tr th:only-of-type {\n",
       "        vertical-align: middle;\n",
       "    }\n",
       "\n",
       "    .dataframe tbody tr th {\n",
       "        vertical-align: top;\n",
       "    }\n",
       "\n",
       "    .dataframe thead th {\n",
       "        text-align: right;\n",
       "    }\n",
       "</style>\n",
       "<table border=\"1\" class=\"dataframe\">\n",
       "  <thead>\n",
       "    <tr style=\"text-align: right;\">\n",
       "      <th></th>\n",
       "      <th>status_id</th>\n",
       "      <th>status_type</th>\n",
       "      <th>status_published</th>\n",
       "      <th>num_reactions</th>\n",
       "      <th>num_comments</th>\n",
       "      <th>num_shares</th>\n",
       "      <th>num_likes</th>\n",
       "      <th>num_loves</th>\n",
       "      <th>num_wows</th>\n",
       "      <th>num_hahas</th>\n",
       "      <th>num_sads</th>\n",
       "      <th>num_angrys</th>\n",
       "      <th>fecha</th>\n",
       "      <th>hora</th>\n",
       "    </tr>\n",
       "  </thead>\n",
       "  <tbody>\n",
       "    <tr>\n",
       "      <th>0</th>\n",
       "      <td>246675545449582_1649696485147474</td>\n",
       "      <td>video</td>\n",
       "      <td>2018-04-22 06:00:00</td>\n",
       "      <td>529</td>\n",
       "      <td>512</td>\n",
       "      <td>262</td>\n",
       "      <td>432</td>\n",
       "      <td>92</td>\n",
       "      <td>3</td>\n",
       "      <td>1</td>\n",
       "      <td>1</td>\n",
       "      <td>0</td>\n",
       "      <td>2018-04-22</td>\n",
       "      <td>06:00</td>\n",
       "    </tr>\n",
       "    <tr>\n",
       "      <th>1</th>\n",
       "      <td>246675545449582_1649426988507757</td>\n",
       "      <td>photo</td>\n",
       "      <td>2018-04-21 22:45:00</td>\n",
       "      <td>150</td>\n",
       "      <td>0</td>\n",
       "      <td>0</td>\n",
       "      <td>150</td>\n",
       "      <td>0</td>\n",
       "      <td>0</td>\n",
       "      <td>0</td>\n",
       "      <td>0</td>\n",
       "      <td>0</td>\n",
       "      <td>2018-04-21</td>\n",
       "      <td>22:45</td>\n",
       "    </tr>\n",
       "    <tr>\n",
       "      <th>2</th>\n",
       "      <td>246675545449582_1648730588577397</td>\n",
       "      <td>video</td>\n",
       "      <td>2018-04-21 06:17:00</td>\n",
       "      <td>227</td>\n",
       "      <td>236</td>\n",
       "      <td>57</td>\n",
       "      <td>204</td>\n",
       "      <td>21</td>\n",
       "      <td>1</td>\n",
       "      <td>1</td>\n",
       "      <td>0</td>\n",
       "      <td>0</td>\n",
       "      <td>2018-04-21</td>\n",
       "      <td>06:17</td>\n",
       "    </tr>\n",
       "    <tr>\n",
       "      <th>3</th>\n",
       "      <td>246675545449582_1648576705259452</td>\n",
       "      <td>photo</td>\n",
       "      <td>2018-04-21 02:29:00</td>\n",
       "      <td>111</td>\n",
       "      <td>0</td>\n",
       "      <td>0</td>\n",
       "      <td>111</td>\n",
       "      <td>0</td>\n",
       "      <td>0</td>\n",
       "      <td>0</td>\n",
       "      <td>0</td>\n",
       "      <td>0</td>\n",
       "      <td>2018-04-21</td>\n",
       "      <td>02:29</td>\n",
       "    </tr>\n",
       "    <tr>\n",
       "      <th>4</th>\n",
       "      <td>246675545449582_1645700502213739</td>\n",
       "      <td>photo</td>\n",
       "      <td>2018-04-18 03:22:00</td>\n",
       "      <td>213</td>\n",
       "      <td>0</td>\n",
       "      <td>0</td>\n",
       "      <td>204</td>\n",
       "      <td>9</td>\n",
       "      <td>0</td>\n",
       "      <td>0</td>\n",
       "      <td>0</td>\n",
       "      <td>0</td>\n",
       "      <td>2018-04-18</td>\n",
       "      <td>03:22</td>\n",
       "    </tr>\n",
       "  </tbody>\n",
       "</table>\n",
       "</div>"
      ],
      "text/plain": [
       "                          status_id status_type    status_published  \\\n",
       "0  246675545449582_1649696485147474       video 2018-04-22 06:00:00   \n",
       "1  246675545449582_1649426988507757       photo 2018-04-21 22:45:00   \n",
       "2  246675545449582_1648730588577397       video 2018-04-21 06:17:00   \n",
       "3  246675545449582_1648576705259452       photo 2018-04-21 02:29:00   \n",
       "4  246675545449582_1645700502213739       photo 2018-04-18 03:22:00   \n",
       "\n",
       "   num_reactions  num_comments  num_shares  num_likes  num_loves  num_wows  \\\n",
       "0            529           512         262        432         92         3   \n",
       "1            150             0           0        150          0         0   \n",
       "2            227           236          57        204         21         1   \n",
       "3            111             0           0        111          0         0   \n",
       "4            213             0           0        204          9         0   \n",
       "\n",
       "   num_hahas  num_sads  num_angrys      fecha   hora  \n",
       "0          1         1           0 2018-04-22  06:00  \n",
       "1          0         0           0 2018-04-21  22:45  \n",
       "2          1         0           0 2018-04-21  06:17  \n",
       "3          0         0           0 2018-04-21  02:29  \n",
       "4          0         0           0 2018-04-18  03:22  "
      ]
     },
     "execution_count": 8,
     "metadata": {},
     "output_type": "execute_result"
    }
   ],
   "source": [
    "thai.head()"
   ]
  },
  {
   "cell_type": "markdown",
   "id": "c8671a5d",
   "metadata": {},
   "source": [
    "Para facilitar los análisis, voy a pasar estas dos nuevas columnas a formato int. Para ello tendré que hacer algunas transformaciones adicionales:"
   ]
  },
  {
   "cell_type": "code",
   "execution_count": 9,
   "id": "460d8557",
   "metadata": {},
   "outputs": [
    {
     "name": "stdout",
     "output_type": "stream",
     "text": [
      "<class 'pandas.core.frame.DataFrame'>\n",
      "RangeIndex: 7050 entries, 0 to 7049\n",
      "Data columns (total 14 columns):\n",
      " #   Column            Non-Null Count  Dtype         \n",
      "---  ------            --------------  -----         \n",
      " 0   status_id         7050 non-null   object        \n",
      " 1   status_type       7050 non-null   object        \n",
      " 2   status_published  7050 non-null   datetime64[ns]\n",
      " 3   num_reactions     7050 non-null   int64         \n",
      " 4   num_comments      7050 non-null   int64         \n",
      " 5   num_shares        7050 non-null   int64         \n",
      " 6   num_likes         7050 non-null   int64         \n",
      " 7   num_loves         7050 non-null   int64         \n",
      " 8   num_wows          7050 non-null   int64         \n",
      " 9   num_hahas         7050 non-null   int64         \n",
      " 10  num_sads          7050 non-null   int64         \n",
      " 11  num_angrys        7050 non-null   int64         \n",
      " 12  fecha             7050 non-null   datetime64[ns]\n",
      " 13  hora              7050 non-null   int64         \n",
      "dtypes: datetime64[ns](2), int64(10), object(2)\n",
      "memory usage: 771.2+ KB\n"
     ]
    }
   ],
   "source": [
    "thai['hora']=thai['hora'].str.replace(':','') #Extraigo los dos puntos de la columna hora\n",
    "thai['hora'] = thai['hora'].astype('int64') #Convierto ese mismo número en un int\n",
    "thai.head()\n",
    "thai.info()"
   ]
  },
  {
   "cell_type": "code",
   "execution_count": 10,
   "id": "5dc16f38",
   "metadata": {},
   "outputs": [
    {
     "data": {
      "text/html": [
       "<div>\n",
       "<style scoped>\n",
       "    .dataframe tbody tr th:only-of-type {\n",
       "        vertical-align: middle;\n",
       "    }\n",
       "\n",
       "    .dataframe tbody tr th {\n",
       "        vertical-align: top;\n",
       "    }\n",
       "\n",
       "    .dataframe thead th {\n",
       "        text-align: right;\n",
       "    }\n",
       "</style>\n",
       "<table border=\"1\" class=\"dataframe\">\n",
       "  <thead>\n",
       "    <tr style=\"text-align: right;\">\n",
       "      <th></th>\n",
       "      <th>status_id</th>\n",
       "      <th>status_type</th>\n",
       "      <th>status_published</th>\n",
       "      <th>num_reactions</th>\n",
       "      <th>num_comments</th>\n",
       "      <th>num_shares</th>\n",
       "      <th>num_likes</th>\n",
       "      <th>num_loves</th>\n",
       "      <th>num_wows</th>\n",
       "      <th>num_hahas</th>\n",
       "      <th>num_sads</th>\n",
       "      <th>num_angrys</th>\n",
       "      <th>fecha</th>\n",
       "      <th>hora</th>\n",
       "    </tr>\n",
       "  </thead>\n",
       "  <tbody>\n",
       "    <tr>\n",
       "      <th>0</th>\n",
       "      <td>246675545449582_1649696485147474</td>\n",
       "      <td>video</td>\n",
       "      <td>2018-04-22 06:00:00</td>\n",
       "      <td>529</td>\n",
       "      <td>512</td>\n",
       "      <td>262</td>\n",
       "      <td>432</td>\n",
       "      <td>92</td>\n",
       "      <td>3</td>\n",
       "      <td>1</td>\n",
       "      <td>1</td>\n",
       "      <td>0</td>\n",
       "      <td>1524355200</td>\n",
       "      <td>600</td>\n",
       "    </tr>\n",
       "    <tr>\n",
       "      <th>1</th>\n",
       "      <td>246675545449582_1649426988507757</td>\n",
       "      <td>photo</td>\n",
       "      <td>2018-04-21 22:45:00</td>\n",
       "      <td>150</td>\n",
       "      <td>0</td>\n",
       "      <td>0</td>\n",
       "      <td>150</td>\n",
       "      <td>0</td>\n",
       "      <td>0</td>\n",
       "      <td>0</td>\n",
       "      <td>0</td>\n",
       "      <td>0</td>\n",
       "      <td>1524268800</td>\n",
       "      <td>2245</td>\n",
       "    </tr>\n",
       "    <tr>\n",
       "      <th>2</th>\n",
       "      <td>246675545449582_1648730588577397</td>\n",
       "      <td>video</td>\n",
       "      <td>2018-04-21 06:17:00</td>\n",
       "      <td>227</td>\n",
       "      <td>236</td>\n",
       "      <td>57</td>\n",
       "      <td>204</td>\n",
       "      <td>21</td>\n",
       "      <td>1</td>\n",
       "      <td>1</td>\n",
       "      <td>0</td>\n",
       "      <td>0</td>\n",
       "      <td>1524268800</td>\n",
       "      <td>617</td>\n",
       "    </tr>\n",
       "    <tr>\n",
       "      <th>3</th>\n",
       "      <td>246675545449582_1648576705259452</td>\n",
       "      <td>photo</td>\n",
       "      <td>2018-04-21 02:29:00</td>\n",
       "      <td>111</td>\n",
       "      <td>0</td>\n",
       "      <td>0</td>\n",
       "      <td>111</td>\n",
       "      <td>0</td>\n",
       "      <td>0</td>\n",
       "      <td>0</td>\n",
       "      <td>0</td>\n",
       "      <td>0</td>\n",
       "      <td>1524268800</td>\n",
       "      <td>229</td>\n",
       "    </tr>\n",
       "    <tr>\n",
       "      <th>4</th>\n",
       "      <td>246675545449582_1645700502213739</td>\n",
       "      <td>photo</td>\n",
       "      <td>2018-04-18 03:22:00</td>\n",
       "      <td>213</td>\n",
       "      <td>0</td>\n",
       "      <td>0</td>\n",
       "      <td>204</td>\n",
       "      <td>9</td>\n",
       "      <td>0</td>\n",
       "      <td>0</td>\n",
       "      <td>0</td>\n",
       "      <td>0</td>\n",
       "      <td>1524009600</td>\n",
       "      <td>322</td>\n",
       "    </tr>\n",
       "  </tbody>\n",
       "</table>\n",
       "</div>"
      ],
      "text/plain": [
       "                          status_id status_type    status_published  \\\n",
       "0  246675545449582_1649696485147474       video 2018-04-22 06:00:00   \n",
       "1  246675545449582_1649426988507757       photo 2018-04-21 22:45:00   \n",
       "2  246675545449582_1648730588577397       video 2018-04-21 06:17:00   \n",
       "3  246675545449582_1648576705259452       photo 2018-04-21 02:29:00   \n",
       "4  246675545449582_1645700502213739       photo 2018-04-18 03:22:00   \n",
       "\n",
       "   num_reactions  num_comments  num_shares  num_likes  num_loves  num_wows  \\\n",
       "0            529           512         262        432         92         3   \n",
       "1            150             0           0        150          0         0   \n",
       "2            227           236          57        204         21         1   \n",
       "3            111             0           0        111          0         0   \n",
       "4            213             0           0        204          9         0   \n",
       "\n",
       "   num_hahas  num_sads  num_angrys       fecha  hora  \n",
       "0          1         1           0  1524355200   600  \n",
       "1          0         0           0  1524268800  2245  \n",
       "2          1         0           0  1524268800   617  \n",
       "3          0         0           0  1524268800   229  \n",
       "4          0         0           0  1524009600   322  "
      ]
     },
     "execution_count": 10,
     "metadata": {},
     "output_type": "execute_result"
    }
   ],
   "source": [
    "thai[\"fecha\"] = thai[\"fecha\"].values.astype(np.int64) // 10 ** 9 #Lo paso a formato Unix epoch\n",
    "#Este tipo de formato cuenta los segundos que han pasado desde una fecha referencia (1-1-1970)\n",
    "thai.head()"
   ]
  },
  {
   "cell_type": "code",
   "execution_count": 11,
   "id": "8d02aeb4",
   "metadata": {},
   "outputs": [
    {
     "name": "stdout",
     "output_type": "stream",
     "text": [
      "<class 'pandas.core.frame.DataFrame'>\n",
      "RangeIndex: 7050 entries, 0 to 7049\n",
      "Data columns (total 14 columns):\n",
      " #   Column            Non-Null Count  Dtype         \n",
      "---  ------            --------------  -----         \n",
      " 0   status_id         7050 non-null   object        \n",
      " 1   status_type       7050 non-null   object        \n",
      " 2   status_published  7050 non-null   datetime64[ns]\n",
      " 3   num_reactions     7050 non-null   int64         \n",
      " 4   num_comments      7050 non-null   int64         \n",
      " 5   num_shares        7050 non-null   int64         \n",
      " 6   num_likes         7050 non-null   int64         \n",
      " 7   num_loves         7050 non-null   int64         \n",
      " 8   num_wows          7050 non-null   int64         \n",
      " 9   num_hahas         7050 non-null   int64         \n",
      " 10  num_sads          7050 non-null   int64         \n",
      " 11  num_angrys        7050 non-null   int64         \n",
      " 12  fecha             7050 non-null   int64         \n",
      " 13  hora              7050 non-null   int64         \n",
      "dtypes: datetime64[ns](1), int64(11), object(2)\n",
      "memory usage: 771.2+ KB\n"
     ]
    }
   ],
   "source": [
    "thai.info()"
   ]
  },
  {
   "cell_type": "markdown",
   "id": "802c80b1",
   "metadata": {},
   "source": [
    "A continuación vamos a estandarizar, con el pricipal objetivo de que las diferentes magnitudes no afecten a la hora de analizar los datos. Dejo fuera de esta normalización las tres primeras columnas, ya que:\n",
    "\n",
    "- No tiene sentido normalizar la ID de los individuos\n",
    "- La segunda columna corresponde a una variable categórica, que tampoco tiene sentido normalizar\n",
    "- La tercera columna está en formato fecha. Esta misma info está englobada en las dos últimas columnas.\n"
   ]
  },
  {
   "cell_type": "code",
   "execution_count": 12,
   "id": "5f70d467",
   "metadata": {},
   "outputs": [
    {
     "data": {
      "text/html": [
       "<div>\n",
       "<style scoped>\n",
       "    .dataframe tbody tr th:only-of-type {\n",
       "        vertical-align: middle;\n",
       "    }\n",
       "\n",
       "    .dataframe tbody tr th {\n",
       "        vertical-align: top;\n",
       "    }\n",
       "\n",
       "    .dataframe thead th {\n",
       "        text-align: right;\n",
       "    }\n",
       "</style>\n",
       "<table border=\"1\" class=\"dataframe\">\n",
       "  <thead>\n",
       "    <tr style=\"text-align: right;\">\n",
       "      <th></th>\n",
       "      <th>status_id</th>\n",
       "      <th>status_type</th>\n",
       "      <th>status_published</th>\n",
       "      <th>num_reactions</th>\n",
       "      <th>num_comments</th>\n",
       "      <th>num_shares</th>\n",
       "      <th>num_likes</th>\n",
       "      <th>num_loves</th>\n",
       "      <th>num_wows</th>\n",
       "      <th>num_hahas</th>\n",
       "      <th>num_sads</th>\n",
       "      <th>num_angrys</th>\n",
       "      <th>fecha</th>\n",
       "      <th>hora</th>\n",
       "    </tr>\n",
       "  </thead>\n",
       "  <tbody>\n",
       "    <tr>\n",
       "      <th>0</th>\n",
       "      <td>246675545449582_1649696485147474</td>\n",
       "      <td>video</td>\n",
       "      <td>2018-04-22 06:00:00</td>\n",
       "      <td>0.646104</td>\n",
       "      <td>0.323350</td>\n",
       "      <td>1.686879</td>\n",
       "      <td>0.482727</td>\n",
       "      <td>1.983266</td>\n",
       "      <td>0.196196</td>\n",
       "      <td>0.076713</td>\n",
       "      <td>0.473570</td>\n",
       "      <td>-0.155748</td>\n",
       "      <td>0.748541</td>\n",
       "      <td>-0.304927</td>\n",
       "    </tr>\n",
       "    <tr>\n",
       "      <th>1</th>\n",
       "      <td>246675545449582_1649426988507757</td>\n",
       "      <td>photo</td>\n",
       "      <td>2018-04-21 22:45:00</td>\n",
       "      <td>-0.173192</td>\n",
       "      <td>-0.252206</td>\n",
       "      <td>-0.304144</td>\n",
       "      <td>-0.144720</td>\n",
       "      <td>-0.318454</td>\n",
       "      <td>-0.147879</td>\n",
       "      <td>-0.176010</td>\n",
       "      <td>-0.152587</td>\n",
       "      <td>-0.155748</td>\n",
       "      <td>0.747096</td>\n",
       "      <td>2.078231</td>\n",
       "    </tr>\n",
       "    <tr>\n",
       "      <th>2</th>\n",
       "      <td>246675545449582_1648730588577397</td>\n",
       "      <td>video</td>\n",
       "      <td>2018-04-21 06:17:00</td>\n",
       "      <td>-0.006738</td>\n",
       "      <td>0.013089</td>\n",
       "      <td>0.129017</td>\n",
       "      <td>-0.024571</td>\n",
       "      <td>0.206938</td>\n",
       "      <td>-0.033187</td>\n",
       "      <td>0.076713</td>\n",
       "      <td>-0.152587</td>\n",
       "      <td>-0.155748</td>\n",
       "      <td>0.747096</td>\n",
       "      <td>-0.280299</td>\n",
       "    </tr>\n",
       "    <tr>\n",
       "      <th>3</th>\n",
       "      <td>246675545449582_1648576705259452</td>\n",
       "      <td>photo</td>\n",
       "      <td>2018-04-21 02:29:00</td>\n",
       "      <td>-0.257499</td>\n",
       "      <td>-0.252206</td>\n",
       "      <td>-0.304144</td>\n",
       "      <td>-0.231495</td>\n",
       "      <td>-0.318454</td>\n",
       "      <td>-0.147879</td>\n",
       "      <td>-0.176010</td>\n",
       "      <td>-0.152587</td>\n",
       "      <td>-0.155748</td>\n",
       "      <td>0.747096</td>\n",
       "      <td>-0.842406</td>\n",
       "    </tr>\n",
       "    <tr>\n",
       "      <th>4</th>\n",
       "      <td>246675545449582_1645700502213739</td>\n",
       "      <td>photo</td>\n",
       "      <td>2018-04-18 03:22:00</td>\n",
       "      <td>-0.037003</td>\n",
       "      <td>-0.252206</td>\n",
       "      <td>-0.304144</td>\n",
       "      <td>-0.024571</td>\n",
       "      <td>-0.093286</td>\n",
       "      <td>-0.147879</td>\n",
       "      <td>-0.176010</td>\n",
       "      <td>-0.152587</td>\n",
       "      <td>-0.155748</td>\n",
       "      <td>0.742762</td>\n",
       "      <td>-0.707674</td>\n",
       "    </tr>\n",
       "  </tbody>\n",
       "</table>\n",
       "</div>"
      ],
      "text/plain": [
       "                          status_id status_type    status_published  \\\n",
       "0  246675545449582_1649696485147474       video 2018-04-22 06:00:00   \n",
       "1  246675545449582_1649426988507757       photo 2018-04-21 22:45:00   \n",
       "2  246675545449582_1648730588577397       video 2018-04-21 06:17:00   \n",
       "3  246675545449582_1648576705259452       photo 2018-04-21 02:29:00   \n",
       "4  246675545449582_1645700502213739       photo 2018-04-18 03:22:00   \n",
       "\n",
       "   num_reactions  num_comments  num_shares  num_likes  num_loves  num_wows  \\\n",
       "0       0.646104      0.323350    1.686879   0.482727   1.983266  0.196196   \n",
       "1      -0.173192     -0.252206   -0.304144  -0.144720  -0.318454 -0.147879   \n",
       "2      -0.006738      0.013089    0.129017  -0.024571   0.206938 -0.033187   \n",
       "3      -0.257499     -0.252206   -0.304144  -0.231495  -0.318454 -0.147879   \n",
       "4      -0.037003     -0.252206   -0.304144  -0.024571  -0.093286 -0.147879   \n",
       "\n",
       "   num_hahas  num_sads  num_angrys     fecha      hora  \n",
       "0   0.076713  0.473570   -0.155748  0.748541 -0.304927  \n",
       "1  -0.176010 -0.152587   -0.155748  0.747096  2.078231  \n",
       "2   0.076713 -0.152587   -0.155748  0.747096 -0.280299  \n",
       "3  -0.176010 -0.152587   -0.155748  0.747096 -0.842406  \n",
       "4  -0.176010 -0.152587   -0.155748  0.742762 -0.707674  "
      ]
     },
     "execution_count": 12,
     "metadata": {},
     "output_type": "execute_result"
    }
   ],
   "source": [
    "from sklearn.preprocessing import StandardScaler\n",
    "\n",
    "thai2=thai.copy()\n",
    "\n",
    "#list for cols to scale\n",
    "cols_to_scale = ['num_reactions','num_comments','num_shares','num_likes','num_loves','num_wows','num_hahas','num_sads','num_angrys','fecha','hora']\n",
    "\n",
    "#create and fit scaler\n",
    "scaler = StandardScaler()\n",
    "scaler.fit(thai2[cols_to_scale])\n",
    "\n",
    "#scale selected data\n",
    "thai2[cols_to_scale] = scaler.transform(thai2[cols_to_scale])\n",
    "thai2.head()"
   ]
  },
  {
   "cell_type": "markdown",
   "id": "508e28a0",
   "metadata": {},
   "source": [
    "Lo tenemos, preprocesado acabado! Prosigo empezando con los análisis de clusterización"
   ]
  },
  {
   "cell_type": "markdown",
   "id": "557ff07c",
   "metadata": {},
   "source": [
    "# Ejercicio 1\n",
    "\n",
    "## Parte 2 - Clustering con K-means\n",
    "\n",
    "Para este ejercicio, partiré de las siguientes premisas:\n",
    "\n",
    "1. **No voy a usar variables categóricas**. Después de investigar, para poder hacer un mix de ambos tipos de variables debería usar tipos específicos de distancia (Gower). \n",
    "2. **No voy a hacer split train - test**. Por lo que he podido ver, al tratarse de algoritmos no supervisados, no es necesario hacer comprobaciones con parte del dataset, ya que no tenemos una variable específica para predecir.\n",
    "3. **Usaré las dos últimas columnas en lugar de status published**. Ambas engloban la misma información\n",
    "\n",
    "Usaré el método elbow junto con el algoritmo knee para encontrar el número adecuado de clusters"
   ]
  },
  {
   "cell_type": "code",
   "execution_count": 13,
   "id": "f3656446",
   "metadata": {},
   "outputs": [],
   "source": [
    "import matplotlib.pyplot as plt\n",
    "from sklearn.cluster import KMeans\n",
    "from sklearn.metrics import silhouette_score"
   ]
  },
  {
   "cell_type": "code",
   "execution_count": 14,
   "id": "fd61733b",
   "metadata": {},
   "outputs": [
    {
     "data": {
      "text/html": [
       "<div>\n",
       "<style scoped>\n",
       "    .dataframe tbody tr th:only-of-type {\n",
       "        vertical-align: middle;\n",
       "    }\n",
       "\n",
       "    .dataframe tbody tr th {\n",
       "        vertical-align: top;\n",
       "    }\n",
       "\n",
       "    .dataframe thead th {\n",
       "        text-align: right;\n",
       "    }\n",
       "</style>\n",
       "<table border=\"1\" class=\"dataframe\">\n",
       "  <thead>\n",
       "    <tr style=\"text-align: right;\">\n",
       "      <th></th>\n",
       "      <th>num_reactions</th>\n",
       "      <th>num_comments</th>\n",
       "      <th>num_shares</th>\n",
       "      <th>num_likes</th>\n",
       "      <th>num_loves</th>\n",
       "      <th>num_wows</th>\n",
       "      <th>num_hahas</th>\n",
       "      <th>num_sads</th>\n",
       "      <th>num_angrys</th>\n",
       "      <th>fecha</th>\n",
       "      <th>hora</th>\n",
       "    </tr>\n",
       "  </thead>\n",
       "  <tbody>\n",
       "    <tr>\n",
       "      <th>0</th>\n",
       "      <td>0.646104</td>\n",
       "      <td>0.323350</td>\n",
       "      <td>1.686879</td>\n",
       "      <td>0.482727</td>\n",
       "      <td>1.983266</td>\n",
       "      <td>0.196196</td>\n",
       "      <td>0.076713</td>\n",
       "      <td>0.473570</td>\n",
       "      <td>-0.155748</td>\n",
       "      <td>0.748541</td>\n",
       "      <td>-0.304927</td>\n",
       "    </tr>\n",
       "    <tr>\n",
       "      <th>1</th>\n",
       "      <td>-0.173192</td>\n",
       "      <td>-0.252206</td>\n",
       "      <td>-0.304144</td>\n",
       "      <td>-0.144720</td>\n",
       "      <td>-0.318454</td>\n",
       "      <td>-0.147879</td>\n",
       "      <td>-0.176010</td>\n",
       "      <td>-0.152587</td>\n",
       "      <td>-0.155748</td>\n",
       "      <td>0.747096</td>\n",
       "      <td>2.078231</td>\n",
       "    </tr>\n",
       "    <tr>\n",
       "      <th>2</th>\n",
       "      <td>-0.006738</td>\n",
       "      <td>0.013089</td>\n",
       "      <td>0.129017</td>\n",
       "      <td>-0.024571</td>\n",
       "      <td>0.206938</td>\n",
       "      <td>-0.033187</td>\n",
       "      <td>0.076713</td>\n",
       "      <td>-0.152587</td>\n",
       "      <td>-0.155748</td>\n",
       "      <td>0.747096</td>\n",
       "      <td>-0.280299</td>\n",
       "    </tr>\n",
       "    <tr>\n",
       "      <th>3</th>\n",
       "      <td>-0.257499</td>\n",
       "      <td>-0.252206</td>\n",
       "      <td>-0.304144</td>\n",
       "      <td>-0.231495</td>\n",
       "      <td>-0.318454</td>\n",
       "      <td>-0.147879</td>\n",
       "      <td>-0.176010</td>\n",
       "      <td>-0.152587</td>\n",
       "      <td>-0.155748</td>\n",
       "      <td>0.747096</td>\n",
       "      <td>-0.842406</td>\n",
       "    </tr>\n",
       "    <tr>\n",
       "      <th>4</th>\n",
       "      <td>-0.037003</td>\n",
       "      <td>-0.252206</td>\n",
       "      <td>-0.304144</td>\n",
       "      <td>-0.024571</td>\n",
       "      <td>-0.093286</td>\n",
       "      <td>-0.147879</td>\n",
       "      <td>-0.176010</td>\n",
       "      <td>-0.152587</td>\n",
       "      <td>-0.155748</td>\n",
       "      <td>0.742762</td>\n",
       "      <td>-0.707674</td>\n",
       "    </tr>\n",
       "  </tbody>\n",
       "</table>\n",
       "</div>"
      ],
      "text/plain": [
       "   num_reactions  num_comments  num_shares  num_likes  num_loves  num_wows  \\\n",
       "0       0.646104      0.323350    1.686879   0.482727   1.983266  0.196196   \n",
       "1      -0.173192     -0.252206   -0.304144  -0.144720  -0.318454 -0.147879   \n",
       "2      -0.006738      0.013089    0.129017  -0.024571   0.206938 -0.033187   \n",
       "3      -0.257499     -0.252206   -0.304144  -0.231495  -0.318454 -0.147879   \n",
       "4      -0.037003     -0.252206   -0.304144  -0.024571  -0.093286 -0.147879   \n",
       "\n",
       "   num_hahas  num_sads  num_angrys     fecha      hora  \n",
       "0   0.076713  0.473570   -0.155748  0.748541 -0.304927  \n",
       "1  -0.176010 -0.152587   -0.155748  0.747096  2.078231  \n",
       "2   0.076713 -0.152587   -0.155748  0.747096 -0.280299  \n",
       "3  -0.176010 -0.152587   -0.155748  0.747096 -0.842406  \n",
       "4  -0.176010 -0.152587   -0.155748  0.742762 -0.707674  "
      ]
     },
     "execution_count": 14,
     "metadata": {},
     "output_type": "execute_result"
    }
   ],
   "source": [
    "X = thai2[['num_reactions','num_comments','num_shares','num_likes','num_loves','num_wows','num_hahas','num_sads','num_angrys','fecha','hora']]\n",
    "X.head()"
   ]
  },
  {
   "cell_type": "markdown",
   "id": "30164788",
   "metadata": {},
   "source": [
    "En primer lugar, usaré el **método de Elbow** para determinar el número apropiado de clusters"
   ]
  },
  {
   "cell_type": "code",
   "execution_count": 15,
   "id": "add6d715",
   "metadata": {},
   "outputs": [],
   "source": [
    "#Código extraido de: https://realpython.com/k-means-clustering-python/#how-to-perform-k-means-clustering-in-python\n",
    "\n",
    "kmeans_kwargs = {\"init\": \"random\",\"n_init\": 10,\"max_iter\": 300,\"random_state\": 42,}\n",
    "\n",
    "# A list holds the SSE values for each k\n",
    "sse = []\n",
    "for k in range(1, 11):\n",
    "    kmeans = KMeans(n_clusters=k, **kmeans_kwargs)\n",
    "    kmeans.fit(X)\n",
    "    sse.append(kmeans.inertia_)\n"
   ]
  },
  {
   "cell_type": "code",
   "execution_count": 16,
   "id": "f1ef6ba8",
   "metadata": {},
   "outputs": [
    {
     "data": {
      "image/png": "[encoded data removed]",
      "text/plain": [
       "<Figure size 640x480 with 1 Axes>"
      ]
     },
     "metadata": {},
     "output_type": "display_data"
    }
   ],
   "source": [
    "plt.style.use(\"fivethirtyeight\")\n",
    "plt.plot(range(1, 11), sse)\n",
    "plt.xticks(range(1, 11))\n",
    "plt.xlabel(\"Number of Clusters\")\n",
    "plt.ylabel(\"SSE\")\n",
    "plt.show()"
   ]
  },
  {
   "cell_type": "code",
   "execution_count": 17,
   "id": "73fc89b3",
   "metadata": {},
   "outputs": [
    {
     "data": {
      "text/plain": [
       "6"
      ]
     },
     "execution_count": 17,
     "metadata": {},
     "output_type": "execute_result"
    }
   ],
   "source": [
    "#Como el elbow no lo veo claro, usaré la función del paquete kneed\n",
    "#OJO! Para ello he instalado el paquete desde la Prompt de Anaconda usando: conda install -c conda-forge kneed\n",
    "\n",
    "from kneed import KneeLocator\n",
    "\n",
    "kl = KneeLocator(range(1, 11), sse, curve=\"convex\", direction=\"decreasing\")\n",
    "\n",
    "kl.elbow"
   ]
  },
  {
   "cell_type": "markdown",
   "id": "528dc842",
   "metadata": {},
   "source": [
    "Lo tenemos! Ahora vamos a aplicar ese mismo número de clusters para efectuar nuestro análisis:"
   ]
  },
  {
   "cell_type": "code",
   "execution_count": 18,
   "id": "b02b76d7",
   "metadata": {},
   "outputs": [],
   "source": [
    "kmeans = KMeans(init=\"random\",n_clusters=6,n_init=10,max_iter=300,random_state=42)"
   ]
  },
  {
   "cell_type": "code",
   "execution_count": 19,
   "id": "2c3dec5a",
   "metadata": {},
   "outputs": [
    {
     "name": "stdout",
     "output_type": "stream",
     "text": [
      "KMeans(init='random', n_clusters=6, random_state=42)\n",
      "[4 2 4 ... 2 4 4]\n"
     ]
    }
   ],
   "source": [
    "a=kmeans.fit(X)\n",
    "y_kmeans = kmeans.predict(X)\n",
    "print(a)\n",
    "print(y_kmeans)"
   ]
  },
  {
   "cell_type": "code",
   "execution_count": 20,
   "id": "c232926f",
   "metadata": {},
   "outputs": [
    {
     "data": {
      "text/plain": [
       "array([4, 2, 4, 4, 4, 4, 4, 4, 4, 4, 4, 4, 4, 4, 4, 4, 4, 4, 4, 4, 4, 4,\n",
       "       4, 4, 4, 2, 4, 4, 4, 4, 4, 4, 4, 4, 4, 4, 4, 4, 4, 4])"
      ]
     },
     "execution_count": 20,
     "metadata": {},
     "output_type": "execute_result"
    }
   ],
   "source": [
    "a.labels_[:40]"
   ]
  },
  {
   "cell_type": "markdown",
   "id": "d6ba714a",
   "metadata": {},
   "source": [
    "Y ahora vamos a plotear los resultados del k-means."
   ]
  },
  {
   "cell_type": "code",
   "execution_count": 21,
   "id": "aa23dc59",
   "metadata": {},
   "outputs": [
    {
     "data": {
      "image/png": "[encoded data removed]",
      "text/plain": [
       "<Figure size 640x480 with 1 Axes>"
      ]
     },
     "metadata": {},
     "output_type": "display_data"
    }
   ],
   "source": [
    "plt.scatter(X.iloc[:, 0], X.iloc[:, 1], c=y_kmeans, s=50, cmap='viridis') #Se tiene que usar iloc para acceder a los array\n",
    "\n",
    "centers = kmeans.cluster_centers_\n",
    "plt.scatter(centers[:, 0], centers[:, 1], c='black', s=200, alpha=0.5);"
   ]
  },
  {
   "cell_type": "markdown",
   "id": "fc5ce125",
   "metadata": {},
   "source": [
    "# Ejercicio 2\n",
    "\n",
    "## Clustering jerárquico"
   ]
  },
  {
   "cell_type": "code",
   "execution_count": 22,
   "id": "bdbad9e1",
   "metadata": {},
   "outputs": [
    {
     "data": {
      "image/png": "[encoded data removed]",
      "text/plain": [
       "<Figure size 1000x700 with 1 Axes>"
      ]
     },
     "metadata": {},
     "output_type": "display_data"
    }
   ],
   "source": [
    "import scipy.cluster.hierarchy as shc\n",
    "\n",
    "plt.figure(figsize=(10, 7))  \n",
    "plt.title(\"Dendrograms\")  \n",
    "dend = shc.dendrogram(shc.linkage(X, method='ward'))"
   ]
  },
  {
   "cell_type": "markdown",
   "id": "fe63205a",
   "metadata": {},
   "source": [
    "Gracias al dendograma tenemos una idea del número de clusters que probar. Decido probar 4 clusters y 6 (que serían los mismos usados en el Kmeans). Empiezo por 4:"
   ]
  },
  {
   "cell_type": "code",
   "execution_count": 23,
   "id": "d8ea4e8d",
   "metadata": {},
   "outputs": [
    {
     "name": "stdout",
     "output_type": "stream",
     "text": [
      "[1 0 0 ... 0 0 0]\n"
     ]
    }
   ],
   "source": [
    "from sklearn.cluster import AgglomerativeClustering\n",
    "\n",
    "cluster1 = AgglomerativeClustering(n_clusters=4, affinity='euclidean', linkage='ward')  \n",
    "cluster1.fit_predict(X)\n",
    "labels1 = cluster1.labels_\n",
    "print(labels1)"
   ]
  },
  {
   "cell_type": "code",
   "execution_count": 24,
   "id": "a0820d74",
   "metadata": {},
   "outputs": [
    {
     "data": {
      "text/plain": [
       "<matplotlib.collections.PathCollection at 0x15ce233eaf0>"
      ]
     },
     "execution_count": 24,
     "metadata": {},
     "output_type": "execute_result"
    },
    {
     "data": {
      "image/png": "[encoded data removed]",
      "text/plain": [
       "<Figure size 640x480 with 1 Axes>"
      ]
     },
     "metadata": {},
     "output_type": "display_data"
    }
   ],
   "source": [
    "plt.scatter(X.iloc[:, 0], X.iloc[:, 1], c=labels1, cmap='viridis') #Se tiene que usar iloc para acceder a los array"
   ]
  },
  {
   "cell_type": "markdown",
   "id": "6d3590e1",
   "metadata": {},
   "source": [
    "Ahora haremos la prueba con 6 clusters:"
   ]
  },
  {
   "cell_type": "code",
   "execution_count": 25,
   "id": "2f827dff",
   "metadata": {},
   "outputs": [
    {
     "name": "stdout",
     "output_type": "stream",
     "text": [
      "[0 3 4 ... 3 4 4]\n"
     ]
    }
   ],
   "source": [
    "cluster2 = AgglomerativeClustering(n_clusters=6, affinity='euclidean', linkage='ward')  \n",
    "cluster2.fit_predict(X)\n",
    "labels2 = cluster2.labels_\n",
    "print(labels2)"
   ]
  },
  {
   "cell_type": "code",
   "execution_count": 26,
   "id": "a1b72a39",
   "metadata": {},
   "outputs": [
    {
     "data": {
      "text/plain": [
       "<matplotlib.collections.PathCollection at 0x15ce0fc26a0>"
      ]
     },
     "execution_count": 26,
     "metadata": {},
     "output_type": "execute_result"
    },
    {
     "data": {
      "image/png": "[encoded data removed]",
      "text/plain": [
       "<Figure size 640x480 with 1 Axes>"
      ]
     },
     "metadata": {},
     "output_type": "display_data"
    }
   ],
   "source": [
    "plt.scatter(X.iloc[:, 0], X.iloc[:, 1], c=labels2, cmap='viridis') #Se tiene que usar iloc para acceder a los array"
   ]
  },
  {
   "cell_type": "markdown",
   "id": "6497794e",
   "metadata": {},
   "source": [
    "El resultado es, a simple vista, bastante similar con el K-means. He de decir que a \"ojo\" resulta difícil de clasificar, pero quizás de manera intuitiva lo haría algo distinto a cómo lo están haciendo estos dos métodos"
   ]
  },
  {
   "cell_type": "markdown",
   "id": "6c1ea5f6",
   "metadata": {},
   "source": [
    "# Ejercicio 3\n",
    "\n",
    "## Cálculo de los rendimientos del clustering\n",
    "\n",
    "A continuación, voy a calcular los rendimientos de los distintos modelos de clustering. Empezaré probando el Silhouette Score, pero también aprovecharé para probar el Calinski harabasz score.\n",
    "\n",
    "Me habría gustado también probar el ARI (adjusted rand index), pero para ello debería tener algunos grupos predefinidos previamente (que no es el caso)."
   ]
  },
  {
   "cell_type": "code",
   "execution_count": 27,
   "id": "324eb7c0",
   "metadata": {},
   "outputs": [],
   "source": [
    "kmeans_silhouette = silhouette_score(X, a.labels_).round(5)\n",
    "HC4_silhouette = silhouette_score(X,  cluster1.labels_).round (5) #me aseguro usando distintas notaciones que todo está correcto\n",
    "HC6_silhouette = silhouette_score(X, labels2).round (5)"
   ]
  },
  {
   "cell_type": "code",
   "execution_count": 28,
   "id": "d3b75313",
   "metadata": {},
   "outputs": [
    {
     "data": {
      "text/plain": [
       "0.46212"
      ]
     },
     "execution_count": 28,
     "metadata": {},
     "output_type": "execute_result"
    }
   ],
   "source": [
    "kmeans_silhouette"
   ]
  },
  {
   "cell_type": "code",
   "execution_count": 29,
   "id": "f6894d85",
   "metadata": {},
   "outputs": [
    {
     "data": {
      "text/plain": [
       "0.4925"
      ]
     },
     "execution_count": 29,
     "metadata": {},
     "output_type": "execute_result"
    }
   ],
   "source": [
    "HC4_silhouette"
   ]
  },
  {
   "cell_type": "code",
   "execution_count": 30,
   "id": "de843791",
   "metadata": {},
   "outputs": [
    {
     "data": {
      "text/plain": [
       "0.4669"
      ]
     },
     "execution_count": 30,
     "metadata": {},
     "output_type": "execute_result"
    }
   ],
   "source": [
    "HC6_silhouette"
   ]
  },
  {
   "cell_type": "markdown",
   "id": "bf222d4e",
   "metadata": {},
   "source": [
    "Segun el Silhouette score no hay muchas diferencias! Recordemos que cuando más cercano esté el valor a 1, mejor clusterización.\n",
    "\n",
    "Veamos qué ocurre con el CH:"
   ]
  },
  {
   "cell_type": "code",
   "execution_count": 31,
   "id": "e0fa2c4c",
   "metadata": {},
   "outputs": [],
   "source": [
    "from sklearn.metrics import calinski_harabasz_score\n",
    "ch_index1 = calinski_harabasz_score(X, a.labels_)\n",
    "ch_index2 = calinski_harabasz_score(X, labels1)\n",
    "ch_index3 = calinski_harabasz_score(X, labels2)"
   ]
  },
  {
   "cell_type": "code",
   "execution_count": 32,
   "id": "ddaa5f57",
   "metadata": {},
   "outputs": [
    {
     "data": {
      "text/plain": [
       "1628.8675102719708"
      ]
     },
     "execution_count": 32,
     "metadata": {},
     "output_type": "execute_result"
    }
   ],
   "source": [
    "ch_index1"
   ]
  },
  {
   "cell_type": "code",
   "execution_count": 33,
   "id": "a6e1e2a4",
   "metadata": {},
   "outputs": [
    {
     "data": {
      "text/plain": [
       "1431.7347465439018"
      ]
     },
     "execution_count": 33,
     "metadata": {},
     "output_type": "execute_result"
    }
   ],
   "source": [
    "ch_index2"
   ]
  },
  {
   "cell_type": "code",
   "execution_count": 34,
   "id": "defb9bff",
   "metadata": {},
   "outputs": [
    {
     "data": {
      "text/plain": [
       "1443.2747587485305"
      ]
     },
     "execution_count": 34,
     "metadata": {},
     "output_type": "execute_result"
    }
   ],
   "source": [
    "ch_index3"
   ]
  },
  {
   "cell_type": "markdown",
   "id": "bac98a1e",
   "metadata": {},
   "source": [
    "Unos valores más altos de CH significan un mejor clustering, ya que implica que las observaciones dentro de un cluster están más juntas entre ellas, mientras que las observaciones de distintos clusters están más apartadas entre ellas (es decir, en global observamos una mejor separación). Por tanto, según CH, el cluster realizado con Kmeans nos estaría dando mejores resultados."
   ]
  },
  {
   "cell_type": "markdown",
   "id": "1b46fe12",
   "metadata": {},
   "source": [
    "Si por ejemplo sospechasemos que los clusterings nos van a reflejar el tipo de archivo subido (foto vs video), podríamos haber realizado un ARI. No lo he incluído en este ejercicio, pero sería una posbilidad a contemplar"
   ]
  }
 ],
 "metadata": {
  "kernelspec": {
   "display_name": "Python 3 (ipykernel)",
   "language": "python",
   "name": "python3"
  },
  "language_info": {
   "codemirror_mode": {
    "name": "ipython",
    "version": 3
   },
   "file_extension": ".py",
   "mimetype": "text/x-python",
   "name": "python",
   "nbconvert_exporter": "python",
   "pygments_lexer": "ipython3",
   "version": "3.9.12"
  }
 },
 "nbformat": 4,
 "nbformat_minor": 5
}
