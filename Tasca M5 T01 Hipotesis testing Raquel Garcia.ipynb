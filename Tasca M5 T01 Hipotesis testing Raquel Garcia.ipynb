{
 "cells": [
  {
   "cell_type": "markdown",
   "id": "54ce9c0a",
   "metadata": {},
   "source": [
    "# Lista de ejercicios y guía de trabajo:\n",
    "\n",
    "\n",
    "## Exercici 1\n",
    "Descarrega el dataset adjunt de dades oficials de la UEFA i selecciona un atribut del conjunt de dades. Calcula el p-valor i digues si rebutja la hipòtesi nul·la agafant un alfa de 5%. \n",
    "\n",
    "\n",
    "\n",
    "## Exercici 2\n",
    "Amb el mateix dataset selecciona dos altres atributs del conjunt de dades. Calcula els p-valors i digues si rebutgen la hipòtesi nul·la agafant un alfa de 5%.\n",
    "\n",
    "\n",
    "\n",
    "## Exercici 3\n",
    "Continua amb el conjunt de dades adjunt i selecciona tres atributs del conjunt de dades. Calcula el p-valor i digues si rebutja la hipòtesi nul·la agafant un alfa de 5%."
   ]
  },
  {
   "cell_type": "markdown",
   "id": "93688353",
   "metadata": {},
   "source": [
    "# Previo a los ejercicios. Carga de datos.\n",
    "\n",
    "En un primer lugar, cargaremos el documento que contiene los datos de la UEFA. Usaremos la librería Pandas. Para importar correctamente este fichero, se tendrá que indicar el separador (por defecto es coma, en este fichero es ;) y añadir un encoding."
   ]
  },
  {
   "cell_type": "code",
   "execution_count": 12,
   "id": "89c89e8e",
   "metadata": {},
   "outputs": [
    {
     "name": "stdout",
     "output_type": "stream",
     "text": [
      "98\n"
     ]
    },
    {
     "data": {
      "text/html": [
       "<div>\n",
       "<style scoped>\n",
       "    .dataframe tbody tr th:only-of-type {\n",
       "        vertical-align: middle;\n",
       "    }\n",
       "\n",
       "    .dataframe tbody tr th {\n",
       "        vertical-align: top;\n",
       "    }\n",
       "\n",
       "    .dataframe thead th {\n",
       "        text-align: right;\n",
       "    }\n",
       "</style>\n",
       "<table border=\"1\" class=\"dataframe\">\n",
       "  <thead>\n",
       "    <tr style=\"text-align: right;\">\n",
       "      <th></th>\n",
       "      <th>Rk</th>\n",
       "      <th>Squad</th>\n",
       "      <th>Country</th>\n",
       "      <th>LgRk</th>\n",
       "      <th>MP</th>\n",
       "      <th>W</th>\n",
       "      <th>D</th>\n",
       "      <th>L</th>\n",
       "      <th>GF</th>\n",
       "      <th>GA</th>\n",
       "      <th>...</th>\n",
       "      <th>Pts</th>\n",
       "      <th>Pts/G</th>\n",
       "      <th>xG</th>\n",
       "      <th>xGA</th>\n",
       "      <th>xGD</th>\n",
       "      <th>xGD/90</th>\n",
       "      <th>Last 5</th>\n",
       "      <th>Attendance</th>\n",
       "      <th>Top Team Scorer</th>\n",
       "      <th>Goalkeeper</th>\n",
       "    </tr>\n",
       "  </thead>\n",
       "  <tbody>\n",
       "    <tr>\n",
       "      <th>0</th>\n",
       "      <td>1</td>\n",
       "      <td>Manchester City</td>\n",
       "      <td>ENG</td>\n",
       "      <td>1</td>\n",
       "      <td>37</td>\n",
       "      <td>28</td>\n",
       "      <td>6</td>\n",
       "      <td>3</td>\n",
       "      <td>96</td>\n",
       "      <td>24</td>\n",
       "      <td>...</td>\n",
       "      <td>90</td>\n",
       "      <td>2.43</td>\n",
       "      <td>86.1</td>\n",
       "      <td>26.8</td>\n",
       "      <td>59.3</td>\n",
       "      <td>1.60</td>\n",
       "      <td>W W W W D</td>\n",
       "      <td>52739</td>\n",
       "      <td>Kevin De Bruyne - 15</td>\n",
       "      <td>Ederson</td>\n",
       "    </tr>\n",
       "    <tr>\n",
       "      <th>1</th>\n",
       "      <td>2</td>\n",
       "      <td>Liverpool</td>\n",
       "      <td>ENG</td>\n",
       "      <td>2</td>\n",
       "      <td>36</td>\n",
       "      <td>26</td>\n",
       "      <td>8</td>\n",
       "      <td>2</td>\n",
       "      <td>89</td>\n",
       "      <td>24</td>\n",
       "      <td>...</td>\n",
       "      <td>86</td>\n",
       "      <td>2.39</td>\n",
       "      <td>84.6</td>\n",
       "      <td>33.1</td>\n",
       "      <td>51.4</td>\n",
       "      <td>1.43</td>\n",
       "      <td>W W W D W</td>\n",
       "      <td>53367</td>\n",
       "      <td>Mohamed Salah - 22</td>\n",
       "      <td>Alisson</td>\n",
       "    </tr>\n",
       "    <tr>\n",
       "      <th>2</th>\n",
       "      <td>3</td>\n",
       "      <td>Real Madrid</td>\n",
       "      <td>ESP</td>\n",
       "      <td>1</td>\n",
       "      <td>37</td>\n",
       "      <td>26</td>\n",
       "      <td>7</td>\n",
       "      <td>4</td>\n",
       "      <td>80</td>\n",
       "      <td>31</td>\n",
       "      <td>...</td>\n",
       "      <td>85</td>\n",
       "      <td>2.30</td>\n",
       "      <td>73.0</td>\n",
       "      <td>45.8</td>\n",
       "      <td>27.2</td>\n",
       "      <td>0.73</td>\n",
       "      <td>W W L W D</td>\n",
       "      <td>40624</td>\n",
       "      <td>Karim Benzema - 27</td>\n",
       "      <td>Thibaut Courtois</td>\n",
       "    </tr>\n",
       "    <tr>\n",
       "      <th>3</th>\n",
       "      <td>4</td>\n",
       "      <td>Bayern Munich</td>\n",
       "      <td>GER</td>\n",
       "      <td>1</td>\n",
       "      <td>34</td>\n",
       "      <td>24</td>\n",
       "      <td>5</td>\n",
       "      <td>5</td>\n",
       "      <td>97</td>\n",
       "      <td>37</td>\n",
       "      <td>...</td>\n",
       "      <td>77</td>\n",
       "      <td>2.26</td>\n",
       "      <td>88.1</td>\n",
       "      <td>37.1</td>\n",
       "      <td>51.0</td>\n",
       "      <td>1.50</td>\n",
       "      <td>W W L D D</td>\n",
       "      <td>33176</td>\n",
       "      <td>Robert Lewandowski - 35</td>\n",
       "      <td>Manuel Neuer</td>\n",
       "    </tr>\n",
       "    <tr>\n",
       "      <th>4</th>\n",
       "      <td>5</td>\n",
       "      <td>Paris S-G</td>\n",
       "      <td>FRA</td>\n",
       "      <td>1</td>\n",
       "      <td>37</td>\n",
       "      <td>25</td>\n",
       "      <td>8</td>\n",
       "      <td>4</td>\n",
       "      <td>85</td>\n",
       "      <td>36</td>\n",
       "      <td>...</td>\n",
       "      <td>83</td>\n",
       "      <td>2.24</td>\n",
       "      <td>71.6</td>\n",
       "      <td>38.1</td>\n",
       "      <td>33.4</td>\n",
       "      <td>0.90</td>\n",
       "      <td>W D D D W</td>\n",
       "      <td>41188</td>\n",
       "      <td>Kylian Mbappé - 25</td>\n",
       "      <td>Keylor Navas</td>\n",
       "    </tr>\n",
       "  </tbody>\n",
       "</table>\n",
       "<p>5 rows × 21 columns</p>\n",
       "</div>"
      ],
      "text/plain": [
       "   Rk            Squad Country  LgRk  MP   W  D  L  GF  GA  ...  Pts  Pts/G  \\\n",
       "0   1  Manchester City     ENG     1  37  28  6  3  96  24  ...   90   2.43   \n",
       "1   2        Liverpool     ENG     2  36  26  8  2  89  24  ...   86   2.39   \n",
       "2   3      Real Madrid     ESP     1  37  26  7  4  80  31  ...   85   2.30   \n",
       "3   4    Bayern Munich     GER     1  34  24  5  5  97  37  ...   77   2.26   \n",
       "4   5        Paris S-G     FRA     1  37  25  8  4  85  36  ...   83   2.24   \n",
       "\n",
       "     xG   xGA   xGD  xGD/90     Last 5 Attendance          Top Team Scorer  \\\n",
       "0  86.1  26.8  59.3    1.60  W W W W D      52739     Kevin De Bruyne - 15   \n",
       "1  84.6  33.1  51.4    1.43  W W W D W      53367       Mohamed Salah - 22   \n",
       "2  73.0  45.8  27.2    0.73  W W L W D      40624       Karim Benzema - 27   \n",
       "3  88.1  37.1  51.0    1.50  W W L D D      33176  Robert Lewandowski - 35   \n",
       "4  71.6  38.1  33.4    0.90  W D D D W      41188       Kylian Mbappé - 25   \n",
       "\n",
       "         Goalkeeper  \n",
       "0           Ederson  \n",
       "1           Alisson  \n",
       "2  Thibaut Courtois  \n",
       "3      Manuel Neuer  \n",
       "4      Keylor Navas  \n",
       "\n",
       "[5 rows x 21 columns]"
      ]
     },
     "execution_count": 12,
     "metadata": {},
     "output_type": "execute_result"
    }
   ],
   "source": [
    "import pandas as pd\n",
    "\n",
    "UEFA = pd.read_csv('UEFA.csv', sep=';',  encoding=\"ISO-8859-1\") \n",
    "\n",
    "print(len(UEFA.index)) #Número de registros\n",
    "\n",
    "UEFA.head() #Normalmente usaba [:5], para acostumbrarme también a usar head."
   ]
  },
  {
   "cell_type": "code",
   "execution_count": 13,
   "id": "1d70819a",
   "metadata": {},
   "outputs": [
    {
     "name": "stdout",
     "output_type": "stream",
     "text": [
      "<class 'pandas.core.frame.DataFrame'>\n",
      "RangeIndex: 98 entries, 0 to 97\n",
      "Data columns (total 21 columns):\n",
      " #   Column           Non-Null Count  Dtype  \n",
      "---  ------           --------------  -----  \n",
      " 0   Rk               98 non-null     int64  \n",
      " 1   Squad            98 non-null     object \n",
      " 2   Country          98 non-null     object \n",
      " 3   LgRk             98 non-null     int64  \n",
      " 4   MP               98 non-null     int64  \n",
      " 5   W                98 non-null     int64  \n",
      " 6   D                98 non-null     int64  \n",
      " 7   L                98 non-null     int64  \n",
      " 8   GF               98 non-null     int64  \n",
      " 9   GA               98 non-null     int64  \n",
      " 10  GD               98 non-null     int64  \n",
      " 11  Pts              98 non-null     int64  \n",
      " 12  Pts/G            98 non-null     float64\n",
      " 13  xG               98 non-null     float64\n",
      " 14  xGA              98 non-null     float64\n",
      " 15  xGD              98 non-null     float64\n",
      " 16  xGD/90           98 non-null     float64\n",
      " 17  Last 5           98 non-null     object \n",
      " 18  Attendance       98 non-null     int64  \n",
      " 19  Top Team Scorer  98 non-null     object \n",
      " 20  Goalkeeper       98 non-null     object \n",
      "dtypes: float64(5), int64(11), object(5)\n",
      "memory usage: 16.2+ KB\n"
     ]
    }
   ],
   "source": [
    "UEFA.info()\n"
   ]
  },
  {
   "cell_type": "code",
   "execution_count": 14,
   "id": "61b30720",
   "metadata": {},
   "outputs": [
    {
     "data": {
      "text/plain": [
       "Rk                 0\n",
       "Squad              0\n",
       "Country            0\n",
       "LgRk               0\n",
       "MP                 0\n",
       "W                  0\n",
       "D                  0\n",
       "L                  0\n",
       "GF                 0\n",
       "GA                 0\n",
       "GD                 0\n",
       "Pts                0\n",
       "Pts/G              0\n",
       "xG                 0\n",
       "xGA                0\n",
       "xGD                0\n",
       "xGD/90             0\n",
       "Last 5             0\n",
       "Attendance         0\n",
       "Top Team Scorer    0\n",
       "Goalkeeper         0\n",
       "dtype: int64"
      ]
     },
     "execution_count": 14,
     "metadata": {},
     "output_type": "execute_result"
    }
   ],
   "source": [
    "UEFA.isna().sum() "
   ]
  },
  {
   "cell_type": "markdown",
   "id": "cf42624c",
   "metadata": {},
   "source": [
    "Hemos comprado que el fichero ha cargado correctamente. No hay ningún dato con NA, y los tipos de datos contenidos en las distintas columnas encajan con las variables que representan."
   ]
  },
  {
   "cell_type": "markdown",
   "id": "75b817cd",
   "metadata": {},
   "source": [
    "# Exercici 1\n",
    "\n",
    "Descarrega el dataset adjunt de dades oficials de la UEFA i selecciona un atribut del conjunt de dades. Calcula el p-valor i digues si rebutja la hipòtesi nul·la agafant un alfa de 5%."
   ]
  },
  {
   "cell_type": "markdown",
   "id": "430ad55c",
   "metadata": {},
   "source": [
    "Para resolver este primer ejercicio, se me indica que debo seleccionar tan solo **1 atributo** del conjunto de los datos (es decir, una sola variable). En la mayoría de los análisis sencillos que se pueden hacer (como veremos posteriormente) se seleccionan 2 variables (por ejemplo, una categórica y otra numérica) y se analizan potenciales diferencias.\n",
    "\n",
    "Por tanto, para realizar este ejercicio decido plantear una pregunta muy sencilla: **La variable GF (Goles marcados) ¿sigue una distribución normal?**. Se plantean dos hipótesis:\n",
    "\n",
    "- **Hipótesis nula - H0**: La variable GF sigue una distribución gaussiana (normal)\n",
    "- **Hipótesis alternativa - H1:** La variable GF NO sigue una distribución gaussiana (normal)\n",
    "\n",
    "Selecciono además este tipo de pregunta ya que muchos tests requieren la comprobación previa de la normalidad de las variables o residuos. \n",
    "\n",
    "Para resolverlo, realizo un test de shapiro:\n"
   ]
  },
  {
   "cell_type": "code",
   "execution_count": 30,
   "id": "d4c82395",
   "metadata": {},
   "outputs": [
    {
     "data": {
      "text/plain": [
       "ShapiroResult(statistic=0.9432637691497803, pvalue=0.0003564691578503698)"
      ]
     },
     "execution_count": 30,
     "metadata": {},
     "output_type": "execute_result"
    }
   ],
   "source": [
    "from scipy.stats import shapiro \n",
    "\n",
    "shapiro(UEFA['GF'])"
   ]
  },
  {
   "cell_type": "markdown",
   "id": "e8cc091c",
   "metadata": {},
   "source": [
    "El p.valor es menor a 0.05, lo que nos indica que debemos rechazar la hipótesis nula (es decir, los datos NO siguen una distribución normal). Antes de proseguir, decido graficar para ver cuál es la distribución real de los datos:"
   ]
  },
  {
   "cell_type": "code",
   "execution_count": 32,
   "id": "e9d05201",
   "metadata": {},
   "outputs": [
    {
     "data": {
      "text/plain": [
       "array([[<AxesSubplot:title={'center':'GF'}>]], dtype=object)"
      ]
     },
     "execution_count": 32,
     "metadata": {},
     "output_type": "execute_result"
    },
    {
     "data": {
      "image/png": "[encoded data removed]",
      "text/plain": [
       "<Figure size 432x288 with 1 Axes>"
      ]
     },
     "metadata": {
      "needs_background": "light"
     },
     "output_type": "display_data"
    }
   ],
   "source": [
    "UEFA.hist(column='GF')"
   ]
  },
  {
   "cell_type": "code",
   "execution_count": 40,
   "id": "6d907ea0",
   "metadata": {},
   "outputs": [
    {
     "data": {
      "image/png": "[encoded data removed]",
      "text/plain": [
       "<Figure size 432x288 with 1 Axes>"
      ]
     },
     "metadata": {
      "needs_background": "light"
     },
     "output_type": "display_data"
    }
   ],
   "source": [
    "import statsmodels.api as sm\n",
    "\n",
    "fig = sm.qqplot(UEFA['GF'], fit=True, line=\"45\")\n",
    "\n",
    "plt.show()\n",
    "\n",
    "#Nota: si ponemos el parámetro line sin realizar un fit, queda un plot bastante terrible. Esto se debe a que la opción \"45\"\n",
    "#funciona bien si tenemos datos normalizados con media=0 y sd=1 (no es el caso). Otras opciones es usar line= s por ejemplo\n",
    "#(s= standarizado)"
   ]
  },
  {
   "cell_type": "markdown",
   "id": "ff7d12ff",
   "metadata": {},
   "source": [
    "En el histograma podemos aprecial claramente que la variable GF no tiene forma de campana (los valores más frecuentes se sitúan en la parte baja de la distribución). El gráfico del QQplot nos permite reafirmar los resultados ya obtenidos y visualizados (una distribución normal debería seguir la diagonal)"
   ]
  },
  {
   "cell_type": "markdown",
   "id": "29210417",
   "metadata": {},
   "source": [
    "# Exercici 2\n",
    "\n",
    "Amb el mateix dataset selecciona dos altres atributs del conjunt de dades. Calcula els p-valors i digues si rebutgen la hipòtesi nul·la agafant un alfa de 5%."
   ]
  },
  {
   "cell_type": "markdown",
   "id": "15835707",
   "metadata": {},
   "source": [
    "Resolveré este ejercicio dando dos ejemplos: en un primer ejemplo seleccionaré una variable categórica y otra numérica. En el segundo, dos variables numéricas\n",
    "\n",
    "### Ejemplo 1: Variable categórica y variable numérica\n",
    "\n",
    "Para comenzar, haré un primer sondeo acerca de alguna de las variables categóricas que podemos encontrar en el dataset. Esto me permitirá tener una mejor idea de las bases de datos:"
   ]
  },
  {
   "cell_type": "code",
   "execution_count": 15,
   "id": "fde1955b",
   "metadata": {},
   "outputs": [
    {
     "name": "stdout",
     "output_type": "stream",
     "text": [
      "ENG    20\n",
      "ESP    20\n",
      "FRA    20\n",
      "ITA    20\n",
      "GER    18\n",
      "Name: Country, dtype: int64\n"
     ]
    }
   ],
   "source": [
    "print(UEFA['Country'].value_counts())"
   ]
  },
  {
   "cell_type": "markdown",
   "id": "2153aa12",
   "metadata": {},
   "source": [
    "Para empezar de manera sencilla, me plantearé elegir una variable categórica (en mi caso, selecciono los países) y testear si hay diferencias significativas en cuando al ranking en la UEFA (variable numérica).\n",
    "\n",
    "Así pues, la pregunta planteada es: **En la UEFA, ¿tienen resultados similares los equipos de los distintos países?**. La **hipótesis nula (H0)** es que NO hay diferencias en cuanto al ranking general. La **hipótesis alternativa (H1)** es que SI existen diferencias en cuanto al ranking (por ejemplo, los equipos ingleses tienden a posicionarse en mejores posiciones que los equipos de los otros países - es decir, el país de procedencia de los equipos SI tiene un efecto significativo en su ranking)\n",
    "\n",
    "Empecemos echando un vistazo a los datos:"
   ]
  },
  {
   "cell_type": "code",
   "execution_count": 16,
   "id": "08c2fa48",
   "metadata": {},
   "outputs": [
    {
     "data": {
      "image/png": "[encoded data removed]",
      "text/plain": [
       "<Figure size 432x288 with 1 Axes>"
      ]
     },
     "metadata": {
      "needs_background": "light"
     },
     "output_type": "display_data"
    }
   ],
   "source": [
    "import matplotlib.pyplot as plt\n",
    "import seaborn as sns\n",
    "\n",
    "a=sns.boxplot(x='Country', y='Rk', data=UEFA, palette=\"viridis\")"
   ]
  },
  {
   "cell_type": "markdown",
   "id": "91df21ad",
   "metadata": {},
   "source": [
    "Observamos en el boxplot que las distribuciones parecen similares en todos los grupos. Las medianas (no las medias) parecen más bajas en los casos de Francia e Italia, pero será necesario un test para comprobar si las diferencias son o no significativas\n",
    "\n",
    "Como no tenemos muchos grupos, antes de realizar el ANOVA comprobaré si se cumple la premisa de normalidad dentro de cada grupo (distribución de Y siguiendo una normal dentro de cada categoría).\n",
    "\n",
    "En el caso de las distribuciones continuas o ante la presencia de muchos grupos, la mejor estrategia será checkear los residuos de manera global. \n",
    "\n",
    "En este primer test de hecho ya estaré obteniendo un p.valor "
   ]
  },
  {
   "cell_type": "code",
   "execution_count": 28,
   "id": "8b79553c",
   "metadata": {},
   "outputs": [
    {
     "name": "stdout",
     "output_type": "stream",
     "text": [
      "ShapiroResult(statistic=0.9604693651199341, pvalue=0.5532688498497009)\n",
      "ShapiroResult(statistic=0.9297448992729187, pvalue=0.152680441737175)\n",
      "ShapiroResult(statistic=0.9728591442108154, pvalue=0.8494011759757996)\n",
      "ShapiroResult(statistic=0.9320498108863831, pvalue=0.1690875142812729)\n",
      "ShapiroResult(statistic=0.9116873741149902, pvalue=0.06863816827535629)\n"
     ]
    }
   ],
   "source": [
    "from scipy.stats import shapiro \n",
    "\n",
    "print(shapiro(UEFA[UEFA['Country'] == 'ENG']['Rk']))\n",
    "print(shapiro(UEFA[UEFA['Country'] == 'ESP']['Rk']))\n",
    "print(shapiro(UEFA[UEFA['Country'] == 'GER']['Rk']))\n",
    "print(shapiro(UEFA[UEFA['Country'] == 'FRA']['Rk']))\n",
    "print(shapiro(UEFA[UEFA['Country'] == 'ITA']['Rk']))\n"
   ]
  },
  {
   "cell_type": "markdown",
   "id": "d6450eda",
   "metadata": {},
   "source": [
    "Todos los p-valores obtenidos son mayores a 0.05, así que los datos siguen una distribución normal dentro de cada uno de los grupos. Esto nos permite compararlos llevando a cabo un test paramétrico, que bajo la premisa de normalidad debería ser robusto."
   ]
  },
  {
   "cell_type": "code",
   "execution_count": 60,
   "id": "178cf43b",
   "metadata": {},
   "outputs": [
    {
     "data": {
      "text/html": [
       "<div>\n",
       "<style scoped>\n",
       "    .dataframe tbody tr th:only-of-type {\n",
       "        vertical-align: middle;\n",
       "    }\n",
       "\n",
       "    .dataframe tbody tr th {\n",
       "        vertical-align: top;\n",
       "    }\n",
       "\n",
       "    .dataframe thead th {\n",
       "        text-align: right;\n",
       "    }\n",
       "</style>\n",
       "<table border=\"1\" class=\"dataframe\">\n",
       "  <thead>\n",
       "    <tr style=\"text-align: right;\">\n",
       "      <th></th>\n",
       "      <th>sum_sq</th>\n",
       "      <th>df</th>\n",
       "      <th>F</th>\n",
       "      <th>PR(&gt;F)</th>\n",
       "    </tr>\n",
       "  </thead>\n",
       "  <tbody>\n",
       "    <tr>\n",
       "      <th>C(Country)</th>\n",
       "      <td>76.672222</td>\n",
       "      <td>4.0</td>\n",
       "      <td>0.022753</td>\n",
       "      <td>0.998975</td>\n",
       "    </tr>\n",
       "    <tr>\n",
       "      <th>Residual</th>\n",
       "      <td>78347.827778</td>\n",
       "      <td>93.0</td>\n",
       "      <td>NaN</td>\n",
       "      <td>NaN</td>\n",
       "    </tr>\n",
       "  </tbody>\n",
       "</table>\n",
       "</div>"
      ],
      "text/plain": [
       "                  sum_sq    df         F    PR(>F)\n",
       "C(Country)     76.672222   4.0  0.022753  0.998975\n",
       "Residual    78347.827778  93.0       NaN       NaN"
      ]
     },
     "execution_count": 60,
     "metadata": {},
     "output_type": "execute_result"
    }
   ],
   "source": [
    "import statsmodels.api as sm\n",
    "from statsmodels.formula.api import ols\n",
    "\n",
    "\n",
    "model = ols('Rk ~ C(Country)', data=UEFA).fit()\n",
    "anova_table = sm.stats.anova_lm(model, typ=2)\n",
    "anova_table\n"
   ]
  },
  {
   "cell_type": "markdown",
   "id": "b15a68b2",
   "metadata": {},
   "source": [
    "Realizamos una ANOVA y observamos que el p.valor es MAYOR a 0.05, lo cual significa que **no** hay diferencias significativas entre los rankings de los países. \n",
    "\n",
    "Aunque no sería necesario proseguir, en caso de que hubiera salido un resultado significativo sería necesario realizar un test posthoc (por ejemplo un tukey) para determinar exactamente qué grupos resultan distintos entre sí:"
   ]
  },
  {
   "cell_type": "code",
   "execution_count": 64,
   "id": "807ed02f",
   "metadata": {},
   "outputs": [
    {
     "name": "stdout",
     "output_type": "stream",
     "text": [
      " Multiple Comparison of Means - Tukey HSD, FWER=0.05 \n",
      "=====================================================\n",
      "group1 group2 meandiff p-adj   lower    upper  reject\n",
      "-----------------------------------------------------\n",
      "   ENG    ESP     1.05    1.0 -24.4848 26.5848  False\n",
      "   ENG    FRA    -0.05    1.0 -25.5848 25.4848  False\n",
      "   ENG    GER  -1.5111 0.9998 -27.7456 24.7234  False\n",
      "   ENG    ITA     0.85    1.0 -24.6848 26.3848  False\n",
      "   ESP    FRA     -1.1    1.0 -26.6348 24.4348  False\n",
      "   ESP    GER  -2.5611 0.9988 -28.7956 23.6734  False\n",
      "   ESP    ITA     -0.2    1.0 -25.7348 25.3348  False\n",
      "   FRA    GER  -1.4611 0.9999 -27.6956 24.7734  False\n",
      "   FRA    ITA      0.9    1.0 -24.6348 26.4348  False\n",
      "   GER    ITA   2.3611 0.9991 -23.8734 28.5956  False\n",
      "-----------------------------------------------------\n"
     ]
    }
   ],
   "source": [
    "from statsmodels.stats.multicomp import pairwise_tukeyhsd\n",
    "\n",
    "tukey = pairwise_tukeyhsd(endog=UEFA['Rk'],\n",
    "                          groups=UEFA['Country'],\n",
    "                          alpha=0.05)\n",
    "\n",
    "print(tukey)"
   ]
  },
  {
   "cell_type": "markdown",
   "id": "6dfea451",
   "metadata": {},
   "source": [
    "A continuación, analizaré la relación que existe entre dos variables numéricas. Como el siguiente ejercicio he visto que se focaliza en entrenar sklearn y train tests, he decidido buscar otras librerías para explorar más recursos. \n",
    "\n",
    "En un primer lugar, graficaré las variables:"
   ]
  },
  {
   "cell_type": "code",
   "execution_count": 66,
   "id": "0581d717",
   "metadata": {},
   "outputs": [
    {
     "data": {
      "text/plain": [
       "<AxesSubplot:xlabel='Rk', ylabel='GF'>"
      ]
     },
     "execution_count": 66,
     "metadata": {},
     "output_type": "execute_result"
    },
    {
     "data": {
      "image/png": "[encoded data removed]",
      "text/plain": [
       "<Figure size 432x288 with 1 Axes>"
      ]
     },
     "metadata": {
      "needs_background": "light"
     },
     "output_type": "display_data"
    }
   ],
   "source": [
    "UEFA.plot.scatter(x='Rk', y='GF')"
   ]
  },
  {
   "cell_type": "code",
   "execution_count": 72,
   "id": "6fe7d31d",
   "metadata": {},
   "outputs": [
    {
     "data": {
      "text/plain": [
       "-0.8552095484329806"
      ]
     },
     "execution_count": 72,
     "metadata": {},
     "output_type": "execute_result"
    }
   ],
   "source": [
    "UEFA.corr()['Rk']['GF']"
   ]
  },
  {
   "cell_type": "markdown",
   "id": "44cbbb75",
   "metadata": {},
   "source": [
    "Observo una aparente correlación negativa entre los Goles marcados y el ranking (más goles marcados = posición más alta en el ranking, que equivale a un número inferior). Así mismo, cuando calculo la correlación utilizando el método por defecto (Pearson), veo que es elevada y negativa (-0.85).\n",
    "\n",
    "No obstante, si queremos ir más allá, lo que podemos hacer es ajustar un **modelo de regresión** entre ambas variables. Este modelo irá además asociado a un p.valor. Un p.valor bajo implicará que la variable predictora está relacionada significativamente con la variable respuesta (implica \"causalidad\"). Nótese que en el caso de la correlación NO teníamos este componente causal, sino tan solo la evidencia de que ambas variables muestran covariación. \n",
    "\n",
    "Además, con la regresión obtendremos una fórmula (modelo) que podremos utilizar para **predecir**.\n"
   ]
  },
  {
   "cell_type": "code",
   "execution_count": 73,
   "id": "261fb66b",
   "metadata": {},
   "outputs": [
    {
     "data": {
      "image/png": "[encoded data removed]",
      "text/plain": [
       "<Figure size 432x288 with 1 Axes>"
      ]
     },
     "metadata": {
      "needs_background": "light"
     },
     "output_type": "display_data"
    },
    {
     "name": "stdout",
     "output_type": "stream",
     "text": [
      "3.75289891780855e-29\n"
     ]
    }
   ],
   "source": [
    "from scipy import stats\n",
    "\n",
    "x = UEFA['Rk']\n",
    "y = UEFA['GF']\n",
    "slope, intercept, r, p, std_err = stats.linregress(x, y)\n",
    "\n",
    "\n",
    "def myfunc(x):\n",
    "  return slope * x + intercept\n",
    "\n",
    "mymodel = list(map(myfunc, x))\n",
    "\n",
    "plt.scatter(x, y)\n",
    "plt.plot(x, mymodel)\n",
    "plt.show()\n",
    "print(p)"
   ]
  },
  {
   "cell_type": "markdown",
   "id": "10bee363",
   "metadata": {},
   "source": [
    "# Exercici 3\n",
    "\n",
    "Continua amb el conjunt de dades adjunt i selecciona tres atributs del conjunt de dades. Calcula el p-valor i digues si rebutja la hipòtesi nul·la agafant un alfa de 5%."
   ]
  },
  {
   "cell_type": "markdown",
   "id": "378910f3",
   "metadata": {},
   "source": [
    "A nivel general, tengo la impresión que dentro de esta base de datos puede haber múltiples variables cuya variación está relacionada entre ellas. Creo que el hecho de que las variables predictoras no sean independientes entre si puede afectar a la robustez del modelo.\n",
    "\n",
    "Así mismo, veo muy pocas variables categóricas potencialmente comparables (tan solo el país), por lo que plantear un ANOVA de dos factores me parece complicado.\n",
    "\n",
    "Finalmente, decido empezar con una exploración general para ver qué variables no tienen una elevado nivel de correlación entre ellas, de cara a su introducción en el modelo:"
   ]
  },
  {
   "cell_type": "code",
   "execution_count": 76,
   "id": "d7e64224",
   "metadata": {},
   "outputs": [
    {
     "data": {
      "text/html": [
       "<div>\n",
       "<style scoped>\n",
       "    .dataframe tbody tr th:only-of-type {\n",
       "        vertical-align: middle;\n",
       "    }\n",
       "\n",
       "    .dataframe tbody tr th {\n",
       "        vertical-align: top;\n",
       "    }\n",
       "\n",
       "    .dataframe thead th {\n",
       "        text-align: right;\n",
       "    }\n",
       "</style>\n",
       "<table border=\"1\" class=\"dataframe\">\n",
       "  <thead>\n",
       "    <tr style=\"text-align: right;\">\n",
       "      <th></th>\n",
       "      <th>Rk</th>\n",
       "      <th>LgRk</th>\n",
       "      <th>MP</th>\n",
       "      <th>W</th>\n",
       "      <th>D</th>\n",
       "      <th>L</th>\n",
       "      <th>GF</th>\n",
       "      <th>GA</th>\n",
       "      <th>GD</th>\n",
       "      <th>Pts</th>\n",
       "      <th>Pts/G</th>\n",
       "      <th>xG</th>\n",
       "      <th>xGA</th>\n",
       "      <th>xGD</th>\n",
       "      <th>xGD/90</th>\n",
       "      <th>Attendance</th>\n",
       "    </tr>\n",
       "  </thead>\n",
       "  <tbody>\n",
       "    <tr>\n",
       "      <th>Rk</th>\n",
       "      <td>1.000000</td>\n",
       "      <td>0.988130</td>\n",
       "      <td>0.048452</td>\n",
       "      <td>-0.966555</td>\n",
       "      <td>0.301579</td>\n",
       "      <td>0.924273</td>\n",
       "      <td>-0.855210</td>\n",
       "      <td>0.837186</td>\n",
       "      <td>-0.950350</td>\n",
       "      <td>-0.975809</td>\n",
       "      <td>-0.982258</td>\n",
       "      <td>-0.817633</td>\n",
       "      <td>0.789226</td>\n",
       "      <td>-0.896688</td>\n",
       "      <td>-0.895620</td>\n",
       "      <td>-0.542683</td>\n",
       "    </tr>\n",
       "    <tr>\n",
       "      <th>LgRk</th>\n",
       "      <td>0.988130</td>\n",
       "      <td>1.000000</td>\n",
       "      <td>0.077611</td>\n",
       "      <td>-0.952942</td>\n",
       "      <td>0.310066</td>\n",
       "      <td>0.910752</td>\n",
       "      <td>-0.843291</td>\n",
       "      <td>0.826181</td>\n",
       "      <td>-0.937446</td>\n",
       "      <td>-0.959944</td>\n",
       "      <td>-0.968642</td>\n",
       "      <td>-0.795941</td>\n",
       "      <td>0.779205</td>\n",
       "      <td>-0.878232</td>\n",
       "      <td>-0.876824</td>\n",
       "      <td>-0.532435</td>\n",
       "    </tr>\n",
       "    <tr>\n",
       "      <th>MP</th>\n",
       "      <td>0.048452</td>\n",
       "      <td>0.077611</td>\n",
       "      <td>1.000000</td>\n",
       "      <td>0.016391</td>\n",
       "      <td>0.251907</td>\n",
       "      <td>0.063785</td>\n",
       "      <td>-0.083514</td>\n",
       "      <td>-0.049424</td>\n",
       "      <td>-0.025317</td>\n",
       "      <td>0.061955</td>\n",
       "      <td>-0.036399</td>\n",
       "      <td>-0.065936</td>\n",
       "      <td>-0.039456</td>\n",
       "      <td>-0.021589</td>\n",
       "      <td>-0.022025</td>\n",
       "      <td>0.032255</td>\n",
       "    </tr>\n",
       "    <tr>\n",
       "      <th>W</th>\n",
       "      <td>-0.966555</td>\n",
       "      <td>-0.952942</td>\n",
       "      <td>0.016391</td>\n",
       "      <td>1.000000</td>\n",
       "      <td>-0.438612</td>\n",
       "      <td>-0.869553</td>\n",
       "      <td>0.880804</td>\n",
       "      <td>-0.795596</td>\n",
       "      <td>0.944505</td>\n",
       "      <td>0.986890</td>\n",
       "      <td>0.986395</td>\n",
       "      <td>0.851354</td>\n",
       "      <td>-0.753535</td>\n",
       "      <td>0.900125</td>\n",
       "      <td>0.898715</td>\n",
       "      <td>0.583984</td>\n",
       "    </tr>\n",
       "    <tr>\n",
       "      <th>D</th>\n",
       "      <td>0.301579</td>\n",
       "      <td>0.310066</td>\n",
       "      <td>0.251907</td>\n",
       "      <td>-0.438612</td>\n",
       "      <td>1.000000</td>\n",
       "      <td>-0.017991</td>\n",
       "      <td>-0.364518</td>\n",
       "      <td>0.070288</td>\n",
       "      <td>-0.257648</td>\n",
       "      <td>-0.288033</td>\n",
       "      <td>-0.315227</td>\n",
       "      <td>-0.325834</td>\n",
       "      <td>0.072106</td>\n",
       "      <td>-0.238222</td>\n",
       "      <td>-0.241650</td>\n",
       "      <td>-0.243187</td>\n",
       "    </tr>\n",
       "    <tr>\n",
       "      <th>L</th>\n",
       "      <td>0.924273</td>\n",
       "      <td>0.910752</td>\n",
       "      <td>0.063785</td>\n",
       "      <td>-0.869553</td>\n",
       "      <td>-0.017991</td>\n",
       "      <td>1.000000</td>\n",
       "      <td>-0.800298</td>\n",
       "      <td>0.841547</td>\n",
       "      <td>-0.919229</td>\n",
       "      <td>-0.929928</td>\n",
       "      <td>-0.936085</td>\n",
       "      <td>-0.785229</td>\n",
       "      <td>0.795575</td>\n",
       "      <td>-0.879614</td>\n",
       "      <td>-0.876187</td>\n",
       "      <td>-0.510045</td>\n",
       "    </tr>\n",
       "    <tr>\n",
       "      <th>GF</th>\n",
       "      <td>-0.855210</td>\n",
       "      <td>-0.843291</td>\n",
       "      <td>-0.083514</td>\n",
       "      <td>0.880804</td>\n",
       "      <td>-0.364518</td>\n",
       "      <td>-0.800298</td>\n",
       "      <td>1.000000</td>\n",
       "      <td>-0.585596</td>\n",
       "      <td>0.908890</td>\n",
       "      <td>0.873521</td>\n",
       "      <td>0.886530</td>\n",
       "      <td>0.919444</td>\n",
       "      <td>-0.600808</td>\n",
       "      <td>0.867793</td>\n",
       "      <td>0.871334</td>\n",
       "      <td>0.483135</td>\n",
       "    </tr>\n",
       "    <tr>\n",
       "      <th>GA</th>\n",
       "      <td>0.837186</td>\n",
       "      <td>0.826181</td>\n",
       "      <td>-0.049424</td>\n",
       "      <td>-0.795596</td>\n",
       "      <td>0.070288</td>\n",
       "      <td>0.841547</td>\n",
       "      <td>-0.585596</td>\n",
       "      <td>1.000000</td>\n",
       "      <td>-0.870293</td>\n",
       "      <td>-0.835098</td>\n",
       "      <td>-0.828477</td>\n",
       "      <td>-0.592486</td>\n",
       "      <td>0.861637</td>\n",
       "      <td>-0.791906</td>\n",
       "      <td>-0.787094</td>\n",
       "      <td>-0.376617</td>\n",
       "    </tr>\n",
       "    <tr>\n",
       "      <th>GD</th>\n",
       "      <td>-0.950350</td>\n",
       "      <td>-0.937446</td>\n",
       "      <td>-0.025317</td>\n",
       "      <td>0.944505</td>\n",
       "      <td>-0.257648</td>\n",
       "      <td>-0.919229</td>\n",
       "      <td>0.908890</td>\n",
       "      <td>-0.870293</td>\n",
       "      <td>1.000000</td>\n",
       "      <td>0.960402</td>\n",
       "      <td>0.964901</td>\n",
       "      <td>0.863488</td>\n",
       "      <td>-0.808352</td>\n",
       "      <td>0.934701</td>\n",
       "      <td>0.934376</td>\n",
       "      <td>0.487320</td>\n",
       "    </tr>\n",
       "    <tr>\n",
       "      <th>Pts</th>\n",
       "      <td>-0.975809</td>\n",
       "      <td>-0.959944</td>\n",
       "      <td>0.061955</td>\n",
       "      <td>0.986890</td>\n",
       "      <td>-0.288033</td>\n",
       "      <td>-0.929928</td>\n",
       "      <td>0.873521</td>\n",
       "      <td>-0.835098</td>\n",
       "      <td>0.960402</td>\n",
       "      <td>1.000000</td>\n",
       "      <td>0.994677</td>\n",
       "      <td>0.848167</td>\n",
       "      <td>-0.790710</td>\n",
       "      <td>0.916410</td>\n",
       "      <td>0.914305</td>\n",
       "      <td>0.579261</td>\n",
       "    </tr>\n",
       "    <tr>\n",
       "      <th>Pts/G</th>\n",
       "      <td>-0.982258</td>\n",
       "      <td>-0.968642</td>\n",
       "      <td>-0.036399</td>\n",
       "      <td>0.986395</td>\n",
       "      <td>-0.315227</td>\n",
       "      <td>-0.936085</td>\n",
       "      <td>0.886530</td>\n",
       "      <td>-0.828477</td>\n",
       "      <td>0.964901</td>\n",
       "      <td>0.994677</td>\n",
       "      <td>1.000000</td>\n",
       "      <td>0.858782</td>\n",
       "      <td>-0.786105</td>\n",
       "      <td>0.920749</td>\n",
       "      <td>0.919601</td>\n",
       "      <td>0.573021</td>\n",
       "    </tr>\n",
       "    <tr>\n",
       "      <th>xG</th>\n",
       "      <td>-0.817633</td>\n",
       "      <td>-0.795941</td>\n",
       "      <td>-0.065936</td>\n",
       "      <td>0.851354</td>\n",
       "      <td>-0.325834</td>\n",
       "      <td>-0.785229</td>\n",
       "      <td>0.919444</td>\n",
       "      <td>-0.592486</td>\n",
       "      <td>0.863488</td>\n",
       "      <td>0.848167</td>\n",
       "      <td>0.858782</td>\n",
       "      <td>1.000000</td>\n",
       "      <td>-0.606809</td>\n",
       "      <td>0.920748</td>\n",
       "      <td>0.923266</td>\n",
       "      <td>0.493278</td>\n",
       "    </tr>\n",
       "    <tr>\n",
       "      <th>xGA</th>\n",
       "      <td>0.789226</td>\n",
       "      <td>0.779205</td>\n",
       "      <td>-0.039456</td>\n",
       "      <td>-0.753535</td>\n",
       "      <td>0.072106</td>\n",
       "      <td>0.795575</td>\n",
       "      <td>-0.600808</td>\n",
       "      <td>0.861637</td>\n",
       "      <td>-0.808352</td>\n",
       "      <td>-0.790710</td>\n",
       "      <td>-0.786105</td>\n",
       "      <td>-0.606809</td>\n",
       "      <td>1.000000</td>\n",
       "      <td>-0.868826</td>\n",
       "      <td>-0.864504</td>\n",
       "      <td>-0.391825</td>\n",
       "    </tr>\n",
       "    <tr>\n",
       "      <th>xGD</th>\n",
       "      <td>-0.896688</td>\n",
       "      <td>-0.878232</td>\n",
       "      <td>-0.021589</td>\n",
       "      <td>0.900125</td>\n",
       "      <td>-0.238222</td>\n",
       "      <td>-0.879614</td>\n",
       "      <td>0.867793</td>\n",
       "      <td>-0.791906</td>\n",
       "      <td>0.934701</td>\n",
       "      <td>0.916410</td>\n",
       "      <td>0.920749</td>\n",
       "      <td>0.920748</td>\n",
       "      <td>-0.868826</td>\n",
       "      <td>1.000000</td>\n",
       "      <td>0.999438</td>\n",
       "      <td>0.499438</td>\n",
       "    </tr>\n",
       "    <tr>\n",
       "      <th>xGD/90</th>\n",
       "      <td>-0.895620</td>\n",
       "      <td>-0.876824</td>\n",
       "      <td>-0.022025</td>\n",
       "      <td>0.898715</td>\n",
       "      <td>-0.241650</td>\n",
       "      <td>-0.876187</td>\n",
       "      <td>0.871334</td>\n",
       "      <td>-0.787094</td>\n",
       "      <td>0.934376</td>\n",
       "      <td>0.914305</td>\n",
       "      <td>0.919601</td>\n",
       "      <td>0.923266</td>\n",
       "      <td>-0.864504</td>\n",
       "      <td>0.999438</td>\n",
       "      <td>1.000000</td>\n",
       "      <td>0.496074</td>\n",
       "    </tr>\n",
       "    <tr>\n",
       "      <th>Attendance</th>\n",
       "      <td>-0.542683</td>\n",
       "      <td>-0.532435</td>\n",
       "      <td>0.032255</td>\n",
       "      <td>0.583984</td>\n",
       "      <td>-0.243187</td>\n",
       "      <td>-0.510045</td>\n",
       "      <td>0.483135</td>\n",
       "      <td>-0.376617</td>\n",
       "      <td>0.487320</td>\n",
       "      <td>0.579261</td>\n",
       "      <td>0.573021</td>\n",
       "      <td>0.493278</td>\n",
       "      <td>-0.391825</td>\n",
       "      <td>0.499438</td>\n",
       "      <td>0.496074</td>\n",
       "      <td>1.000000</td>\n",
       "    </tr>\n",
       "  </tbody>\n",
       "</table>\n",
       "</div>"
      ],
      "text/plain": [
       "                  Rk      LgRk        MP         W         D         L  \\\n",
       "Rk          1.000000  0.988130  0.048452 -0.966555  0.301579  0.924273   \n",
       "LgRk        0.988130  1.000000  0.077611 -0.952942  0.310066  0.910752   \n",
       "MP          0.048452  0.077611  1.000000  0.016391  0.251907  0.063785   \n",
       "W          -0.966555 -0.952942  0.016391  1.000000 -0.438612 -0.869553   \n",
       "D           0.301579  0.310066  0.251907 -0.438612  1.000000 -0.017991   \n",
       "L           0.924273  0.910752  0.063785 -0.869553 -0.017991  1.000000   \n",
       "GF         -0.855210 -0.843291 -0.083514  0.880804 -0.364518 -0.800298   \n",
       "GA          0.837186  0.826181 -0.049424 -0.795596  0.070288  0.841547   \n",
       "GD         -0.950350 -0.937446 -0.025317  0.944505 -0.257648 -0.919229   \n",
       "Pts        -0.975809 -0.959944  0.061955  0.986890 -0.288033 -0.929928   \n",
       "Pts/G      -0.982258 -0.968642 -0.036399  0.986395 -0.315227 -0.936085   \n",
       "xG         -0.817633 -0.795941 -0.065936  0.851354 -0.325834 -0.785229   \n",
       "xGA         0.789226  0.779205 -0.039456 -0.753535  0.072106  0.795575   \n",
       "xGD        -0.896688 -0.878232 -0.021589  0.900125 -0.238222 -0.879614   \n",
       "xGD/90     -0.895620 -0.876824 -0.022025  0.898715 -0.241650 -0.876187   \n",
       "Attendance -0.542683 -0.532435  0.032255  0.583984 -0.243187 -0.510045   \n",
       "\n",
       "                  GF        GA        GD       Pts     Pts/G        xG  \\\n",
       "Rk         -0.855210  0.837186 -0.950350 -0.975809 -0.982258 -0.817633   \n",
       "LgRk       -0.843291  0.826181 -0.937446 -0.959944 -0.968642 -0.795941   \n",
       "MP         -0.083514 -0.049424 -0.025317  0.061955 -0.036399 -0.065936   \n",
       "W           0.880804 -0.795596  0.944505  0.986890  0.986395  0.851354   \n",
       "D          -0.364518  0.070288 -0.257648 -0.288033 -0.315227 -0.325834   \n",
       "L          -0.800298  0.841547 -0.919229 -0.929928 -0.936085 -0.785229   \n",
       "GF          1.000000 -0.585596  0.908890  0.873521  0.886530  0.919444   \n",
       "GA         -0.585596  1.000000 -0.870293 -0.835098 -0.828477 -0.592486   \n",
       "GD          0.908890 -0.870293  1.000000  0.960402  0.964901  0.863488   \n",
       "Pts         0.873521 -0.835098  0.960402  1.000000  0.994677  0.848167   \n",
       "Pts/G       0.886530 -0.828477  0.964901  0.994677  1.000000  0.858782   \n",
       "xG          0.919444 -0.592486  0.863488  0.848167  0.858782  1.000000   \n",
       "xGA        -0.600808  0.861637 -0.808352 -0.790710 -0.786105 -0.606809   \n",
       "xGD         0.867793 -0.791906  0.934701  0.916410  0.920749  0.920748   \n",
       "xGD/90      0.871334 -0.787094  0.934376  0.914305  0.919601  0.923266   \n",
       "Attendance  0.483135 -0.376617  0.487320  0.579261  0.573021  0.493278   \n",
       "\n",
       "                 xGA       xGD    xGD/90  Attendance  \n",
       "Rk          0.789226 -0.896688 -0.895620   -0.542683  \n",
       "LgRk        0.779205 -0.878232 -0.876824   -0.532435  \n",
       "MP         -0.039456 -0.021589 -0.022025    0.032255  \n",
       "W          -0.753535  0.900125  0.898715    0.583984  \n",
       "D           0.072106 -0.238222 -0.241650   -0.243187  \n",
       "L           0.795575 -0.879614 -0.876187   -0.510045  \n",
       "GF         -0.600808  0.867793  0.871334    0.483135  \n",
       "GA          0.861637 -0.791906 -0.787094   -0.376617  \n",
       "GD         -0.808352  0.934701  0.934376    0.487320  \n",
       "Pts        -0.790710  0.916410  0.914305    0.579261  \n",
       "Pts/G      -0.786105  0.920749  0.919601    0.573021  \n",
       "xG         -0.606809  0.920748  0.923266    0.493278  \n",
       "xGA         1.000000 -0.868826 -0.864504   -0.391825  \n",
       "xGD        -0.868826  1.000000  0.999438    0.499438  \n",
       "xGD/90     -0.864504  0.999438  1.000000    0.496074  \n",
       "Attendance -0.391825  0.499438  0.496074    1.000000  "
      ]
     },
     "execution_count": 76,
     "metadata": {},
     "output_type": "execute_result"
    }
   ],
   "source": [
    "UEFA.corr()"
   ]
  },
  {
   "cell_type": "code",
   "execution_count": 84,
   "id": "e7316d78",
   "metadata": {},
   "outputs": [
    {
     "data": {
      "text/plain": [
       "0.48313482594872875"
      ]
     },
     "execution_count": 84,
     "metadata": {},
     "output_type": "execute_result"
    },
    {
     "data": {
      "image/png": "[encoded data removed]",
      "text/plain": [
       "<Figure size 432x288 with 1 Axes>"
      ]
     },
     "metadata": {
      "needs_background": "light"
     },
     "output_type": "display_data"
    }
   ],
   "source": [
    "UEFA.plot.scatter(x='Attendance', y='GF')\n",
    "UEFA.corr()['Attendance']['GF'] #Correlación no muy alta"
   ]
  },
  {
   "cell_type": "code",
   "execution_count": 78,
   "id": "b3a49df9",
   "metadata": {},
   "outputs": [
    {
     "data": {
      "text/plain": [
       "<AxesSubplot:xlabel='GA', ylabel='GF'>"
      ]
     },
     "execution_count": 78,
     "metadata": {},
     "output_type": "execute_result"
    },
    {
     "data": {
      "image/png": "[encoded data removed]",
      "text/plain": [
       "<Figure size 432x288 with 1 Axes>"
      ]
     },
     "metadata": {
      "needs_background": "light"
     },
     "output_type": "display_data"
    }
   ],
   "source": [
    "UEFA.plot.scatter(x='GA', y='GF')"
   ]
  },
  {
   "cell_type": "markdown",
   "id": "723b0b3f",
   "metadata": {},
   "source": [
    "Tras esta exploración inicial, decido ajustar un modelo lineal con las variables \"Attendance\" y \"GF\" como variables independientes, y la variable \"Ranking\" como variable dependiente. Realmente es lo mismo que la regresión anterior, pero con dos variables explicativas en lugar de una"
   ]
  },
  {
   "cell_type": "code",
   "execution_count": 81,
   "id": "081c230f",
   "metadata": {},
   "outputs": [
    {
     "name": "stdout",
     "output_type": "stream",
     "text": [
      "Intercept: \n",
      " 126.82617733608733\n",
      "Coefficients: \n",
      " [-1.36598728e+00 -3.22942893e-04]\n",
      "                            OLS Regression Results                            \n",
      "==============================================================================\n",
      "Dep. Variable:                     Rk   R-squared:                       0.753\n",
      "Model:                            OLS   Adj. R-squared:                  0.748\n",
      "Method:                 Least Squares   F-statistic:                     145.0\n",
      "Date:                Sun, 23 Oct 2022   Prob (F-statistic):           1.35e-29\n",
      "Time:                        17:36:01   Log-Likelihood:                -398.05\n",
      "No. Observations:                  98   AIC:                             802.1\n",
      "Df Residuals:                      95   BIC:                             809.8\n",
      "Df Model:                           2                                         \n",
      "Covariance Type:            nonrobust                                         \n",
      "==============================================================================\n",
      "                 coef    std err          t      P>|t|      [0.025      0.975]\n",
      "------------------------------------------------------------------------------\n",
      "const        126.8262      4.803     26.405      0.000     117.291     136.362\n",
      "GF            -1.3660      0.103    -13.290      0.000      -1.570      -1.162\n",
      "Attendance    -0.0003      0.000     -2.902      0.005      -0.001      -0.000\n",
      "==============================================================================\n",
      "Omnibus:                        1.022   Durbin-Watson:                   1.054\n",
      "Prob(Omnibus):                  0.600   Jarque-Bera (JB):                0.679\n",
      "Skew:                          -0.195   Prob(JB):                        0.712\n",
      "Kurtosis:                       3.119   Cond. No.                     9.46e+04\n",
      "==============================================================================\n",
      "\n",
      "Notes:\n",
      "[1] Standard Errors assume that the covariance matrix of the errors is correctly specified.\n",
      "[2] The condition number is large, 9.46e+04. This might indicate that there are\n",
      "strong multicollinearity or other numerical problems.\n"
     ]
    }
   ],
   "source": [
    "from sklearn import linear_model\n",
    "import statsmodels.api as sm\n",
    "\n",
    "x = UEFA[['GF','Attendance']]\n",
    "y = UEFA['Rk']\n",
    " \n",
    "regr = linear_model.LinearRegression()\n",
    "regr.fit(x, y)\n",
    "\n",
    "print('Intercept: \\n', regr.intercept_)\n",
    "print('Coefficients: \\n', regr.coef_)\n",
    "\n",
    "#Para printear el sumario del modelo, usaré stats models, pero los resultados deberían equivaler!!\n",
    "\n",
    "x = sm.add_constant(x) #se añade constante al modelo\n",
    " \n",
    "model = sm.OLS(y, x).fit() #se ajusta el modelo\n",
    "predictions = model.predict(x) \n",
    " \n",
    "print_model = model.summary()\n",
    "print(print_model)"
   ]
  },
  {
   "cell_type": "markdown",
   "id": "4cc497c3",
   "metadata": {},
   "source": [
    "Observamos que los resultados son consistentes con ambas metodologías (los coeficientes son los mismos). Podemos ver también que el p.valor de las variables independientes (GF y Attendance) es significativo (es decir, ambas son explicativas). La R ajustada es bastante alta (0.748)\n",
    "\n",
    "Otro factor a destacar es el aviso sobre una posible \"multicolinearidad\" - es decir, que las variables predictoras estén correlacionadas entre sí. Esto es algo que ya me esperaba de base, pero teniendo en cuenta que el resto de variables también muestran correlaciones altas entre ellas, no creo que se pueda mejorar mucho (he leído que ajustar los valores de la variable x puede ayudar en los casos de las regresiones de una variable...)"
   ]
  }
 ],
 "metadata": {
  "kernelspec": {
   "display_name": "Python 3 (ipykernel)",
   "language": "python",
   "name": "python3"
  },
  "language_info": {
   "codemirror_mode": {
    "name": "ipython",
    "version": 3
   },
   "file_extension": ".py",
   "mimetype": "text/x-python",
   "name": "python",
   "nbconvert_exporter": "python",
   "pygments_lexer": "ipython3",
   "version": "3.9.12"
  }
 },
 "nbformat": 4,
 "nbformat_minor": 5
}
