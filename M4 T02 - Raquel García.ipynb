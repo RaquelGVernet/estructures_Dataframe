{
 "cells": [
  {
   "cell_type": "markdown",
   "id": "98d15472",
   "metadata": {},
   "source": [
    "# M4 T02 - Preprocesado y visualización:\n",
    "\n",
    "## Exercici 1\n",
    "\n",
    "Realitza la pràctica del notebook a GitHub \"03 EXAMINING DATA\" (fes una còpia i executa els comandaments amb el mateix dataset county.txt). Aquest exercici consisteix a observar les diferents possibilitats que ofereixen les diferents llibreries de visualització gràfica.\n",
    "\n",
    "**NOTA: He hecho este ejercicio, pero como no he tenido que programar nada no he adjuntado nada (no entiendo exactamente qué debería adjuntar)**\n",
    "\n",
    "\n",
    "## Exercici 2\n",
    "\n",
    "Fes les tasques de preprocessat  i adequació del Dataset que disposem en el repositori de GitHub PRE-PROCESSING-DATA amb l'objectiu de preparar-lo i treballar-lo com a dataframe per a extreure'n informació.\n",
    "\n",
    "->PRE-PROCESSING-DATA/movies.dat\n",
    "\n",
    "\n",
    "## Exercici 3\n",
    "\n",
    "Mostra la teva creativitat. Què creus rellevant mostrar del Dataset \"movies.dat\" de l'exercici anterior?\n",
    "\n",
    "Fes una o dues representacions gràfiques i justifica la teva elecció."
   ]
  },
  {
   "cell_type": "markdown",
   "id": "70b68508",
   "metadata": {},
   "source": [
    "# Ejercicio 2 - Preprocesado\n",
    "\n",
    "Para este ejercicio, he seguido las indicaciones que se mostraban en el campus:\n",
    "\n",
    "- Tengo que quedarme con tres columnas: Película, Año y Género\n",
    "- Solamente puede haber un género."
   ]
  },
  {
   "cell_type": "code",
   "execution_count": 16,
   "id": "79422c0e",
   "metadata": {},
   "outputs": [
    {
     "name": "stderr",
     "output_type": "stream",
     "text": [
      "C:\\Users\\rakel\\AppData\\Local\\Temp\\ipykernel_12624\\1150134830.py:3: ParserWarning: Falling back to the 'python' engine because the 'c' engine does not support regex separators (separators > 1 char and different from '\\s+' are interpreted as regex); you can avoid this warning by specifying engine='python'.\n",
      "  movies = pd.read_table('movies.dat.txt', encoding = \"ISO-8859-1\", delimiter=\"::\",\n"
     ]
    }
   ],
   "source": [
    "import pandas as pd\n",
    "\n",
    "movies = pd.read_table('movies.dat.txt', encoding = \"ISO-8859-1\", delimiter=\"::\", \n",
    "                       header=None, names=[\"Indice\", \"Peli\", \"Genero\"])\n"
   ]
  },
  {
   "cell_type": "markdown",
   "id": "04fe25c1",
   "metadata": {},
   "source": [
    "A pesar de que aparece un Warning, el fichero carga correctamente. Para ello, indico el tipo de encoding (ya que inicialmente aparecía un error) y el delimitador (en este caso, \"::\"). Además, indico que no tiene cabezal (header=None) pero le añado unos propios"
   ]
  },
  {
   "cell_type": "code",
   "execution_count": 17,
   "id": "5b956725",
   "metadata": {},
   "outputs": [
    {
     "name": "stdout",
     "output_type": "stream",
     "text": [
      "3883\n",
      "3\n"
     ]
    },
    {
     "data": {
      "text/html": [
       "<div>\n",
       "<style scoped>\n",
       "    .dataframe tbody tr th:only-of-type {\n",
       "        vertical-align: middle;\n",
       "    }\n",
       "\n",
       "    .dataframe tbody tr th {\n",
       "        vertical-align: top;\n",
       "    }\n",
       "\n",
       "    .dataframe thead th {\n",
       "        text-align: right;\n",
       "    }\n",
       "</style>\n",
       "<table border=\"1\" class=\"dataframe\">\n",
       "  <thead>\n",
       "    <tr style=\"text-align: right;\">\n",
       "      <th></th>\n",
       "      <th>Indice</th>\n",
       "      <th>Peli</th>\n",
       "      <th>Genero</th>\n",
       "    </tr>\n",
       "  </thead>\n",
       "  <tbody>\n",
       "    <tr>\n",
       "      <th>0</th>\n",
       "      <td>1</td>\n",
       "      <td>Toy Story (1995)</td>\n",
       "      <td>Animation|Children's|Comedy</td>\n",
       "    </tr>\n",
       "    <tr>\n",
       "      <th>1</th>\n",
       "      <td>2</td>\n",
       "      <td>Jumanji (1995)</td>\n",
       "      <td>Adventure|Children's|Fantasy</td>\n",
       "    </tr>\n",
       "    <tr>\n",
       "      <th>2</th>\n",
       "      <td>3</td>\n",
       "      <td>Grumpier Old Men (1995)</td>\n",
       "      <td>Comedy|Romance</td>\n",
       "    </tr>\n",
       "    <tr>\n",
       "      <th>3</th>\n",
       "      <td>4</td>\n",
       "      <td>Waiting to Exhale (1995)</td>\n",
       "      <td>Comedy|Drama</td>\n",
       "    </tr>\n",
       "    <tr>\n",
       "      <th>4</th>\n",
       "      <td>5</td>\n",
       "      <td>Father of the Bride Part II (1995)</td>\n",
       "      <td>Comedy</td>\n",
       "    </tr>\n",
       "  </tbody>\n",
       "</table>\n",
       "</div>"
      ],
      "text/plain": [
       "   Indice                                Peli                        Genero\n",
       "0       1                    Toy Story (1995)   Animation|Children's|Comedy\n",
       "1       2                      Jumanji (1995)  Adventure|Children's|Fantasy\n",
       "2       3             Grumpier Old Men (1995)                Comedy|Romance\n",
       "3       4            Waiting to Exhale (1995)                  Comedy|Drama\n",
       "4       5  Father of the Bride Part II (1995)                        Comedy"
      ]
     },
     "execution_count": 17,
     "metadata": {},
     "output_type": "execute_result"
    }
   ],
   "source": [
    "print(movies.shape[0]) #Número de registros\n",
    "print(movies.shape[1]) #Número de columnas\n",
    "movies[:5] #Primeras 5 filas - Permite ver que hemos cargado bien los datos y el tipo de datos que tenemos"
   ]
  },
  {
   "cell_type": "markdown",
   "id": "d7e778c8",
   "metadata": {},
   "source": [
    "Observo que se trata de una base de datos manejable con 3 columnas y casi 3900 registros. Así mismo, observo que hay varios géneros para cada registro, y que el año se incluye dentro de la columna \"Peli\". Vamos a solucionar eso:"
   ]
  },
  {
   "cell_type": "code",
   "execution_count": 21,
   "id": "fbdba991",
   "metadata": {},
   "outputs": [
    {
     "data": {
      "text/html": [
       "<div>\n",
       "<style scoped>\n",
       "    .dataframe tbody tr th:only-of-type {\n",
       "        vertical-align: middle;\n",
       "    }\n",
       "\n",
       "    .dataframe tbody tr th {\n",
       "        vertical-align: top;\n",
       "    }\n",
       "\n",
       "    .dataframe thead th {\n",
       "        text-align: right;\n",
       "    }\n",
       "</style>\n",
       "<table border=\"1\" class=\"dataframe\">\n",
       "  <thead>\n",
       "    <tr style=\"text-align: right;\">\n",
       "      <th></th>\n",
       "      <th>Indice</th>\n",
       "      <th>Peli</th>\n",
       "      <th>Genero</th>\n",
       "      <th>Año</th>\n",
       "    </tr>\n",
       "  </thead>\n",
       "  <tbody>\n",
       "    <tr>\n",
       "      <th>3882</th>\n",
       "      <td>3952</td>\n",
       "      <td>Contender, The (2000)</td>\n",
       "      <td>Drama|Thriller</td>\n",
       "      <td>2000</td>\n",
       "    </tr>\n",
       "    <tr>\n",
       "      <th>3881</th>\n",
       "      <td>3951</td>\n",
       "      <td>Two Family House (2000)</td>\n",
       "      <td>Drama</td>\n",
       "      <td>2000</td>\n",
       "    </tr>\n",
       "    <tr>\n",
       "      <th>3880</th>\n",
       "      <td>3950</td>\n",
       "      <td>Tigerland (2000)</td>\n",
       "      <td>Drama</td>\n",
       "      <td>2000</td>\n",
       "    </tr>\n",
       "    <tr>\n",
       "      <th>3879</th>\n",
       "      <td>3949</td>\n",
       "      <td>Requiem for a Dream (2000)</td>\n",
       "      <td>Drama</td>\n",
       "      <td>2000</td>\n",
       "    </tr>\n",
       "    <tr>\n",
       "      <th>3878</th>\n",
       "      <td>3948</td>\n",
       "      <td>Meet the Parents (2000)</td>\n",
       "      <td>Comedy</td>\n",
       "      <td>2000</td>\n",
       "    </tr>\n",
       "    <tr>\n",
       "      <th>...</th>\n",
       "      <td>...</td>\n",
       "      <td>...</td>\n",
       "      <td>...</td>\n",
       "      <td>...</td>\n",
       "    </tr>\n",
       "    <tr>\n",
       "      <th>30</th>\n",
       "      <td>31</td>\n",
       "      <td>Dangerous Minds (1995)</td>\n",
       "      <td>Drama</td>\n",
       "      <td>1995</td>\n",
       "    </tr>\n",
       "    <tr>\n",
       "      <th>29</th>\n",
       "      <td>30</td>\n",
       "      <td>Shanghai Triad (Yao a yao yao dao waipo qiao) ...</td>\n",
       "      <td>Drama</td>\n",
       "      <td>1995</td>\n",
       "    </tr>\n",
       "    <tr>\n",
       "      <th>28</th>\n",
       "      <td>29</td>\n",
       "      <td>City of Lost Children, The (1995)</td>\n",
       "      <td>Adventure|Sci-Fi</td>\n",
       "      <td>1995</td>\n",
       "    </tr>\n",
       "    <tr>\n",
       "      <th>27</th>\n",
       "      <td>28</td>\n",
       "      <td>Persuasion (1995)</td>\n",
       "      <td>Romance</td>\n",
       "      <td>1995</td>\n",
       "    </tr>\n",
       "    <tr>\n",
       "      <th>26</th>\n",
       "      <td>27</td>\n",
       "      <td>Now and Then (1995)</td>\n",
       "      <td>Drama</td>\n",
       "      <td>1995</td>\n",
       "    </tr>\n",
       "  </tbody>\n",
       "</table>\n",
       "<p>3857 rows × 4 columns</p>\n",
       "</div>"
      ],
      "text/plain": [
       "      Indice                                               Peli  \\\n",
       "3882    3952                              Contender, The (2000)   \n",
       "3881    3951                            Two Family House (2000)   \n",
       "3880    3950                                   Tigerland (2000)   \n",
       "3879    3949                         Requiem for a Dream (2000)   \n",
       "3878    3948                            Meet the Parents (2000)   \n",
       "...      ...                                                ...   \n",
       "30        31                             Dangerous Minds (1995)   \n",
       "29        30  Shanghai Triad (Yao a yao yao dao waipo qiao) ...   \n",
       "28        29                  City of Lost Children, The (1995)   \n",
       "27        28                                  Persuasion (1995)   \n",
       "26        27                                Now and Then (1995)   \n",
       "\n",
       "                Genero   Año  \n",
       "3882    Drama|Thriller  2000  \n",
       "3881             Drama  2000  \n",
       "3880             Drama  2000  \n",
       "3879             Drama  2000  \n",
       "3878            Comedy  2000  \n",
       "...                ...   ...  \n",
       "30               Drama  1995  \n",
       "29               Drama  1995  \n",
       "28    Adventure|Sci-Fi  1995  \n",
       "27             Romance  1995  \n",
       "26               Drama  1995  \n",
       "\n",
       "[3857 rows x 4 columns]"
      ]
     },
     "execution_count": 21,
     "metadata": {},
     "output_type": "execute_result"
    }
   ],
   "source": [
    "movies['Año'] = movies['Peli'].str.extract(r'\\((\\d*?)\\)')\n",
    "movies[:25:-1]"
   ]
  },
  {
   "cell_type": "markdown",
   "id": "d75ba0ed",
   "metadata": {},
   "source": [
    "En el paso anterior, he creado una nueva columna llamada **año**. Observo que parece funcionar correctamente. Resulta importante indicar que **solamente se extraigan los carácteres en aquellos casos que incluyan números** (indicado mediante \\d), ya que algunos títulos de películas pueden incluir texto entre paréntesis.\n",
    "Guardo aquí un link que me ha sido útil para entender la sintaxis: https://cssbook.net/chapter09.html\n",
    "\n",
    "Sigo con el proceso. Ahora eliminaré todos los géneros más allá del primero (como no tengo ninguna instrucción más para priorizar, me quedaré tan solo con el primero que aparezca):"
   ]
  },
  {
   "cell_type": "code",
   "execution_count": 22,
   "id": "acd6754d",
   "metadata": {},
   "outputs": [
    {
     "data": {
      "text/html": [
       "<div>\n",
       "<style scoped>\n",
       "    .dataframe tbody tr th:only-of-type {\n",
       "        vertical-align: middle;\n",
       "    }\n",
       "\n",
       "    .dataframe tbody tr th {\n",
       "        vertical-align: top;\n",
       "    }\n",
       "\n",
       "    .dataframe thead th {\n",
       "        text-align: right;\n",
       "    }\n",
       "</style>\n",
       "<table border=\"1\" class=\"dataframe\">\n",
       "  <thead>\n",
       "    <tr style=\"text-align: right;\">\n",
       "      <th></th>\n",
       "      <th>Indice</th>\n",
       "      <th>Peli</th>\n",
       "      <th>Genero</th>\n",
       "      <th>Año</th>\n",
       "    </tr>\n",
       "  </thead>\n",
       "  <tbody>\n",
       "    <tr>\n",
       "      <th>0</th>\n",
       "      <td>1</td>\n",
       "      <td>Toy Story (1995)</td>\n",
       "      <td>Animation</td>\n",
       "      <td>1995</td>\n",
       "    </tr>\n",
       "    <tr>\n",
       "      <th>1</th>\n",
       "      <td>2</td>\n",
       "      <td>Jumanji (1995)</td>\n",
       "      <td>Adventure</td>\n",
       "      <td>1995</td>\n",
       "    </tr>\n",
       "    <tr>\n",
       "      <th>2</th>\n",
       "      <td>3</td>\n",
       "      <td>Grumpier Old Men (1995)</td>\n",
       "      <td>Comedy</td>\n",
       "      <td>1995</td>\n",
       "    </tr>\n",
       "    <tr>\n",
       "      <th>3</th>\n",
       "      <td>4</td>\n",
       "      <td>Waiting to Exhale (1995)</td>\n",
       "      <td>Comedy</td>\n",
       "      <td>1995</td>\n",
       "    </tr>\n",
       "    <tr>\n",
       "      <th>4</th>\n",
       "      <td>5</td>\n",
       "      <td>Father of the Bride Part II (1995)</td>\n",
       "      <td>Comedy</td>\n",
       "      <td>1995</td>\n",
       "    </tr>\n",
       "  </tbody>\n",
       "</table>\n",
       "</div>"
      ],
      "text/plain": [
       "   Indice                                Peli     Genero   Año\n",
       "0       1                    Toy Story (1995)  Animation  1995\n",
       "1       2                      Jumanji (1995)  Adventure  1995\n",
       "2       3             Grumpier Old Men (1995)     Comedy  1995\n",
       "3       4            Waiting to Exhale (1995)     Comedy  1995\n",
       "4       5  Father of the Bride Part II (1995)     Comedy  1995"
      ]
     },
     "execution_count": 22,
     "metadata": {},
     "output_type": "execute_result"
    }
   ],
   "source": [
    "movies['Genero']=movies['Genero'].str.split('|', 1).str[0].str.strip()\n",
    "movies[:5]"
   ]
  },
  {
   "cell_type": "markdown",
   "id": "e5b9db68",
   "metadata": {},
   "source": [
    "Para ello, he realizado primero un \"split\" de la string, indicando que la partición debía producirse después de la primera barra. Luego he eliminado todo aquello más allá del primer split.\n",
    "\n",
    "Finalmente, eliminaré la columna índice:"
   ]
  },
  {
   "cell_type": "code",
   "execution_count": 23,
   "id": "ed49a330",
   "metadata": {},
   "outputs": [
    {
     "data": {
      "text/html": [
       "<div>\n",
       "<style scoped>\n",
       "    .dataframe tbody tr th:only-of-type {\n",
       "        vertical-align: middle;\n",
       "    }\n",
       "\n",
       "    .dataframe tbody tr th {\n",
       "        vertical-align: top;\n",
       "    }\n",
       "\n",
       "    .dataframe thead th {\n",
       "        text-align: right;\n",
       "    }\n",
       "</style>\n",
       "<table border=\"1\" class=\"dataframe\">\n",
       "  <thead>\n",
       "    <tr style=\"text-align: right;\">\n",
       "      <th></th>\n",
       "      <th>Peli</th>\n",
       "      <th>Genero</th>\n",
       "      <th>Año</th>\n",
       "    </tr>\n",
       "  </thead>\n",
       "  <tbody>\n",
       "    <tr>\n",
       "      <th>0</th>\n",
       "      <td>Toy Story (1995)</td>\n",
       "      <td>Animation</td>\n",
       "      <td>1995</td>\n",
       "    </tr>\n",
       "    <tr>\n",
       "      <th>1</th>\n",
       "      <td>Jumanji (1995)</td>\n",
       "      <td>Adventure</td>\n",
       "      <td>1995</td>\n",
       "    </tr>\n",
       "    <tr>\n",
       "      <th>2</th>\n",
       "      <td>Grumpier Old Men (1995)</td>\n",
       "      <td>Comedy</td>\n",
       "      <td>1995</td>\n",
       "    </tr>\n",
       "    <tr>\n",
       "      <th>3</th>\n",
       "      <td>Waiting to Exhale (1995)</td>\n",
       "      <td>Comedy</td>\n",
       "      <td>1995</td>\n",
       "    </tr>\n",
       "    <tr>\n",
       "      <th>4</th>\n",
       "      <td>Father of the Bride Part II (1995)</td>\n",
       "      <td>Comedy</td>\n",
       "      <td>1995</td>\n",
       "    </tr>\n",
       "  </tbody>\n",
       "</table>\n",
       "</div>"
      ],
      "text/plain": [
       "                                 Peli     Genero   Año\n",
       "0                    Toy Story (1995)  Animation  1995\n",
       "1                      Jumanji (1995)  Adventure  1995\n",
       "2             Grumpier Old Men (1995)     Comedy  1995\n",
       "3            Waiting to Exhale (1995)     Comedy  1995\n",
       "4  Father of the Bride Part II (1995)     Comedy  1995"
      ]
     },
     "execution_count": 23,
     "metadata": {},
     "output_type": "execute_result"
    }
   ],
   "source": [
    "movies = movies.drop(\"Indice\", axis='columns')\n",
    "movies[:5]"
   ]
  },
  {
   "cell_type": "markdown",
   "id": "7b4cfe5f",
   "metadata": {},
   "source": [
    "Ya estamos muy cerca! Una última cosa que he hecho (más por tema estético que necesario) es eliminar los parentesis con los años de la columna \"Peli\""
   ]
  },
  {
   "cell_type": "code",
   "execution_count": 25,
   "id": "e8afc7ee",
   "metadata": {},
   "outputs": [
    {
     "name": "stderr",
     "output_type": "stream",
     "text": [
      "C:\\Users\\rakel\\AppData\\Local\\Temp\\ipykernel_12624\\2592073973.py:1: FutureWarning: The default value of regex will change from True to False in a future version.\n",
      "  movies['Peli'] = movies['Peli'].str.replace(r'\\((\\d*?)\\)', \"\")\n"
     ]
    },
    {
     "data": {
      "text/html": [
       "<div>\n",
       "<style scoped>\n",
       "    .dataframe tbody tr th:only-of-type {\n",
       "        vertical-align: middle;\n",
       "    }\n",
       "\n",
       "    .dataframe tbody tr th {\n",
       "        vertical-align: top;\n",
       "    }\n",
       "\n",
       "    .dataframe thead th {\n",
       "        text-align: right;\n",
       "    }\n",
       "</style>\n",
       "<table border=\"1\" class=\"dataframe\">\n",
       "  <thead>\n",
       "    <tr style=\"text-align: right;\">\n",
       "      <th></th>\n",
       "      <th>Peli</th>\n",
       "      <th>Genero</th>\n",
       "      <th>Año</th>\n",
       "    </tr>\n",
       "  </thead>\n",
       "  <tbody>\n",
       "    <tr>\n",
       "      <th>0</th>\n",
       "      <td>Toy Story</td>\n",
       "      <td>Animation</td>\n",
       "      <td>1995</td>\n",
       "    </tr>\n",
       "    <tr>\n",
       "      <th>1</th>\n",
       "      <td>Jumanji</td>\n",
       "      <td>Adventure</td>\n",
       "      <td>1995</td>\n",
       "    </tr>\n",
       "    <tr>\n",
       "      <th>2</th>\n",
       "      <td>Grumpier Old Men</td>\n",
       "      <td>Comedy</td>\n",
       "      <td>1995</td>\n",
       "    </tr>\n",
       "    <tr>\n",
       "      <th>3</th>\n",
       "      <td>Waiting to Exhale</td>\n",
       "      <td>Comedy</td>\n",
       "      <td>1995</td>\n",
       "    </tr>\n",
       "    <tr>\n",
       "      <th>4</th>\n",
       "      <td>Father of the Bride Part II</td>\n",
       "      <td>Comedy</td>\n",
       "      <td>1995</td>\n",
       "    </tr>\n",
       "  </tbody>\n",
       "</table>\n",
       "</div>"
      ],
      "text/plain": [
       "                           Peli     Genero   Año\n",
       "0                    Toy Story   Animation  1995\n",
       "1                      Jumanji   Adventure  1995\n",
       "2             Grumpier Old Men      Comedy  1995\n",
       "3            Waiting to Exhale      Comedy  1995\n",
       "4  Father of the Bride Part II      Comedy  1995"
      ]
     },
     "execution_count": 25,
     "metadata": {},
     "output_type": "execute_result"
    }
   ],
   "source": [
    "movies['Peli'] = movies['Peli'].str.replace(r'\\((\\d*?)\\)', \"\")\n",
    "movies[:5]"
   ]
  },
  {
   "cell_type": "markdown",
   "id": "12e78271",
   "metadata": {},
   "source": [
    "Ya está todo el preprocesado listo!!"
   ]
  },
  {
   "cell_type": "markdown",
   "id": "64cb05ec",
   "metadata": {},
   "source": [
    "# Ejercicio 3 - Visualización\n",
    "\n",
    "A continuación, procedo a proponer algunas visualizaciones sencillas para esta base de datos. La primera cosa que tenemos que hacer es ver un poco los rasgos generales de nuestra base de datos:"
   ]
  },
  {
   "cell_type": "code",
   "execution_count": 31,
   "id": "1b6091d5",
   "metadata": {},
   "outputs": [
    {
     "name": "stdout",
     "output_type": "stream",
     "text": [
      "<class 'pandas.core.frame.DataFrame'>\n",
      "RangeIndex: 3883 entries, 0 to 3882\n",
      "Data columns (total 3 columns):\n",
      " #   Column  Non-Null Count  Dtype \n",
      "---  ------  --------------  ----- \n",
      " 0   Peli    3883 non-null   object\n",
      " 1   Genero  3883 non-null   object\n",
      " 2   Año     3883 non-null   object\n",
      "dtypes: object(3)\n",
      "memory usage: 91.1+ KB\n",
      "1996    345\n",
      "1995    342\n",
      "1998    337\n",
      "1997    315\n",
      "1999    283\n",
      "       ... \n",
      "1923      3\n",
      "1919      3\n",
      "1922      2\n",
      "1920      2\n",
      "1921      1\n",
      "Name: Año, Length: 81, dtype: int64\n",
      "Drama          1176\n",
      "Comedy         1024\n",
      "Action          503\n",
      "Horror          262\n",
      "Adventure       155\n",
      "Crime           131\n",
      "Documentary     123\n",
      "Thriller        101\n",
      "Animation        90\n",
      "Children's       89\n",
      "Romance          50\n",
      "Sci-Fi           46\n",
      "Mystery          36\n",
      "Western          33\n",
      "Film-Noir        25\n",
      "Musical          25\n",
      "War              12\n",
      "Fantasy           2\n",
      "Name: Genero, dtype: int64\n"
     ]
    }
   ],
   "source": [
    "movies.info()\n",
    "print(movies['Año'].value_counts())\n",
    "print(movies['Genero'].value_counts())"
   ]
  },
  {
   "cell_type": "markdown",
   "id": "558813d9",
   "metadata": {},
   "source": [
    "Vemos varias cosas:\n",
    "- Hay muchos años, y además está como objeto (ahora lo cambiaré a numérico)\n",
    "- El número de géneros es bastante manejable para visualizarlo como categoría\n",
    "\n",
    "Sigo con el procesado: Cambio la columna \"Año\" a variable numérica"
   ]
  },
  {
   "cell_type": "code",
   "execution_count": 36,
   "id": "7cd456fa",
   "metadata": {},
   "outputs": [
    {
     "name": "stdout",
     "output_type": "stream",
     "text": [
      "<class 'pandas.core.frame.DataFrame'>\n",
      "RangeIndex: 3883 entries, 0 to 3882\n",
      "Data columns (total 3 columns):\n",
      " #   Column  Non-Null Count  Dtype \n",
      "---  ------  --------------  ----- \n",
      " 0   Peli    3883 non-null   object\n",
      " 1   Genero  3883 non-null   object\n",
      " 2   Año     3883 non-null   int32 \n",
      "dtypes: int32(1), object(2)\n",
      "memory usage: 76.0+ KB\n"
     ]
    }
   ],
   "source": [
    "movies['Año'] = movies['Año'].astype(int)\n",
    "movies.info()"
   ]
  },
  {
   "cell_type": "markdown",
   "id": "830b0a6e",
   "metadata": {},
   "source": [
    "Y ahora podemos empezar con las visualizaciones! En un primer lugar, parece buena idea ver qué cantidad de películas tenemos para cada género. "
   ]
  },
  {
   "cell_type": "code",
   "execution_count": 41,
   "id": "080fe0a6",
   "metadata": {
    "scrolled": true
   },
   "outputs": [
    {
     "data": {
      "text/plain": [
       "<AxesSubplot:>"
      ]
     },
     "execution_count": 41,
     "metadata": {},
     "output_type": "execute_result"
    },
    {
     "data": {
      "image/png": "[encoded data removed]",
      "text/plain": [
       "<Figure size 1080x720 with 1 Axes>"
      ]
     },
     "metadata": {
      "needs_background": "light"
     },
     "output_type": "display_data"
    }
   ],
   "source": [
    "import matplotlib as mpl\n",
    "import matplotlib.pyplot as plt\n",
    "import seaborn as sns\n",
    "\n",
    "Geneross = movies['Genero'].value_counts().index\n",
    "num_porgenero = movies['Genero'].value_counts().values\n",
    "\n",
    "\n",
    "plt.figure(figsize=(15,10))\n",
    "sns.barplot(x=Geneross, y=num_porgenero, palette=\"vlag\") #Utilizo Seaborn, ya que me permite usar con facilidad paletas en los bar plots\n"
   ]
  },
  {
   "cell_type": "markdown",
   "id": "4c5ab472",
   "metadata": {},
   "source": [
    "Podemos observar que la mayor cantidad de películas se ubican en los géneros de Drama y Comedia. Hay que tener en cuenta que he eliminado todos los géneros más allá de la barra: es posible que eso haya dejado de manera prioritaria los géneros más generales. Observamos que las categorías más específicas son muy minoritarias.\n",
    "\n",
    "Pasamos ahora a ver el número de películas en función de los años:"
   ]
  },
  {
   "cell_type": "code",
   "execution_count": 43,
   "id": "363ac6d5",
   "metadata": {},
   "outputs": [
    {
     "data": {
      "text/plain": [
       "<AxesSubplot:>"
      ]
     },
     "execution_count": 43,
     "metadata": {},
     "output_type": "execute_result"
    },
    {
     "data": {
      "image/png": "[encoded data removed]",
      "text/plain": [
       "<Figure size 432x288 with 1 Axes>"
      ]
     },
     "metadata": {
      "needs_background": "light"
     },
     "output_type": "display_data"
    }
   ],
   "source": [
    "Añoss = movies['Año'].value_counts().index\n",
    "num_poraños = movies['Año'].value_counts().values\n",
    "\n",
    "sns.lineplot(x=Añoss, y=num_poraños)"
   ]
  },
  {
   "cell_type": "markdown",
   "id": "6e5e7320",
   "metadata": {},
   "source": [
    "Observamos que se produce un aumento considerable a partir del 1990, para posteriormente reducirse a partir del 2000. Antes de sacar conclusiones, deberíamos saber cómo se ha decidido qué datos se incluían o dejaban de incluir en la base de datos. "
   ]
  }
 ],
 "metadata": {
  "kernelspec": {
   "display_name": "Python 3 (ipykernel)",
   "language": "python",
   "name": "python3"
  },
  "language_info": {
   "codemirror_mode": {
    "name": "ipython",
    "version": 3
   },
   "file_extension": ".py",
   "mimetype": "text/x-python",
   "name": "python",
   "nbconvert_exporter": "python",
   "pygments_lexer": "ipython3",
   "version": "3.9.12"
  }
 },
 "nbformat": 4,
 "nbformat_minor": 5
}
