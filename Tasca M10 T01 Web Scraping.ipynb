{
 "cells": [
  {
   "cell_type": "markdown",
   "id": "aaeb4c90",
   "metadata": {},
   "source": [
    "# Tasca 10. Web Scrapping\n",
    "\n",
    "## Exercici 1\n",
    "\n",
    "Realitza web scraping de dues de les tres pàgines web proposades utilitzant BeautifulSoup primer i Selenium després. \n",
    "\n",
    "- http://quotes.toscrape.com\n",
    "\n",
    "- https://www.bolsamadrid.es\n",
    "\n",
    "- www.wikipedia.es (fes alguna cerca primer i escrapeja algun contingut)\n",
    "\n",
    "\n",
    "\n",
    "## Exercici 2\n",
    "\n",
    "Documenta en un Word el teu conjunt de dades generat amb la informació que tenen els diferents arxius de Kaggle.\n",
    "\n",
    " Per saber més\n",
    "\n",
    "A manera d'exemple del que es demana pots consultar aquest enllaç:\n",
    "\n",
    "->https://www.kaggle.com/datasets/vivovinco/20212022-football-team-stats.\n",
    "\n",
    "\n",
    "\n",
    "## Exercici 3\n",
    "\n",
    "Tria una pàgina web que tu vulguis i realitza web scraping mitjançant la llibreria Selenium primer i Scrapy després. "
   ]
  },
  {
   "cell_type": "markdown",
   "id": "217cd089",
   "metadata": {},
   "source": [
    "## 1. Preparación previa \n",
    "\n",
    "Para esta tarea he decidido crear un entorno de conda independiente, y he querido practicar un poco desde la consola de Conda. Para dejar constancia del proceso:\n",
    "\n",
    "- En primer lugar, he creado un entorno con python y los paquetes de conda que vienen por defecto, usando el comando:\n",
    "\n",
    "conda create -n itacademy python=3.9 anaconda\n",
    "\n",
    "- En segundo lugar, he activado el entorno usando el comando:\n",
    "\n",
    "conda activate itacademy\n",
    "\n",
    "- A continuación, he instalado los paquetes que usaré:\n",
    "\n",
    "python -m pip install requests\n",
    "\n",
    "python -m pip install beautifulsoup4\n",
    "\n",
    "python -m pip install selenium\n",
    "\n",
    "- Finalmente, he abierto la Jupyter notebook. \n",
    "\n",
    "Los paquetes necesarios para este ejercicio los iré instalando desde la terminal"
   ]
  },
  {
   "cell_type": "markdown",
   "id": "2e1453ea",
   "metadata": {},
   "source": [
    "# Ejercicio 1\n",
    "\n",
    "## Beautiful soap - Aplicándolo con la web Quotes.toscrape.com\n",
    "\n",
    "En primer lugar, empezaré haciendo un web scrapping con requests y creando un objeto de **beautiful soup**. He utilizado como referencia información que he encontrado en: https://www.kirenz.com/post/2022-05-02-web-scraping-in-python-with-beautiful-soup-requests-and-pandas/"
   ]
  },
  {
   "cell_type": "code",
   "execution_count": 1,
   "id": "4dca7398",
   "metadata": {},
   "outputs": [],
   "source": [
    "import requests\n",
    "from bs4 import BeautifulSoup\n",
    "\n",
    "URL = \"http://quotes.toscrape.com/\" #establezco la URL\n",
    "page = requests.get(URL) #retorna el contenido de la dirección URL \n",
    "\n",
    "soup = BeautifulSoup(page.content, \"html.parser\") #creamos un objeto que contiene la info de la página de manera estructurada"
   ]
  },
  {
   "cell_type": "code",
   "execution_count": 2,
   "id": "e1d4bf64",
   "metadata": {},
   "outputs": [
    {
     "name": "stdout",
     "output_type": "stream",
     "text": [
      "<!DOCTYPE html>\n",
      "\n",
      "<html lang=\"en\">\n",
      "<head>\n",
      "<meta charset=\"utf-8\"/>\n",
      "<title>Quotes to Scrape</title>\n",
      "<link href=\"/static/bootstrap.min.css\" rel=\"stylesheet\"/>\n",
      "<link href=\"/static/main.css\" rel=\"stylesheet\"/>\n",
      "</head>\n",
      "<body>\n",
      "<div class=\"container\">\n",
      "<div class=\"row header-box\">\n",
      "<div class=\"col-md-8\">\n",
      "<h1>\n",
      "<a href=\"/\" style=\"text-decoration: none\">Quotes to Scrape</a>\n",
      "</h1>\n",
      "</div>\n",
      "<div class=\"col-md-4\">\n",
      "<p>\n",
      "<a href=\"/login\">Login</a>\n",
      "</p>\n",
      "</div>\n",
      "</div>\n",
      "<div class=\"row\">\n",
      "<div class=\"col-md-8\">\n",
      "<div class=\"quote\" itemscope=\"\" itemtype=\"http://schema.org/CreativeWork\">\n",
      "<span class=\"text\" itemprop=\"text\">“The world as we have created it is a process of our thinking. It cannot be changed without changing our thinking.”</span>\n",
      "<span>by <small class=\"author\" itemprop=\"author\">Albert Einstein</small>\n",
      "<a href=\"/author/Albert-Einstein\">(about)</a>\n",
      "</span>\n",
      "<div class=\"tags\">\n",
      "            Tags:\n",
      "            <meta class=\"keywords\" content=\"change,deep-thoughts,thinking,world\" itemprop=\"keywords\"/>\n",
      "<a class=\"tag\" href=\"/tag/change/page/1/\">change</a>\n",
      "<a class=\"tag\" href=\"/tag/deep-thoughts/page/1/\">deep-thoughts</a>\n",
      "<a class=\"tag\" href=\"/tag/thinking/page/1/\">thinking</a>\n",
      "<a class=\"tag\" href=\"/tag/world/page/1/\">world</a>\n",
      "</div>\n",
      "</div>\n",
      "<div class=\"quote\" itemscope=\"\" itemtype=\"http://schema.org/CreativeWork\">\n",
      "<span class=\"text\" itemprop=\"text\">“It is our choices, Harry, that show what we truly are, far more than our abilities.”</span>\n",
      "<span>by <small class=\"author\" itemprop=\"author\">J.K. Rowling</small>\n",
      "<a href=\"/author/J-K-Rowling\">(about)</a>\n",
      "</span>\n",
      "<div class=\"tags\">\n",
      "            Tags:\n",
      "            <meta class=\"keywords\" content=\"abilities,choices\" itemprop=\"keywords\"/>\n",
      "<a class=\"tag\" href=\"/tag/abilities/page/1/\">abilities</a>\n",
      "<a class=\"tag\" href=\"/tag/choices/page/1/\">choices</a>\n",
      "</div>\n",
      "</div>\n",
      "<div class=\"quote\" itemscope=\"\" itemtype=\"http://schema.org/CreativeWork\">\n",
      "<span class=\"text\" itemprop=\"text\">“There are only two ways to live your life. One is as though nothing is a miracle. The other is as though everything is a miracle.”</span>\n",
      "<span>by <small class=\"author\" itemprop=\"author\">Albert Einstein</small>\n",
      "<a href=\"/author/Albert-Einstein\">(about)</a>\n",
      "</span>\n",
      "<div class=\"tags\">\n",
      "            Tags:\n",
      "            <meta class=\"keywords\" content=\"inspirational,life,live,miracle,miracles\" itemprop=\"keywords\"/>\n",
      "<a class=\"tag\" href=\"/tag/inspirational/page/1/\">inspirational</a>\n",
      "<a class=\"tag\" href=\"/tag/life/page/1/\">life</a>\n",
      "<a class=\"tag\" href=\"/tag/live/page/1/\">live</a>\n",
      "<a class=\"tag\" href=\"/tag/miracle/page/1/\">miracle</a>\n",
      "<a class=\"tag\" href=\"/tag/miracles/page/1/\">miracles</a>\n",
      "</div>\n",
      "</div>\n",
      "<div class=\"quote\" itemscope=\"\" itemtype=\"http://schema.org/CreativeWork\">\n",
      "<span class=\"text\" itemprop=\"text\">“The person, be it gentleman or lady, who has not pleasure in a good novel, must be intolerably stupid.”</span>\n",
      "<span>by <small class=\"author\" itemprop=\"author\">Jane Austen</small>\n",
      "<a href=\"/author/Jane-Austen\">(about)</a>\n",
      "</span>\n",
      "<div class=\"tags\">\n",
      "            Tags:\n",
      "            <meta class=\"keywords\" content=\"aliteracy,books,classic,humor\" itemprop=\"keywords\"/>\n",
      "<a class=\"tag\" href=\"/tag/aliteracy/page/1/\">aliteracy</a>\n",
      "<a class=\"tag\" href=\"/tag/books/page/1/\">books</a>\n",
      "<a class=\"tag\" href=\"/tag/classic/page/1/\">classic</a>\n",
      "<a class=\"tag\" href=\"/tag/humor/page/1/\">humor</a>\n",
      "</div>\n",
      "</div>\n",
      "<div class=\"quote\" itemscope=\"\" itemtype=\"http://schema.org/CreativeWork\">\n",
      "<span class=\"text\" itemprop=\"text\">“Imperfection is beauty, madness is genius and it's better to be absolutely ridiculous than absolutely boring.”</span>\n",
      "<span>by <small class=\"author\" itemprop=\"author\">Marilyn Monroe</small>\n",
      "<a href=\"/author/Marilyn-Monroe\">(about)</a>\n",
      "</span>\n",
      "<div class=\"tags\">\n",
      "            Tags:\n",
      "            <meta class=\"keywords\" content=\"be-yourself,inspirational\" itemprop=\"keywords\"/>\n",
      "<a class=\"tag\" href=\"/tag/be-yourself/page/1/\">be-yourself</a>\n",
      "<a class=\"tag\" href=\"/tag/inspirational/page/1/\">inspirational</a>\n",
      "</div>\n",
      "</div>\n",
      "<div class=\"quote\" itemscope=\"\" itemtype=\"http://schema.org/CreativeWork\">\n",
      "<span class=\"text\" itemprop=\"text\">“Try not to become a man of success. Rather become a man of value.”</span>\n",
      "<span>by <small class=\"author\" itemprop=\"author\">Albert Einstein</small>\n",
      "<a href=\"/author/Albert-Einstein\">(about)</a>\n",
      "</span>\n",
      "<div class=\"tags\">\n",
      "            Tags:\n",
      "            <meta class=\"keywords\" content=\"adulthood,success,value\" itemprop=\"keywords\"/>\n",
      "<a class=\"tag\" href=\"/tag/adulthood/page/1/\">adulthood</a>\n",
      "<a class=\"tag\" href=\"/tag/success/page/1/\">success</a>\n",
      "<a class=\"tag\" href=\"/tag/value/page/1/\">value</a>\n",
      "</div>\n",
      "</div>\n",
      "<div class=\"quote\" itemscope=\"\" itemtype=\"http://schema.org/CreativeWork\">\n",
      "<span class=\"text\" itemprop=\"text\">“It is better to be hated for what you are than to be loved for what you are not.”</span>\n",
      "<span>by <small class=\"author\" itemprop=\"author\">André Gide</small>\n",
      "<a href=\"/author/Andre-Gide\">(about)</a>\n",
      "</span>\n",
      "<div class=\"tags\">\n",
      "            Tags:\n",
      "            <meta class=\"keywords\" content=\"life,love\" itemprop=\"keywords\"/>\n",
      "<a class=\"tag\" href=\"/tag/life/page/1/\">life</a>\n",
      "<a class=\"tag\" href=\"/tag/love/page/1/\">love</a>\n",
      "</div>\n",
      "</div>\n",
      "<div class=\"quote\" itemscope=\"\" itemtype=\"http://schema.org/CreativeWork\">\n",
      "<span class=\"text\" itemprop=\"text\">“I have not failed. I've just found 10,000 ways that won't work.”</span>\n",
      "<span>by <small class=\"author\" itemprop=\"author\">Thomas A. Edison</small>\n",
      "<a href=\"/author/Thomas-A-Edison\">(about)</a>\n",
      "</span>\n",
      "<div class=\"tags\">\n",
      "            Tags:\n",
      "            <meta class=\"keywords\" content=\"edison,failure,inspirational,paraphrased\" itemprop=\"keywords\"/>\n",
      "<a class=\"tag\" href=\"/tag/edison/page/1/\">edison</a>\n",
      "<a class=\"tag\" href=\"/tag/failure/page/1/\">failure</a>\n",
      "<a class=\"tag\" href=\"/tag/inspirational/page/1/\">inspirational</a>\n",
      "<a class=\"tag\" href=\"/tag/paraphrased/page/1/\">paraphrased</a>\n",
      "</div>\n",
      "</div>\n",
      "<div class=\"quote\" itemscope=\"\" itemtype=\"http://schema.org/CreativeWork\">\n",
      "<span class=\"text\" itemprop=\"text\">“A woman is like a tea bag; you never know how strong it is until it's in hot water.”</span>\n",
      "<span>by <small class=\"author\" itemprop=\"author\">Eleanor Roosevelt</small>\n",
      "<a href=\"/author/Eleanor-Roosevelt\">(about)</a>\n",
      "</span>\n",
      "<div class=\"tags\">\n",
      "            Tags:\n",
      "            <meta class=\"keywords\" content=\"misattributed-eleanor-roosevelt\" itemprop=\"keywords\"/>\n",
      "<a class=\"tag\" href=\"/tag/misattributed-eleanor-roosevelt/page/1/\">misattributed-eleanor-roosevelt</a>\n",
      "</div>\n",
      "</div>\n",
      "<div class=\"quote\" itemscope=\"\" itemtype=\"http://schema.org/CreativeWork\">\n",
      "<span class=\"text\" itemprop=\"text\">“A day without sunshine is like, you know, night.”</span>\n",
      "<span>by <small class=\"author\" itemprop=\"author\">Steve Martin</small>\n",
      "<a href=\"/author/Steve-Martin\">(about)</a>\n",
      "</span>\n",
      "<div class=\"tags\">\n",
      "            Tags:\n",
      "            <meta class=\"keywords\" content=\"humor,obvious,simile\" itemprop=\"keywords\"/>\n",
      "<a class=\"tag\" href=\"/tag/humor/page/1/\">humor</a>\n",
      "<a class=\"tag\" href=\"/tag/obvious/page/1/\">obvious</a>\n",
      "<a class=\"tag\" href=\"/tag/simile/page/1/\">simile</a>\n",
      "</div>\n",
      "</div>\n",
      "<nav>\n",
      "<ul class=\"pager\">\n",
      "<li class=\"next\">\n",
      "<a href=\"/page/2/\">Next <span aria-hidden=\"true\">→</span></a>\n",
      "</li>\n",
      "</ul>\n",
      "</nav>\n",
      "</div>\n",
      "<div class=\"col-md-4 tags-box\">\n",
      "<h2>Top Ten tags</h2>\n",
      "<span class=\"tag-item\">\n",
      "<a class=\"tag\" href=\"/tag/love/\" style=\"font-size: 28px\">love</a>\n",
      "</span>\n",
      "<span class=\"tag-item\">\n",
      "<a class=\"tag\" href=\"/tag/inspirational/\" style=\"font-size: 26px\">inspirational</a>\n",
      "</span>\n",
      "<span class=\"tag-item\">\n",
      "<a class=\"tag\" href=\"/tag/life/\" style=\"font-size: 26px\">life</a>\n",
      "</span>\n",
      "<span class=\"tag-item\">\n",
      "<a class=\"tag\" href=\"/tag/humor/\" style=\"font-size: 24px\">humor</a>\n",
      "</span>\n",
      "<span class=\"tag-item\">\n",
      "<a class=\"tag\" href=\"/tag/books/\" style=\"font-size: 22px\">books</a>\n",
      "</span>\n",
      "<span class=\"tag-item\">\n",
      "<a class=\"tag\" href=\"/tag/reading/\" style=\"font-size: 14px\">reading</a>\n",
      "</span>\n",
      "<span class=\"tag-item\">\n",
      "<a class=\"tag\" href=\"/tag/friendship/\" style=\"font-size: 10px\">friendship</a>\n",
      "</span>\n",
      "<span class=\"tag-item\">\n",
      "<a class=\"tag\" href=\"/tag/friends/\" style=\"font-size: 8px\">friends</a>\n",
      "</span>\n",
      "<span class=\"tag-item\">\n",
      "<a class=\"tag\" href=\"/tag/truth/\" style=\"font-size: 8px\">truth</a>\n",
      "</span>\n",
      "<span class=\"tag-item\">\n",
      "<a class=\"tag\" href=\"/tag/simile/\" style=\"font-size: 6px\">simile</a>\n",
      "</span>\n",
      "</div>\n",
      "</div>\n",
      "</div>\n",
      "<footer class=\"footer\">\n",
      "<div class=\"container\">\n",
      "<p class=\"text-muted\">\n",
      "                Quotes by: <a href=\"https://www.goodreads.com/quotes\">GoodReads.com</a>\n",
      "</p>\n",
      "<p class=\"copyright\">\n",
      "                Made with <span class=\"sh-red\">❤</span> by <a href=\"https://scrapinghub.com\">Scrapinghub</a>\n",
      "</p>\n",
      "</div>\n",
      "</footer>\n",
      "</body>\n",
      "</html>\n"
     ]
    }
   ],
   "source": [
    "print(soup)"
   ]
  },
  {
   "cell_type": "code",
   "execution_count": 3,
   "id": "f7e82eaf",
   "metadata": {},
   "outputs": [
    {
     "data": {
      "text/plain": [
       "<title>Quotes to Scrape</title>"
      ]
     },
     "execution_count": 3,
     "metadata": {},
     "output_type": "execute_result"
    }
   ],
   "source": [
    "soup.title #Título del objeto"
   ]
  },
  {
   "cell_type": "markdown",
   "id": "55adcc8a",
   "metadata": {},
   "source": [
    "Ahora que hemos comprobado que la información se retorna correctamente, veamos cómo podemos acceder a categorías concretas. Si nos fijamos en el código, veremos que la información que queremos scrapear está asociada a unos tags. De momento, y con ayuda de las herramientas para desarrolladores que ofrece Chrome, podemos observar que cada cuadro de citas está asociado a la clase \"quote\". Veamos:"
   ]
  },
  {
   "cell_type": "code",
   "execution_count": 4,
   "id": "10c76244",
   "metadata": {},
   "outputs": [
    {
     "name": "stdout",
     "output_type": "stream",
     "text": [
      "[<div class=\"quote\" itemscope=\"\" itemtype=\"http://schema.org/CreativeWork\">\n",
      "<span class=\"text\" itemprop=\"text\">“The world as we have created it is a process of our thinking. It cannot be changed without changing our thinking.”</span>\n",
      "<span>by <small class=\"author\" itemprop=\"author\">Albert Einstein</small>\n",
      "<a href=\"/author/Albert-Einstein\">(about)</a>\n",
      "</span>\n",
      "<div class=\"tags\">\n",
      "            Tags:\n",
      "            <meta class=\"keywords\" content=\"change,deep-thoughts,thinking,world\" itemprop=\"keywords\"/>\n",
      "<a class=\"tag\" href=\"/tag/change/page/1/\">change</a>\n",
      "<a class=\"tag\" href=\"/tag/deep-thoughts/page/1/\">deep-thoughts</a>\n",
      "<a class=\"tag\" href=\"/tag/thinking/page/1/\">thinking</a>\n",
      "<a class=\"tag\" href=\"/tag/world/page/1/\">world</a>\n",
      "</div>\n",
      "</div>, <div class=\"quote\" itemscope=\"\" itemtype=\"http://schema.org/CreativeWork\">\n",
      "<span class=\"text\" itemprop=\"text\">“It is our choices, Harry, that show what we truly are, far more than our abilities.”</span>\n",
      "<span>by <small class=\"author\" itemprop=\"author\">J.K. Rowling</small>\n",
      "<a href=\"/author/J-K-Rowling\">(about)</a>\n",
      "</span>\n",
      "<div class=\"tags\">\n",
      "            Tags:\n",
      "            <meta class=\"keywords\" content=\"abilities,choices\" itemprop=\"keywords\"/>\n",
      "<a class=\"tag\" href=\"/tag/abilities/page/1/\">abilities</a>\n",
      "<a class=\"tag\" href=\"/tag/choices/page/1/\">choices</a>\n",
      "</div>\n",
      "</div>, <div class=\"quote\" itemscope=\"\" itemtype=\"http://schema.org/CreativeWork\">\n",
      "<span class=\"text\" itemprop=\"text\">“There are only two ways to live your life. One is as though nothing is a miracle. The other is as though everything is a miracle.”</span>\n",
      "<span>by <small class=\"author\" itemprop=\"author\">Albert Einstein</small>\n",
      "<a href=\"/author/Albert-Einstein\">(about)</a>\n",
      "</span>\n",
      "<div class=\"tags\">\n",
      "            Tags:\n",
      "            <meta class=\"keywords\" content=\"inspirational,life,live,miracle,miracles\" itemprop=\"keywords\"/>\n",
      "<a class=\"tag\" href=\"/tag/inspirational/page/1/\">inspirational</a>\n",
      "<a class=\"tag\" href=\"/tag/life/page/1/\">life</a>\n",
      "<a class=\"tag\" href=\"/tag/live/page/1/\">live</a>\n",
      "<a class=\"tag\" href=\"/tag/miracle/page/1/\">miracle</a>\n",
      "<a class=\"tag\" href=\"/tag/miracles/page/1/\">miracles</a>\n",
      "</div>\n",
      "</div>, <div class=\"quote\" itemscope=\"\" itemtype=\"http://schema.org/CreativeWork\">\n",
      "<span class=\"text\" itemprop=\"text\">“The person, be it gentleman or lady, who has not pleasure in a good novel, must be intolerably stupid.”</span>\n",
      "<span>by <small class=\"author\" itemprop=\"author\">Jane Austen</small>\n",
      "<a href=\"/author/Jane-Austen\">(about)</a>\n",
      "</span>\n",
      "<div class=\"tags\">\n",
      "            Tags:\n",
      "            <meta class=\"keywords\" content=\"aliteracy,books,classic,humor\" itemprop=\"keywords\"/>\n",
      "<a class=\"tag\" href=\"/tag/aliteracy/page/1/\">aliteracy</a>\n",
      "<a class=\"tag\" href=\"/tag/books/page/1/\">books</a>\n",
      "<a class=\"tag\" href=\"/tag/classic/page/1/\">classic</a>\n",
      "<a class=\"tag\" href=\"/tag/humor/page/1/\">humor</a>\n",
      "</div>\n",
      "</div>, <div class=\"quote\" itemscope=\"\" itemtype=\"http://schema.org/CreativeWork\">\n",
      "<span class=\"text\" itemprop=\"text\">“Imperfection is beauty, madness is genius and it's better to be absolutely ridiculous than absolutely boring.”</span>\n",
      "<span>by <small class=\"author\" itemprop=\"author\">Marilyn Monroe</small>\n",
      "<a href=\"/author/Marilyn-Monroe\">(about)</a>\n",
      "</span>\n",
      "<div class=\"tags\">\n",
      "            Tags:\n",
      "            <meta class=\"keywords\" content=\"be-yourself,inspirational\" itemprop=\"keywords\"/>\n",
      "<a class=\"tag\" href=\"/tag/be-yourself/page/1/\">be-yourself</a>\n",
      "<a class=\"tag\" href=\"/tag/inspirational/page/1/\">inspirational</a>\n",
      "</div>\n",
      "</div>, <div class=\"quote\" itemscope=\"\" itemtype=\"http://schema.org/CreativeWork\">\n",
      "<span class=\"text\" itemprop=\"text\">“Try not to become a man of success. Rather become a man of value.”</span>\n",
      "<span>by <small class=\"author\" itemprop=\"author\">Albert Einstein</small>\n",
      "<a href=\"/author/Albert-Einstein\">(about)</a>\n",
      "</span>\n",
      "<div class=\"tags\">\n",
      "            Tags:\n",
      "            <meta class=\"keywords\" content=\"adulthood,success,value\" itemprop=\"keywords\"/>\n",
      "<a class=\"tag\" href=\"/tag/adulthood/page/1/\">adulthood</a>\n",
      "<a class=\"tag\" href=\"/tag/success/page/1/\">success</a>\n",
      "<a class=\"tag\" href=\"/tag/value/page/1/\">value</a>\n",
      "</div>\n",
      "</div>, <div class=\"quote\" itemscope=\"\" itemtype=\"http://schema.org/CreativeWork\">\n",
      "<span class=\"text\" itemprop=\"text\">“It is better to be hated for what you are than to be loved for what you are not.”</span>\n",
      "<span>by <small class=\"author\" itemprop=\"author\">André Gide</small>\n",
      "<a href=\"/author/Andre-Gide\">(about)</a>\n",
      "</span>\n",
      "<div class=\"tags\">\n",
      "            Tags:\n",
      "            <meta class=\"keywords\" content=\"life,love\" itemprop=\"keywords\"/>\n",
      "<a class=\"tag\" href=\"/tag/life/page/1/\">life</a>\n",
      "<a class=\"tag\" href=\"/tag/love/page/1/\">love</a>\n",
      "</div>\n",
      "</div>, <div class=\"quote\" itemscope=\"\" itemtype=\"http://schema.org/CreativeWork\">\n",
      "<span class=\"text\" itemprop=\"text\">“I have not failed. I've just found 10,000 ways that won't work.”</span>\n",
      "<span>by <small class=\"author\" itemprop=\"author\">Thomas A. Edison</small>\n",
      "<a href=\"/author/Thomas-A-Edison\">(about)</a>\n",
      "</span>\n",
      "<div class=\"tags\">\n",
      "            Tags:\n",
      "            <meta class=\"keywords\" content=\"edison,failure,inspirational,paraphrased\" itemprop=\"keywords\"/>\n",
      "<a class=\"tag\" href=\"/tag/edison/page/1/\">edison</a>\n",
      "<a class=\"tag\" href=\"/tag/failure/page/1/\">failure</a>\n",
      "<a class=\"tag\" href=\"/tag/inspirational/page/1/\">inspirational</a>\n",
      "<a class=\"tag\" href=\"/tag/paraphrased/page/1/\">paraphrased</a>\n",
      "</div>\n",
      "</div>, <div class=\"quote\" itemscope=\"\" itemtype=\"http://schema.org/CreativeWork\">\n",
      "<span class=\"text\" itemprop=\"text\">“A woman is like a tea bag; you never know how strong it is until it's in hot water.”</span>\n",
      "<span>by <small class=\"author\" itemprop=\"author\">Eleanor Roosevelt</small>\n",
      "<a href=\"/author/Eleanor-Roosevelt\">(about)</a>\n",
      "</span>\n",
      "<div class=\"tags\">\n",
      "            Tags:\n",
      "            <meta class=\"keywords\" content=\"misattributed-eleanor-roosevelt\" itemprop=\"keywords\"/>\n",
      "<a class=\"tag\" href=\"/tag/misattributed-eleanor-roosevelt/page/1/\">misattributed-eleanor-roosevelt</a>\n",
      "</div>\n",
      "</div>, <div class=\"quote\" itemscope=\"\" itemtype=\"http://schema.org/CreativeWork\">\n",
      "<span class=\"text\" itemprop=\"text\">“A day without sunshine is like, you know, night.”</span>\n",
      "<span>by <small class=\"author\" itemprop=\"author\">Steve Martin</small>\n",
      "<a href=\"/author/Steve-Martin\">(about)</a>\n",
      "</span>\n",
      "<div class=\"tags\">\n",
      "            Tags:\n",
      "            <meta class=\"keywords\" content=\"humor,obvious,simile\" itemprop=\"keywords\"/>\n",
      "<a class=\"tag\" href=\"/tag/humor/page/1/\">humor</a>\n",
      "<a class=\"tag\" href=\"/tag/obvious/page/1/\">obvious</a>\n",
      "<a class=\"tag\" href=\"/tag/simile/page/1/\">simile</a>\n",
      "</div>\n",
      "</div>]\n"
     ]
    }
   ],
   "source": [
    "quotes = soup.find_all('div', {'class': 'quote'}) \n",
    "print(quotes)"
   ]
  },
  {
   "cell_type": "markdown",
   "id": "65f2c899",
   "metadata": {},
   "source": [
    "Ahora, para cada una de las quote (es decir, cada uno de los cuadrados con citas que contiene la web) vamos a extraer la frase, el autor y los tags asociados. Para ello haremos: "
   ]
  },
  {
   "cell_type": "code",
   "execution_count": 5,
   "id": "3499dd32",
   "metadata": {},
   "outputs": [
    {
     "name": "stdout",
     "output_type": "stream",
     "text": [
      "“The world as we have created it is a process of our thinking. It cannot be changed without changing our thinking.”\n",
      "“It is our choices, Harry, that show what we truly are, far more than our abilities.”\n",
      "“There are only two ways to live your life. One is as though nothing is a miracle. The other is as though everything is a miracle.”\n",
      "“The person, be it gentleman or lady, who has not pleasure in a good novel, must be intolerably stupid.”\n",
      "“Imperfection is beauty, madness is genius and it's better to be absolutely ridiculous than absolutely boring.”\n",
      "“Try not to become a man of success. Rather become a man of value.”\n",
      "“It is better to be hated for what you are than to be loved for what you are not.”\n",
      "“I have not failed. I've just found 10,000 ways that won't work.”\n",
      "“A woman is like a tea bag; you never know how strong it is until it's in hot water.”\n",
      "“A day without sunshine is like, you know, night.”\n"
     ]
    }
   ],
   "source": [
    "for i in quotes:\n",
    "    print((i.find('span', {'class':'text'})).text)"
   ]
  },
  {
   "cell_type": "code",
   "execution_count": 6,
   "id": "d0f71865",
   "metadata": {},
   "outputs": [
    {
     "name": "stdout",
     "output_type": "stream",
     "text": [
      "Albert Einstein\n",
      "J.K. Rowling\n",
      "Albert Einstein\n",
      "Jane Austen\n",
      "Marilyn Monroe\n",
      "Albert Einstein\n",
      "André Gide\n",
      "Thomas A. Edison\n",
      "Eleanor Roosevelt\n",
      "Steve Martin\n"
     ]
    }
   ],
   "source": [
    "for i in quotes:\n",
    "    print((i.find('small', {'class':'author'})).text)"
   ]
  },
  {
   "cell_type": "code",
   "execution_count": 7,
   "id": "d3667866",
   "metadata": {},
   "outputs": [
    {
     "name": "stdout",
     "output_type": "stream",
     "text": [
      "\n",
      "            Tags:\n",
      "            \n",
      "change\n",
      "deep-thoughts\n",
      "thinking\n",
      "world\n",
      "\n",
      "\n",
      "            Tags:\n",
      "            \n",
      "abilities\n",
      "choices\n",
      "\n",
      "\n",
      "            Tags:\n",
      "            \n",
      "inspirational\n",
      "life\n",
      "live\n",
      "miracle\n",
      "miracles\n",
      "\n",
      "\n",
      "            Tags:\n",
      "            \n",
      "aliteracy\n",
      "books\n",
      "classic\n",
      "humor\n",
      "\n",
      "\n",
      "            Tags:\n",
      "            \n",
      "be-yourself\n",
      "inspirational\n",
      "\n",
      "\n",
      "            Tags:\n",
      "            \n",
      "adulthood\n",
      "success\n",
      "value\n",
      "\n",
      "\n",
      "            Tags:\n",
      "            \n",
      "life\n",
      "love\n",
      "\n",
      "\n",
      "            Tags:\n",
      "            \n",
      "edison\n",
      "failure\n",
      "inspirational\n",
      "paraphrased\n",
      "\n",
      "\n",
      "            Tags:\n",
      "            \n",
      "misattributed-eleanor-roosevelt\n",
      "\n",
      "\n",
      "            Tags:\n",
      "            \n",
      "humor\n",
      "obvious\n",
      "simile\n",
      "\n"
     ]
    }
   ],
   "source": [
    "for i in quotes:\n",
    "    print((i.find('div', {'class':'tags'})).text)"
   ]
  },
  {
   "cell_type": "markdown",
   "id": "c5d6c817",
   "metadata": {},
   "source": [
    "Genial! Ahora pongamos toda la información de manera conjunta. Podemos crear arrays vacíos e ir añadiendo las citas, los autores y los tags:"
   ]
  },
  {
   "cell_type": "code",
   "execution_count": 8,
   "id": "756fb8f4",
   "metadata": {},
   "outputs": [],
   "source": [
    "quotes = []\n",
    "authors = []\n",
    "tags = []\n",
    "\n",
    "for i in soup.findAll(\"div\",{\"class\":\"quote\"}):\n",
    "    quotes.append((i.find(\"span\",{\"class\":\"text\"})).text)  \n",
    "   \n",
    "for j in soup.findAll(\"div\",{\"class\":\"quote\"}):\n",
    "    authors.append((j.find(\"small\",{\"class\":\"author\"})).text)    \n",
    "        \n",
    "for k in soup.findAll(\"div\",{\"class\":\"tags\"}):\n",
    "    tags.append((k.find(\"meta\"))['content'])"
   ]
  },
  {
   "cell_type": "code",
   "execution_count": 9,
   "id": "cb86788e",
   "metadata": {},
   "outputs": [
    {
     "name": "stdout",
     "output_type": "stream",
     "text": [
      "['Albert Einstein', 'J.K. Rowling', 'Albert Einstein', 'Jane Austen', 'Marilyn Monroe', 'Albert Einstein', 'André Gide', 'Thomas A. Edison', 'Eleanor Roosevelt', 'Steve Martin']\n"
     ]
    }
   ],
   "source": [
    "print(authors)"
   ]
  },
  {
   "cell_type": "markdown",
   "id": "00e6543f",
   "metadata": {},
   "source": [
    "Y finalmente, si queremos poner toda la información de manera conjunta, importaremos la librería pandas y generaremos un dataframe:"
   ]
  },
  {
   "cell_type": "code",
   "execution_count": 10,
   "id": "e0361e24",
   "metadata": {},
   "outputs": [
    {
     "name": "stdout",
     "output_type": "stream",
     "text": [
      "                                              Quotes            Authors  \\\n",
      "0  “The world as we have created it is a process ...    Albert Einstein   \n",
      "1  “It is our choices, Harry, that show what we t...       J.K. Rowling   \n",
      "2  “There are only two ways to live your life. On...    Albert Einstein   \n",
      "3  “The person, be it gentleman or lady, who has ...        Jane Austen   \n",
      "4  “Imperfection is beauty, madness is genius and...     Marilyn Monroe   \n",
      "5  “Try not to become a man of success. Rather be...    Albert Einstein   \n",
      "6  “It is better to be hated for what you are tha...         André Gide   \n",
      "7  “I have not failed. I've just found 10,000 way...   Thomas A. Edison   \n",
      "8  “A woman is like a tea bag; you never know how...  Eleanor Roosevelt   \n",
      "9  “A day without sunshine is like, you know, nig...       Steve Martin   \n",
      "\n",
      "                                       Tags  \n",
      "0       change,deep-thoughts,thinking,world  \n",
      "1                         abilities,choices  \n",
      "2  inspirational,life,live,miracle,miracles  \n",
      "3             aliteracy,books,classic,humor  \n",
      "4                 be-yourself,inspirational  \n",
      "5                   adulthood,success,value  \n",
      "6                                 life,love  \n",
      "7  edison,failure,inspirational,paraphrased  \n",
      "8           misattributed-eleanor-roosevelt  \n",
      "9                      humor,obvious,simile  \n"
     ]
    }
   ],
   "source": [
    "import pandas as pd\n",
    "\n",
    "df = pd.DataFrame(\n",
    "    {'Quotes':quotes,\n",
    "     'Authors':authors,\n",
    "     'Tags':tags\n",
    "    })\n",
    "\n",
    "print(df)"
   ]
  },
  {
   "cell_type": "markdown",
   "id": "e22acadf",
   "metadata": {},
   "source": [
    "# Ejercicio 1\n",
    "\n",
    "## Selenium - Aplicándolo con la web bolsamadrid.com\n",
    "\n",
    "Recursos utilizados (para cómo instalar el webdriver y para entender mejor los comandos):\n",
    "\n",
    "https://github.com/SergeyPirogov/webdriver_manager\n",
    "\n",
    "https://www.scrapingbee.com/blog/selenium-python/\n",
    "\n",
    "En primer lugar, empezaré instalando el driver necesario para utilizar Selenium:"
   ]
  },
  {
   "cell_type": "code",
   "execution_count": 11,
   "id": "e43a1b6b",
   "metadata": {},
   "outputs": [],
   "source": [
    "from selenium import webdriver\n",
    "from selenium.webdriver.common.keys import Keys\n",
    "from selenium.webdriver.common.by import By"
   ]
  },
  {
   "cell_type": "code",
   "execution_count": 12,
   "id": "b4d10f19",
   "metadata": {},
   "outputs": [
    {
     "name": "stdout",
     "output_type": "stream",
     "text": [
      "Requirement already satisfied: webdriver-manager in c:\\users\\rakel\\anaconda3\\envs\\itacademy\\lib\\site-packages (3.8.5)\n",
      "Requirement already satisfied: packaging in c:\\users\\rakel\\anaconda3\\envs\\itacademy\\lib\\site-packages (from webdriver-manager) (22.0)\n",
      "Requirement already satisfied: requests in c:\\users\\rakel\\anaconda3\\envs\\itacademy\\lib\\site-packages (from webdriver-manager) (2.28.1)\n",
      "Requirement already satisfied: tqdm in c:\\users\\rakel\\anaconda3\\envs\\itacademy\\lib\\site-packages (from webdriver-manager) (4.64.1)\n",
      "Requirement already satisfied: python-dotenv in c:\\users\\rakel\\anaconda3\\envs\\itacademy\\lib\\site-packages (from webdriver-manager) (0.21.1)\n",
      "Requirement already satisfied: urllib3<1.27,>=1.21.1 in c:\\users\\rakel\\anaconda3\\envs\\itacademy\\lib\\site-packages (from requests->webdriver-manager) (1.26.14)\n",
      "Requirement already satisfied: charset-normalizer<3,>=2 in c:\\users\\rakel\\anaconda3\\envs\\itacademy\\lib\\site-packages (from requests->webdriver-manager) (2.0.4)\n",
      "Requirement already satisfied: certifi>=2017.4.17 in c:\\users\\rakel\\anaconda3\\envs\\itacademy\\lib\\site-packages (from requests->webdriver-manager) (2022.12.7)\n",
      "Requirement already satisfied: idna<4,>=2.5 in c:\\users\\rakel\\anaconda3\\envs\\itacademy\\lib\\site-packages (from requests->webdriver-manager) (3.4)\n",
      "Requirement already satisfied: colorama in c:\\users\\rakel\\anaconda3\\envs\\itacademy\\lib\\site-packages (from tqdm->webdriver-manager) (0.4.6)\n",
      "Note: you may need to restart the kernel to use updated packages.\n"
     ]
    }
   ],
   "source": [
    "pip install webdriver-manager #instalo el driver"
   ]
  },
  {
   "cell_type": "code",
   "execution_count": 70,
   "id": "81c86071",
   "metadata": {},
   "outputs": [
    {
     "name": "stdout",
     "output_type": "stream",
     "text": [
      "4.8.2\n"
     ]
    }
   ],
   "source": [
    "import selenium\n",
    "print(selenium.__version__) #compruebo la versión de selenium, ya que según la versión usaré un código y otro"
   ]
  },
  {
   "cell_type": "code",
   "execution_count": 14,
   "id": "b58e1926",
   "metadata": {},
   "outputs": [
    {
     "name": "stderr",
     "output_type": "stream",
     "text": [
      "[WDM] - Downloading: 100%|██████████| 6.78M/6.78M [00:00<00:00, 20.9MB/s]\n"
     ]
    }
   ],
   "source": [
    "from selenium.webdriver.chrome.service import Service as ChromeService #Usaré el buscador Chrome\n",
    "from webdriver_manager.chrome import ChromeDriverManager\n",
    "\n",
    "driver = webdriver.Chrome(service=ChromeService(ChromeDriverManager().install()))"
   ]
  },
  {
   "cell_type": "code",
   "execution_count": 105,
   "id": "8c79b409",
   "metadata": {},
   "outputs": [],
   "source": [
    "driver = webdriver.Chrome() #Establezco el driver"
   ]
  },
  {
   "cell_type": "markdown",
   "id": "76c350a2",
   "metadata": {},
   "source": [
    "Ahora empezaremos con el scraping. En primer lugar, vayamos a la web de bolsa madrid:"
   ]
  },
  {
   "cell_type": "code",
   "execution_count": 35,
   "id": "87fe2c70",
   "metadata": {},
   "outputs": [],
   "source": [
    "driver.get(\"https://www.bolsamadrid.es\") #voy a la web"
   ]
  },
  {
   "cell_type": "code",
   "execution_count": 36,
   "id": "155dca80",
   "metadata": {},
   "outputs": [
    {
     "name": "stdout",
     "output_type": "stream",
     "text": [
      "Bolsa de Madrid | BME Exchange\n"
     ]
    }
   ],
   "source": [
    "title = driver.title\n",
    "print(title) #saco el título. Todo ok! El navegador por su parte está funcionando correctamente"
   ]
  },
  {
   "cell_type": "markdown",
   "id": "ae0a31c6",
   "metadata": {},
   "source": [
    "Ahora vamos a intentar extraer el cuerpo de texto que se ve en la página principal de la web:"
   ]
  },
  {
   "cell_type": "code",
   "execution_count": 45,
   "id": "9e3423bf",
   "metadata": {},
   "outputs": [
    {
     "name": "stdout",
     "output_type": "stream",
     "text": [
      "<selenium.webdriver.remote.webelement.WebElement (session=\"b7cecb642ab47b76c7b972f128b41d9c\", element=\"65db2ed7-2253-4569-a754-fed11b6d128c\")>\n"
     ]
    }
   ],
   "source": [
    "text_box = driver.find_element(by=By.ID, value=\"main-content\") \n",
    "#buscamos el primer elemento que tiene una ID en la cual pone \"main content\"\n",
    "print(text_box)"
   ]
  },
  {
   "cell_type": "markdown",
   "id": "19d4a163",
   "metadata": {},
   "source": [
    "Aquí tenemos la ubicación! Si queremos imprimir el texto que contiene deberíamos hacer:"
   ]
  },
  {
   "cell_type": "code",
   "execution_count": 47,
   "id": "76f0fef3",
   "metadata": {},
   "outputs": [
    {
     "name": "stdout",
     "output_type": "stream",
     "text": [
      "La Bolsa de Madrid fue creada en 1831, hace más de 190 años, lo que la convierte en una de las instituciones financieras más antiguas de España. A lo largo de su dilatada historia, la Bolsa de Madrid ha jugado un papel decisivo en la historia de España, sorteando largos ciclos industriales y económicos de auge con otros caracterizados por las crisis y las caídas, pero actuando siempre como un auténtico barómetro de la evolución económica de España. La Bolsa de Madrid ha jugado un rol crucial en el desarrollo de España y de su economía, ya que canaliza el ahorro hacia la inversión productiva y ayuda a la generación de riqueza. Como mercado secundario, la Bolsa ofrece a los inversores la oportunidad de convertir sus acciones en efectivo cuando lo deseen. La liquidez, como uno de los principales atributos de cualquier mercado, permite realizar cualquier operación con independencia de su carácter de corto, medio o largo plazo de la inversión y la Bolsa de Madrid sigue manteniendo una fuerte cuota de mercado para los valores españoles.\n",
      "Leer más\n",
      "ENLACES RÁPIDOS\n",
      "Sobre nosotros\n",
      "El Palacio de la Bolsa\n",
      "Miembros\n",
      "Protector del Inversor\n",
      "Boletín diario\n",
      "Regulación\n",
      "Tarifas\n",
      "IBEX 35\n",
      "MERCADO Y COTIZACIONES\n",
      "ESTADÍSTICAS\n",
      "INFORME DE MERCADO\n",
      "Informe de Mercado 2022\n",
      "Principales estadísticas de los mercados de BME durante 2022.\n",
      "Leer informe\n",
      "APERTURAS DE HONOR\n",
      "Toques de Campana\n",
      "Ver todas\n",
      "INFORME\n",
      "Informe sobre la propiedad de las acciones cotizadas\n",
      "Leer informe\n",
      "EDUCACIÓN FINANCIERA\n",
      "Día de la Educación Financiera\n",
      "Saber más\n",
      "PRÓXIMOS EVENTOS\n",
      "¿Te interesa el mundo de la inversión?\n",
      "Te invitamos a nuestro Curso de Iniciación a la Inversión en Bolsa, en colaboración con SelfBank. \n",
      "¡Plazas limitadas!\n",
      "Inscríbete ahora\n",
      "PALACIO DE LA BOLSA DE MADRID\n",
      "Visita el Palacio y descubre su historia y sus secretos.\n",
      "Visitas guiadas\n",
      "Tour virtual\n",
      "Alquiler de Espacios\n",
      "CONTACTO\n",
      "¡Hablemos!\n",
      "Para más información o preguntas sobre nuestros servicios. No dudes en contactar con nosotros. Estamos aquí para ayudarte.\n",
      "Contáctanos\n"
     ]
    }
   ],
   "source": [
    "print(text_box.text)"
   ]
  },
  {
   "cell_type": "markdown",
   "id": "7edddceb",
   "metadata": {},
   "source": [
    "Todo correcto! Pero en el caso de la ciencia de datos lo que nos interesa es eso, datos! Vayamos al link que contiene los datos del IBEX35:"
   ]
  },
  {
   "cell_type": "code",
   "execution_count": 48,
   "id": "fc05d56b",
   "metadata": {},
   "outputs": [],
   "source": [
    "driver.get('https://www.bolsasymercados.es/bme-exchange/es/Mercados-y-Cotizaciones/Acciones/Mercado-Continuo/Precios/ibex-35-ES0SI0000005')"
   ]
  },
  {
   "cell_type": "markdown",
   "id": "1a350bea",
   "metadata": {},
   "source": [
    "En esta página encontramos los datos del IBEX35, que se actualizan de manera constante.\n",
    "\n",
    "Ahora, encontremos los datos que nos interesan. Empecemos buscando el primer elemento en función de su clase, indicando que se trata de una tabla \"responsiva\""
   ]
  },
  {
   "cell_type": "code",
   "execution_count": 55,
   "id": "bf6b33da",
   "metadata": {},
   "outputs": [
    {
     "name": "stdout",
     "output_type": "stream",
     "text": [
      "IBEX 35®\n",
      "Índice Último % Dif. Máximo Mínimo Fecha Hora % Dif. Año\n",
      "IBEX 35® 9.207,10 0,38% 9.221,60 9.179,50 23/02/2023 10:54:19 11,88%\n"
     ]
    }
   ],
   "source": [
    "tablita  = driver.find_element(by=By.CLASS_NAME, value=\"table-responsive\")\n",
    "print(tablita.text)"
   ]
  },
  {
   "cell_type": "markdown",
   "id": "9ae66db3",
   "metadata": {},
   "source": [
    "Obtenemos los datos globales que aparecen en la tabla superior. Pero a mi me interesaría la tabla de abajo, que contiene los datos desglosados para cada una de las empresas. Para ello, voy a añadir un plural para localizar todos los elementos que pertenecen a la clase indicada. Después, como sé que se trata en la segunda tabla, exportaré los datos del segundo elemento de la lista:"
   ]
  },
  {
   "cell_type": "code",
   "execution_count": 63,
   "id": "60fdd8b9",
   "metadata": {},
   "outputs": [
    {
     "name": "stdout",
     "output_type": "stream",
     "text": [
      "23 febrero 2023 10:57:03\n",
      "Nombre Último % Dif. Máximo Mínimo Volumen Efectivo (miles €) Fecha Hora\n",
      "ACCIONA 181,8000 -0,60% 183,5000 180,7000 13.416 2.440,06 23/02/2023 10:56:35\n",
      "ACCIONA ENER 36,6400 -0,16% 36,9200 36,1600 44.700 1.630,73 23/02/2023 10:56:38\n",
      "ACERINOX 9,9340 0,73% 9,9460 9,8380 177.889 1.759,55 23/02/2023 10:56:47\n",
      "ACS 26,8200 0,34% 26,8200 26,5700 107.633 2.874,06 23/02/2023 10:55:00\n",
      "AENA 140,1000 1,41% 140,8500 138,8000 35.867 5.007,10 23/02/2023 10:55:12\n",
      "AMADEUS 55,7800 1,09% 56,1000 55,0400 113.026 6.294,57 23/02/2023 10:54:33\n",
      "ARCELORMIT. 28,3200 0,60% 28,3300 28,0800 49.451 1.394,90 23/02/2023 10:52:30\n",
      "B.SANTANDER 3,5000 0,95% 3,5080 3,4720 15.556.625 53.413,83 23/02/2023 10:56:15\n",
      "BA.SABADELL 1,1590 0,09% 1,1660 1,1525 3.774.350 4.370,15 23/02/2023 10:55:34\n",
      "BANKINTER 6,4500 -0,28% 6,5220 6,4240 511.597 3.301,31 23/02/2023 10:56:02\n",
      "BBVA 6,9870 0,58% 6,9920 6,9610 1.258.757 8.784,28 23/02/2023 10:56:30\n",
      "CAIXABANK 3,9190 0,08% 3,9270 3,8890 1.968.275 7.691,56 23/02/2023 10:56:35\n",
      "CELLNEX 37,0200 -0,16% 37,3700 36,9600 150.306 5.582,37 23/02/2023 10:56:16\n",
      "ENAGAS 16,8600 0,69% 16,9100 16,7850 162.513 2.739,71 23/02/2023 10:51:13\n",
      "ENDESA 18,6000 -0,37% 18,6650 18,4550 86.130 1.598,68 23/02/2023 10:53:23\n",
      "FERROVIAL 25,9700 0,82% 26,0700 25,6000 257.042 6.661,57 23/02/2023 10:56:09\n",
      "FLUIDRA 16,4300 0,61% 16,5600 16,3000 105.553 1.735,78 23/02/2023 10:41:11\n",
      "GRIFOLS CL.A 12,9450 0,82% 13,0600 12,8600 476.108 6.161,92 23/02/2023 10:56:31\n",
      "IAG 1,8700 4,00% 1,8770 1,8035 6.435.440 11.920,31 23/02/2023 10:56:30\n",
      "IBERDROLA 10,9300 -0,27% 10,9800 10,8800 1.831.906 20.002,21 23/02/2023 10:55:31\n",
      "INDITEX 28,2700 -0,77% 28,6300 28,2400 368.942 10.500,06 23/02/2023 10:55:24\n",
      "INDRA A 11,8800 1,89% 11,8900 11,7200 118.268 1.398,15 23/02/2023 10:47:04\n",
      "INM.COLONIAL 6,6100 1,15% 6,6450 6,5550 270.271 1.786,29 23/02/2023 10:55:00\n",
      "LOGISTA 23,8000 -0,92% 24,0600 23,7400 46.874 1.118,70 23/02/2023 10:50:14\n",
      "MAPFRE 1,9750 0,92% 1,9770 1,9550 634.363 1.247,44 23/02/2023 10:55:57\n",
      "MELIA HOTELS 6,0300 1,60% 6,0450 5,9000 307.805 1.847,60 23/02/2023 10:55:33\n",
      "MERLIN 8,9850 0,67% 9,0100 8,9400 142.964 1.282,62 23/02/2023 10:54:23\n",
      "NATURGY 26,0600 -0,04% 26,1300 26,0000 9.489 247,32 23/02/2023 10:48:57\n",
      "R.E.C. 16,1300 -0,19% 16,1700 16,0900 58.026 935,71 23/02/2023 10:54:34\n",
      "REPSOL 14,7100 -0,17% 14,7550 14,6250 315.640 4.637,99 23/02/2023 10:56:34\n",
      "ROVI 42,9200 -0,46% 43,2000 42,1600 128.926 5.359,16 23/02/2023 10:52:54\n",
      "SACYR 2,9260 -0,88% 2,9520 2,9220 1.144.910 3.353,02 23/02/2023 10:54:45\n",
      "SOLARIA 17,4350 -0,60% 17,5500 16,9200 225.846 3.894,86 23/02/2023 10:54:30\n",
      "TELEFONICA 3,8610 1,37% 3,9570 3,8030 9.159.263 35.675,64 23/02/2023 10:56:46\n",
      "UNICAJA 1,1600 1,49% 1,1610 1,1440 1.280.867 1.477,19 23/02/2023 10:42:33\n"
     ]
    }
   ],
   "source": [
    "tablitas = driver.find_elements(by=By.CLASS_NAME, value=\"table-responsive\") #encuentro todos los elementos\n",
    "\n",
    "tabla_glob=[] #array vacío\n",
    "tabla_glob=tablitas[1] #meto el segundo elemento\n",
    "\n",
    "print(tabla_glob.text) #compruebo el texto de este segundo elemento"
   ]
  },
  {
   "cell_type": "markdown",
   "id": "a663fcb8",
   "metadata": {},
   "source": [
    "Efectivamente, esos son los datos que quiero! Imaginando que querría los datos para un posterior preprocesado, lo que haré será exportar el texto a un nuevo array y separar los datos de cada una de las empresas usando un método para strings:"
   ]
  },
  {
   "cell_type": "code",
   "execution_count": 69,
   "id": "9ed92dab",
   "metadata": {},
   "outputs": [
    {
     "data": {
      "text/plain": [
       "['23 febrero 2023 11:04:56',\n",
       " 'Nombre Último % Dif. Máximo Mínimo Volumen Efectivo (miles €) Fecha Hora',\n",
       " 'ACCIONA 182,0000 -0,49% 183,5000 180,7000 13.827 2.514,83 23/02/2023 11:04:33',\n",
       " 'ACCIONA ENER 36,7600 0,16% 36,9200 36,1600 47.019 1.715,83 23/02/2023 10:59:28',\n",
       " 'ACERINOX 9,9360 0,75% 9,9460 9,8380 180.365 1.784,15 23/02/2023 11:03:52',\n",
       " 'ACS 26,8300 0,37% 26,8300 26,5700 109.585 2.926,43 23/02/2023 11:04:39',\n",
       " 'AENA 140,1000 1,41% 140,8500 138,8000 35.908 5.012,85 23/02/2023 11:02:48',\n",
       " 'AMADEUS 55,6600 0,87% 56,1000 55,0400 114.548 6.379,35 23/02/2023 11:04:33',\n",
       " 'ARCELORMIT. 28,2650 0,41% 28,3300 28,0800 49.744 1.403,18 23/02/2023 11:02:25',\n",
       " 'B.SANTANDER 3,5020 1,01% 3,5080 3,4720 15.626.283 53.657,55 23/02/2023 11:04:39',\n",
       " 'BA.SABADELL 1,1585 0,04% 1,1660 1,1525 3.919.779 4.538,53 23/02/2023 11:04:27',\n",
       " 'BANKINTER 6,4540 -0,22% 6,5220 6,4240 536.905 3.464,59 23/02/2023 11:04:27',\n",
       " 'BBVA 6,9940 0,68% 6,9950 6,9610 1.309.788 9.140,91 23/02/2023 11:04:38',\n",
       " 'CAIXABANK 3,9250 0,23% 3,9270 3,8890 1.993.327 7.789,80 23/02/2023 11:04:25',\n",
       " 'CELLNEX 37,0200 -0,16% 37,3700 36,9600 180.837 6.712,20 23/02/2023 11:03:37',\n",
       " 'ENAGAS 16,8650 0,72% 16,9100 16,7850 166.476 2.806,54 23/02/2023 11:03:52',\n",
       " 'ENDESA 18,6050 -0,35% 18,6650 18,4550 87.100 1.616,72 23/02/2023 11:02:36',\n",
       " 'FERROVIAL 26,0000 0,93% 26,0700 25,6000 263.481 6.828,91 23/02/2023 11:02:48',\n",
       " 'FLUIDRA 16,4600 0,80% 16,5600 16,3000 107.963 1.775,43 23/02/2023 10:59:20',\n",
       " 'GRIFOLS CL.A 12,9600 0,93% 13,0600 12,8600 486.945 6.302,20 23/02/2023 11:04:25',\n",
       " 'IAG 1,8630 3,62% 1,8770 1,8035 6.720.040 12.450,95 23/02/2023 11:03:53',\n",
       " 'IBERDROLA 10,9200 -0,36% 10,9800 10,8800 1.863.824 20.350,98 23/02/2023 11:03:16',\n",
       " 'INDITEX 28,2600 -0,81% 28,6300 28,2300 378.789 10.778,22 23/02/2023 11:04:31',\n",
       " 'INDRA A 11,8500 1,63% 11,8900 11,7200 121.382 1.435,07 23/02/2023 11:01:02',\n",
       " 'INM.COLONIAL 6,6050 1,07% 6,6450 6,5550 274.291 1.812,84 23/02/2023 11:02:50',\n",
       " 'LOGISTA 23,8200 -0,83% 24,0600 23,7400 47.158 1.125,46 23/02/2023 11:04:27',\n",
       " 'MAPFRE 1,9750 0,92% 1,9770 1,9550 688.124 1.353,60 23/02/2023 11:04:08',\n",
       " 'MELIA HOTELS 6,0100 1,26% 6,0450 5,9000 313.143 1.879,74 23/02/2023 11:04:32',\n",
       " 'MERLIN 8,9750 0,56% 9,0100 8,9400 146.690 1.316,08 23/02/2023 11:04:05',\n",
       " 'NATURGY 26,1000 0,12% 26,1300 26,0000 10.636 277,23 23/02/2023 11:01:52',\n",
       " 'R.E.C. 16,1400 -0,12% 16,1700 16,0900 58.919 950,11 23/02/2023 11:02:48',\n",
       " 'REPSOL 14,6800 -0,37% 14,7550 14,6250 326.859 4.802,85 23/02/2023 11:04:39',\n",
       " 'ROVI 42,9400 -0,42% 43,2000 42,1600 131.844 5.484,42 23/02/2023 11:04:28',\n",
       " 'SACYR 2,9220 -1,02% 2,9520 2,9220 1.147.765 3.361,37 23/02/2023 11:01:15',\n",
       " 'SOLARIA 17,4900 -0,29% 17,5500 16,9200 227.613 3.925,72 23/02/2023 11:03:34',\n",
       " 'TELEFONICA 3,8460 0,97% 3,9570 3,8030 9.690.675 37.722,36 23/02/2023 11:04:36',\n",
       " 'UNICAJA 1,1600 1,49% 1,1610 1,1440 1.359.598 1.568,51 23/02/2023 11:04:18']"
      ]
     },
     "execution_count": 69,
     "metadata": {},
     "output_type": "execute_result"
    }
   ],
   "source": [
    "textotabla=[]\n",
    "textotabla=tabla_glob.text #datos en formato texto - string\n",
    "textotabla.splitlines() #separo los datos de cada línea (correspondientes a las distintas empresas)"
   ]
  },
  {
   "cell_type": "code",
   "execution_count": 71,
   "id": "66d0eb1d",
   "metadata": {},
   "outputs": [],
   "source": [
    "# driver.quit() En el caso que terminemos, deberíamos apagar la sesión del driver. "
   ]
  },
  {
   "cell_type": "markdown",
   "id": "d894290b",
   "metadata": {},
   "source": [
    "# Ejercicio 1\n",
    "\n",
    "## Selenium - Aplicándolo con la web wikipedia.com"
   ]
  },
  {
   "cell_type": "markdown",
   "id": "6767ce74",
   "metadata": {},
   "source": [
    "Como última parte de este ejercicio número 1, voy a hacer scrapping de una búsqueda de wikipedia. Volveré a realizarla con Selenium, para seguir practicando con esta librería. \n",
    "\n",
    "Recursos utilizados: https://medium.com/hackerdawn/scraping-from-wikipedia-using-python-and-selenium-3d64af60975d\n",
    "\n",
    "Voy a extraer información específica de algunos apartados. Haré una búsqueda previa:"
   ]
  },
  {
   "cell_type": "code",
   "execution_count": 73,
   "id": "95f988ed",
   "metadata": {},
   "outputs": [],
   "source": [
    "driver.get(\"https://en.wikipedia.org/wiki/Tardigrade\") #voy a la web y busco información sobre los tardígrados"
   ]
  },
  {
   "cell_type": "markdown",
   "id": "b2adef9f",
   "metadata": {},
   "source": [
    "Para guardar párrafos específicos, en este caso lo que haré será utilizar las herramientas de desarrollador de chrome para copiar los XPATH de cada uno de los párrafos que me interesan. De esta manera, importaré información acerca del hábitat, la fisiología y la resistencia de estos animales."
   ]
  },
  {
   "cell_type": "code",
   "execution_count": 91,
   "id": "f9dea53c",
   "metadata": {},
   "outputs": [
    {
     "name": "stdout",
     "output_type": "stream",
     "text": [
      "Tardigrades are often found on lichens and mosses, for example by soaking a piece of moss in water.[17] Other environments in which they are found include dunes and coasts generally, soil, leaf litter, and marine or freshwater sediments, where they may occur quite frequently, up to 25,000 animals per litre (95,000 animals per gallon). One tardigrade, Echiniscoides wyethi,[18] may be found on barnacles.[19]\n"
     ]
    }
   ],
   "source": [
    "infobox_Habitat = driver.find_element(by=By.XPATH, value='//*[@id=\"mw-content-text\"]/div[1]/p[7]') \n",
    "#buscamos el primer elemento que tiene una ID en la cual pone \"main content\"\n",
    "print(infobox_Habitat.text)\n",
    "habitat_tar=[]\n",
    "habitat_tar=infobox_Habitat.text"
   ]
  },
  {
   "cell_type": "code",
   "execution_count": 92,
   "id": "e7c61889",
   "metadata": {},
   "outputs": [
    {
     "name": "stdout",
     "output_type": "stream",
     "text": [
      "Tardigrades are thought to be able to survive even complete global mass extinction events caused by astrophysical events, such as gamma-ray bursts, or large meteorite impacts.[9][10] Some of them can withstand extremely cold temperatures down to 0.01 K (−460 °F; −273 °C) (close to absolute zero), while others can withstand extremely hot temperatures up to 420 K (300 °F; 150 °C)[36] for several minutes, pressures about six times greater than those found in the deepest ocean trenches, ionizing radiation at doses hundreds of times higher than the lethal dose for a human, and the vacuum of outer space.[37] Tardigrades that live in harsh conditions undergo an annual process of cyclomorphosis, allowing for survival in subzero temperatures.[38]\n"
     ]
    }
   ],
   "source": [
    "infobox_physiology=driver.find_element(by=By.XPATH,value='//*[@id=\"mw-content-text\"]/div[1]/p[24]')\n",
    "print(infobox_physiology.text)\n",
    "physio_tar=[]\n",
    "physio_tar=infobox_physiology.text"
   ]
  },
  {
   "cell_type": "code",
   "execution_count": 93,
   "id": "137935e1",
   "metadata": {},
   "outputs": [
    {
     "name": "stdout",
     "output_type": "stream",
     "text": [
      "Pressure – they can withstand the extremely low pressure of a vacuum and also very high pressures, more than 1,200 times atmospheric pressure. Some species can also withstand pressure of 6,000 atmospheres, which is nearly six times the pressure of water in the deepest ocean trench, the Mariana Trench.[22] Tardigrades can survive altitudes of over 19,600 feet (6,000 meters) and to depths of over 15,000 feet (4,600 m) below the surface.\n",
      "Impacts – tardigrades can survive impacts up to about 900 meters per second, and momentary shock pressures up to about 1.14 gigapascals.[60]\n",
      "Dehydration – the longest that living tardigrades have been shown to survive in a dry state is nearly 10 years,[42][43] although there is one report of leg movement, not generally considered \"survival\",[61] in a 120-year-old specimen from dried moss.[62] When exposed to extremely low temperatures, their body composition goes from 85% water to only 3%. Because water expands upon freezing, dehydration ensures the tardigrades' tissues are not ruptured by the expansion of freezing ice.[63]\n",
      "Radiation – tardigrades can withstand 1,000 times more radiation than other animals,[64] median lethal doses of 5,000 Gy (of gamma rays) and 6,200 Gy (of heavy ions) in hydrated animals (5 to 10 Gy could be fatal to a human).[65] The only explanation found in earlier experiments for this ability was that their lowered water state provides fewer reactants for ionizing radiation.[65] However, subsequent research found that tardigrades, when hydrated, still remain highly resistant to shortwave UV radiation in comparison to other animals, and that one factor for this is their efficient ability to repair damage to their DNA resulting from that exposure.[66]\n"
     ]
    }
   ],
   "source": [
    "infobox_res=driver.find_element(by=By.XPATH,value='//*[@id=\"mw-content-text\"]/div[1]/ul[2]')\n",
    "print(infobox_res.text)\n",
    "res_tar=[]\n",
    "res_tar=infobox_physiology.text"
   ]
  },
  {
   "cell_type": "code",
   "execution_count": 100,
   "id": "62ef31b5",
   "metadata": {},
   "outputs": [
    {
     "name": "stdout",
     "output_type": "stream",
     "text": [
      "['HABITAT: Tardigrades are often found on lichens and mosses, for example by soaking a piece of moss in water.[17] Other environments in which they are found include dunes and coasts generally, soil, leaf litter, and marine or freshwater sediments, where they may occur quite frequently, up to 25,000 animals per litre (95,000 animals per gallon). One tardigrade, Echiniscoides wyethi,[18] may be found on barnacles.[19]\\n', 'PHYSIOLOGY:  Tardigrades are thought to be able to survive even complete global mass extinction events caused by astrophysical events, such as gamma-ray bursts, or large meteorite impacts.[9][10] Some of them can withstand extremely cold temperatures down to 0.01 K (−460 °F; −273 °C) (close to absolute zero), while others can withstand extremely hot temperatures up to 420 K (300 °F; 150 °C)[36] for several minutes, pressures about six times greater than those found in the deepest ocean trenches, ionizing radiation at doses hundreds of times higher than the lethal dose for a human, and the vacuum of outer space.[37] Tardigrades that live in harsh conditions undergo an annual process of cyclomorphosis, allowing for survival in subzero temperatures.[38]', 'RESISTANCE Tardigrades are thought to be able to survive even complete global mass extinction events caused by astrophysical events, such as gamma-ray bursts, or large meteorite impacts.[9][10] Some of them can withstand extremely cold temperatures down to 0.01 K (−460 °F; −273 °C) (close to absolute zero), while others can withstand extremely hot temperatures up to 420 K (300 °F; 150 °C)[36] for several minutes, pressures about six times greater than those found in the deepest ocean trenches, ionizing radiation at doses hundreds of times higher than the lethal dose for a human, and the vacuum of outer space.[37] Tardigrades that live in harsh conditions undergo an annual process of cyclomorphosis, allowing for survival in subzero temperatures.[38]']\n"
     ]
    }
   ],
   "source": [
    "global_info=[]\n",
    "global_info.append('HABITAT:'+ ' ' + habitat_tar )\n",
    "global_info.append('PHYSIOLOGY: '+ ' ' + physio_tar)\n",
    "global_info.append('RESISTANCE' + ' '+res_tar)\n",
    "print(global_info) #Y aquí tendríamos una lista que contiene las 3 strings que hemos extraído de la web"
   ]
  },
  {
   "cell_type": "markdown",
   "id": "e5b61071",
   "metadata": {},
   "source": [
    "# Ejercicio 2\n",
    "\n",
    "Para este ejercicio, he escrito un sumario en un word que explica los resultados del ejercicio 1. Lo adjunto en esta misma carpeta."
   ]
  },
  {
   "cell_type": "markdown",
   "id": "ca24e918",
   "metadata": {},
   "source": [
    "# Ejercicio 3\n",
    "\n",
    "Para este ejercicio, he elegido la página web del ayuntamiento de Barcelona\n",
    "\n",
    "El link es el siguiente: https://ajuntament.barcelona.cat/estadistica/castella/Estadistiques_per_temes/Treball_i_teixit_productiu/Treball/EPA/epa/patu/evtatterr.htm\n",
    "\n",
    "Empezaré trabajando con **SELENIUM**"
   ]
  },
  {
   "cell_type": "code",
   "execution_count": 106,
   "id": "3f9db685",
   "metadata": {},
   "outputs": [],
   "source": [
    "driver.get('https://ajuntament.barcelona.cat/estadistica/castella/Estadistiques_per_temes/Treball_i_teixit_productiu/Treball/EPA/epa/patu/evtatterr.htm')"
   ]
  },
  {
   "cell_type": "code",
   "execution_count": 107,
   "id": "9a7b61e4",
   "metadata": {},
   "outputs": [
    {
     "name": "stdout",
     "output_type": "stream",
     "text": [
      "1. Población desocupada\n",
      "7. Evolución de la tasa de paro en Barcelona y otros ámbitos territoriales\n",
      "Período        Barcelona   Provincia  \n",
      "de Barcelona   Cataluña   España  \n",
      "                     Año 2002               \n",
      "     1er. trimestre   11,9   11,1   10,8   11,6  \n",
      "     2º trimestre   10,7   9,8   9,5   11,2  \n",
      "     3er. trimestre    11,5   10,8   9,8   11,5  \n",
      "     4º trimestre    12,4   11,4   10,6   11,6  \n",
      "Año 2003               \n",
      "     1er. trimestre    13,0   11,3   10,7   12,0  \n",
      "     2º trimestre    12,3   11,3   10,5   11,3  \n",
      "     3er. trimestre    11,9   10,8   10,0   11,3  \n",
      "     4º trimestre    9,4   10,0   9,7   11,4  \n",
      "Año 2004               \n",
      "     1er. trimestre    11,7   10,9   10,4   11,5  \n",
      "     2º trimestre    11,5   10,3   9,8   11,1  \n",
      "     3er. trimestre    11,6   10,4   9,4   10,7  \n",
      "     4º trimestre    10,8   9,9   9,3   10,5  \n",
      "Año 2005               \n",
      "     1er. trimestre    8,8   8,0   7,8   10,2  \n",
      "     2º trimestre    8,2   7,1   7,1   9,3  \n",
      "     3er. trimestre    5,7   6,0   6,1   8,4  \n",
      "     4º trimestre    6,9   6,5   6,6   8,7  \n",
      "Año 2006               \n",
      "     1er. trimestre    7,3   7,0   6,9   9,0  \n",
      "     2º trimestre    7,0   6,2   6,3   8,4  \n",
      "     3er. trimestre    5,6   6,3   6,2   8,1  \n",
      "     4º trimestre    6,1   6,7   6,6   8,3  \n",
      "Año 2007               \n",
      "     1er. trimestre    6,7   6,5   6,7   8,4  \n",
      "     2º trimestre    6,7   6,2   6,1   7,9  \n",
      "     3er. trimestre    6,4   7,1   6,7   8,0  \n",
      "     4º trimestre    5,5   6,4   6,5   8,6  \n",
      "Año 2008               \n",
      "     1er. trimestre    7,1   7,5   7,5   9,6  \n",
      "     2º trimestre    6,7   7,1   7,5   10,4  \n",
      "     3er. trimestre    7,6   8,5   8,8   11,2  \n",
      "     4º trimestre    8,0   11,4   11,8   13,8  \n",
      "Año 2009               \n",
      "     1er. trimestre    13,1   15,8   16,2   17,2  \n",
      "     2º trimestre    12,7   16,2   15,9   17,8  \n",
      "     3er. trimestre    13,2   16,0   15,9   17,8  \n",
      "     4º trimestre    15,0   16,9   16,9   18,7  \n",
      "Año 2010               \n",
      "     1er. trimestre    15,1   17,8   17,9   19,8  \n",
      "     2º trimestre    16,9   17,6   17,6   19,9  \n",
      "     3er. trimestre    16,9   17,7   17,3   19,6  \n",
      "     4º trimestre    15,9   17,8   17,9   20,1  \n",
      "Año 2011               \n",
      "     1er. trimestre    15,9   18,9   18,9   21,1  \n",
      "     2º trimestre    14,1   17,9   17,9   20,6  \n",
      "     3er. trimestre    16,5   19,6   19,4   21,3  \n",
      "     4º trimestre    16,8   20,1   20,4   22,6  \n",
      "Año 2012               \n",
      "     1er. trimestre    17,6   21,5   22,0   24,2  \n",
      "     2º trimestre    17,1   21,6   21,8   24,4  \n",
      "     3er. trimestre    18,7   23,0   22,5   24,8  \n",
      "     4º trimestre    18,6   24,0   23,8   25,8  \n",
      "Año 2013               \n",
      "     1er. trimestre    18,0   24,4   24,5   26,9  \n",
      "     2º trimestre    18,1   23,7   23,6   26,1  \n",
      "     3er. trimestre    17,9   23,0   22,6   25,7  \n",
      "     4º trimestre    17,0   21,4   21,9   25,7  \n",
      "Año 2014               \n",
      "     1er. trimestre    18,7   21,6   22,1   25,9  \n",
      "     2º trimestre    17,0   19,7   20,2   24,5  \n",
      "     3er. trimestre    16,1   19,1   19,1   23,7  \n",
      "     4º trimestre    16,3   19,5   19,9   23,7  \n",
      "Año 2015               \n",
      "     1er. trimestre    14,9   19,6   20,1   23,8  \n",
      "     2º trimestre    13,8   19,0   19,1   22,4  \n",
      "     3er. trimestre    13,9   17,2   17,5   21,2  \n",
      "     4º trimestre    13,1   17,1   17,7   20,9  \n",
      "Año 2016               \n",
      "     1er. trimestre    13,3   17,1   17,4   21,0  \n",
      "     2º trimestre    13,3   15,7   16,0   20,0  \n",
      "     3er. trimestre    11,9   14,5   14,6   18,9  \n",
      "     4º trimestre    11,5   14,7   14,9   18,6  \n",
      "Año 2017               \n",
      "     1er. trimestre    11,8   14,8   15,4   18,9  \n",
      "     2º trimestre    10,2   13,1   13,3   17,3  \n",
      "     3er. trimestre    11,6   12,7   12,6   16,5  \n",
      "     4º trimestre    10,0   12,1   12,6   16,6  \n",
      "Año 2018               \n",
      "     1er. trimestre    10,2   11,6   12,2   16,7  \n",
      "     2º trimestre    9,3   10,9   11,4   15,3  \n",
      "     3er. trimestre    9,1   10,6   10,6   14,6  \n",
      "     4º trimestre    10,2   11,3   11,8   14,5  \n",
      "Año 2019               \n",
      "     1er. trimestre    9,4   10,9   11,6   14,7  \n",
      "     2º trimestre    9,7   10,9   11,2   14,0  \n",
      "     3er. trimestre    9,4   11,3   10,9   13,9  \n",
      "     4º trimestre    8,5   10.47   10.45   13.78  \n",
      "Año 2020               \n",
      "     1er. trimestre    9,1   10,6   10,7   14,4  \n",
      "     2º trimestre    11,2   12,5   12,8   15,3  \n",
      "     3er. trimestre    12,8   13,4   13,2   16,3  \n",
      "     4º trimestre    12,4   13,7   13,9   16,1  \n",
      "Año 2021               \n",
      "     1er. trimestre    11,1   12,4   12,9   16,0  \n",
      "     2º trimestre    10,6   12,2   12,3   15,3  \n",
      "     3er. trimestre    10,0   10,8   10,9   14,6  \n",
      "     4º trimestre    6,6   9,6   10,2   13,3  \n",
      "Año 2022               \n",
      "     1er. trimestre    7,3   10,1   10,2   13,7  \n",
      "     2º trimestre    6,6   9,2   9,3   12,5  \n",
      "     3er. trimestre    7,3   9,3   9,3   12,7  \n",
      "     4º trimestre    9,0   10,2   9,9   12,9  \n",
      "  Nota: El año 2014 ha cambiado la base poblacional. Los datos del período 2002-2013 se han revisado con la nueva base de población, para poder establecer comparaciones.\n",
      "  Fuente: Encuesta de Población Activa. INE\n"
     ]
    }
   ],
   "source": [
    "tabla_paro=driver.find_element(by=By.XPATH,value='/html/body/table/tbody/tr[2]/td[2]/table/tbody')\n",
    "print(tabla_paro.text)"
   ]
  },
  {
   "cell_type": "markdown",
   "id": "689a0ca7",
   "metadata": {},
   "source": [
    "Si quisiéramos guardar de manera independiente cada entrada de texto, podríamos iterar dentro de la tabla para guardar una lista de strings con los datos de la tabla:"
   ]
  },
  {
   "cell_type": "code",
   "execution_count": 123,
   "id": "4e53ca4e",
   "metadata": {},
   "outputs": [
    {
     "name": "stdout",
     "output_type": "stream",
     "text": [
      "['Período        Barcelona   Provincia  \\nde Barcelona   Cataluña   España  ', '', '                    ', 'Año 2002               ', '     1er. trimestre   11,9   11,1   10,8   11,6  ', '     2º trimestre   10,7   9,8   9,5   11,2  ', '     3er. trimestre    11,5   10,8   9,8   11,5  ', '     4º trimestre    12,4   11,4   10,6   11,6  ', 'Año 2003               ', '     1er. trimestre    13,0   11,3   10,7   12,0  ', '     2º trimestre    12,3   11,3   10,5   11,3  ', '     3er. trimestre    11,9   10,8   10,0   11,3  ', '     4º trimestre    9,4   10,0   9,7   11,4  ', 'Año 2004               ', '     1er. trimestre    11,7   10,9   10,4   11,5  ', '     2º trimestre    11,5   10,3   9,8   11,1  ', '     3er. trimestre    11,6   10,4   9,4   10,7  ', '     4º trimestre    10,8   9,9   9,3   10,5  ', 'Año 2005               ', '     1er. trimestre    8,8   8,0   7,8   10,2  ', '     2º trimestre    8,2   7,1   7,1   9,3  ', '     3er. trimestre    5,7   6,0   6,1   8,4  ', '     4º trimestre    6,9   6,5   6,6   8,7  ', 'Año 2006               ', '     1er. trimestre    7,3   7,0   6,9   9,0  ', '     2º trimestre    7,0   6,2   6,3   8,4  ', '     3er. trimestre    5,6   6,3   6,2   8,1  ', '     4º trimestre    6,1   6,7   6,6   8,3  ', 'Año 2007               ', '     1er. trimestre    6,7   6,5   6,7   8,4  ', '     2º trimestre    6,7   6,2   6,1   7,9  ', '     3er. trimestre    6,4   7,1   6,7   8,0  ', '     4º trimestre    5,5   6,4   6,5   8,6  ', 'Año 2008               ', '     1er. trimestre    7,1   7,5   7,5   9,6  ', '     2º trimestre    6,7   7,1   7,5   10,4  ', '     3er. trimestre    7,6   8,5   8,8   11,2  ', '     4º trimestre    8,0   11,4   11,8   13,8  ', 'Año 2009               ', '     1er. trimestre    13,1   15,8   16,2   17,2  ', '     2º trimestre    12,7   16,2   15,9   17,8  ', '     3er. trimestre    13,2   16,0   15,9   17,8  ', '     4º trimestre    15,0   16,9   16,9   18,7  ', 'Año 2010               ', '     1er. trimestre    15,1   17,8   17,9   19,8  ', '     2º trimestre    16,9   17,6   17,6   19,9  ', '     3er. trimestre    16,9   17,7   17,3   19,6  ', '     4º trimestre    15,9   17,8   17,9   20,1  ', 'Año 2011               ', '     1er. trimestre    15,9   18,9   18,9   21,1  ', '     2º trimestre    14,1   17,9   17,9   20,6  ', '     3er. trimestre    16,5   19,6   19,4   21,3  ', '     4º trimestre    16,8   20,1   20,4   22,6  ', 'Año 2012               ', '     1er. trimestre    17,6   21,5   22,0   24,2  ', '     2º trimestre    17,1   21,6   21,8   24,4  ', '     3er. trimestre    18,7   23,0   22,5   24,8  ', '     4º trimestre    18,6   24,0   23,8   25,8  ', 'Año 2013               ', '     1er. trimestre    18,0   24,4   24,5   26,9  ', '     2º trimestre    18,1   23,7   23,6   26,1  ', '     3er. trimestre    17,9   23,0   22,6   25,7  ', '     4º trimestre    17,0   21,4   21,9   25,7  ', 'Año 2014               ', '     1er. trimestre    18,7   21,6   22,1   25,9  ', '     2º trimestre    17,0   19,7   20,2   24,5  ', '     3er. trimestre    16,1   19,1   19,1   23,7  ', '     4º trimestre    16,3   19,5   19,9   23,7  ', 'Año 2015               ', '     1er. trimestre    14,9   19,6   20,1   23,8  ', '     2º trimestre    13,8   19,0   19,1   22,4  ', '     3er. trimestre    13,9   17,2   17,5   21,2  ', '     4º trimestre    13,1   17,1   17,7   20,9  ', 'Año 2016               ', '     1er. trimestre    13,3   17,1   17,4   21,0  ', '     2º trimestre    13,3   15,7   16,0   20,0  ', '     3er. trimestre    11,9   14,5   14,6   18,9  ', '     4º trimestre    11,5   14,7   14,9   18,6  ', 'Año 2017               ', '     1er. trimestre    11,8   14,8   15,4   18,9  ', '     2º trimestre    10,2   13,1   13,3   17,3  ', '     3er. trimestre    11,6   12,7   12,6   16,5  ', '     4º trimestre    10,0   12,1   12,6   16,6  ', 'Año 2018               ', '     1er. trimestre    10,2   11,6   12,2   16,7  ', '     2º trimestre    9,3   10,9   11,4   15,3  ', '     3er. trimestre    9,1   10,6   10,6   14,6  ', '     4º trimestre    10,2   11,3   11,8   14,5  ', 'Año 2019               ', '     1er. trimestre    9,4   10,9   11,6   14,7  ', '     2º trimestre    9,7   10,9   11,2   14,0  ', '     3er. trimestre    9,4   11,3   10,9   13,9  ', '     4º trimestre    8,5   10.47   10.45   13.78  ', 'Año 2020               ', '     1er. trimestre    9,1   10,6   10,7   14,4  ', '     2º trimestre    11,2   12,5   12,8   15,3  ', '     3er. trimestre    12,8   13,4   13,2   16,3  ', '     4º trimestre    12,4   13,7   13,9   16,1  ', 'Año 2021               ', '     1er. trimestre    11,1   12,4   12,9   16,0  ', '     2º trimestre    10,6   12,2   12,3   15,3  ', '     3er. trimestre    10,0   10,8   10,9   14,6  ', '     4º trimestre    6,6   9,6   10,2   13,3  ', 'Año 2022               ', '     1er. trimestre    7,3   10,1   10,2   13,7  ', '     2º trimestre    6,6   9,2   9,3   12,5  ', '     3er. trimestre    7,3   9,3   9,3   12,7  ', '     4º trimestre    9,0   10,2   9,9   12,9  ', '', ' ', 'Nota: El año 2014 ha cambiado la base poblacional. Los datos del período 2002-2013 se han revisado con la nueva base de población, para poder establecer comparaciones.', ' ', 'Fuente: Encuesta de Población Activa. INE']\n"
     ]
    }
   ],
   "source": [
    "tabla_parobcn=[]\n",
    "\n",
    "for i in tabla_paro.find_elements(by=By.XPATH, value='.//tr'):\n",
    "    tabla_parobcn.append(i.text)\n",
    "    \n",
    "del tabla_parobcn[0:4]\n",
    "\n",
    "print(tabla_parobcn)"
   ]
  },
  {
   "cell_type": "code",
   "execution_count": 124,
   "id": "937339f7",
   "metadata": {},
   "outputs": [],
   "source": [
    "driver.quit()"
   ]
  },
  {
   "cell_type": "markdown",
   "id": "daeaeaf0",
   "metadata": {},
   "source": [
    "He intentado usar **SCRAPY**, pero no he conseguido hacer nada decente... "
   ]
  }
 ],
 "metadata": {
  "kernelspec": {
   "display_name": "Python 3 (ipykernel)",
   "language": "python",
   "name": "python3"
  },
  "language_info": {
   "codemirror_mode": {
    "name": "ipython",
    "version": 3
   },
   "file_extension": ".py",
   "mimetype": "text/x-python",
   "name": "python",
   "nbconvert_exporter": "python",
   "pygments_lexer": "ipython3",
   "version": "3.9.16"
  }
 },
 "nbformat": 4,
 "nbformat_minor": 5
}
